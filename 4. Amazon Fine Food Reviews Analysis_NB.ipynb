{
 "cells": [
  {
   "cell_type": "markdown",
   "metadata": {
    "colab_type": "text",
    "id": "cyXEgMWtMQvM"
   },
   "source": [
    "# Amazon Fine Food Reviews Analysis\n",
    "\n",
    "\n",
    "Data Source: https://www.kaggle.com/snap/amazon-fine-food-reviews\n",
    "\n",
    "The Amazon Fine Food Reviews dataset consists of reviews of fine foods from Amazon.<br>\n",
    "\n",
    "Number of reviews: 568,454<br>\n",
    "Number of users: 256,059<br>\n",
    "Number of products: 74,258<br>\n",
    "Timespan: Oct 1999 - Oct 2012<br>\n",
    "Number of Attributes/Columns in data: 10 \n",
    "\n",
    "Attribute Information:\n",
    "\n",
    "1. Id\n",
    "2. ProductId - unique identifier for the product\n",
    "3. UserId - unqiue identifier for the user\n",
    "4. ProfileName\n",
    "5. HelpfulnessNumerator - number of users who found the review helpful\n",
    "6. HelpfulnessDenominator - number of users who indicated whether they found the review helpful or not\n",
    "7. Score - rating between 1 and 5\n",
    "8. Time - timestamp for the review\n",
    "9. Summary - brief summary of the review\n",
    "10. Text - text of the review\n",
    "\n",
    "\n",
    "<b>Objective:-</b>\n",
    "Given a review, determine whether the review is positive (Rating of 4 or 5) or negative (rating of 1 or 2).\n",
    "\n",
    "<br>\n",
    "[Q] How to determine if a review is positive or negative?<br>\n",
    "<br> \n",
    "[Ans] We could use the Score/Rating. A rating of 4 or 5 could be cosnidered a positive review. A review of 1 or 2 could be considered negative. A review of 3 is nuetral and ignored. This is an approximate and proxy way of determining the polarity (positivity/negativity) of a review.\n",
    "\n",
    "\n"
   ]
  },
  {
   "cell_type": "markdown",
   "metadata": {
    "colab_type": "text",
    "id": "nTN9VK62MQvN"
   },
   "source": [
    "## [1.1] Loading the data\n",
    "\n",
    "The dataset is available in two forms\n",
    "1. .csv file\n",
    "2. SQLite Database\n",
    "\n",
    "In order to load the data, We have used the SQLITE dataset as it easier to query the data and visualise the data efficiently.\n",
    "<br> \n",
    "\n",
    "Here as we only want to get the global sentiment of the recommendations (positive or negative), we will purposefully ignore all Scores equal to 3. If the score id above 3, then the recommendation wil be set to \"positive\". Otherwise, it will be set to \"negative\"."
   ]
  },
  {
   "cell_type": "code",
   "execution_count": 1,
   "metadata": {
    "ExecuteTime": {
     "end_time": "2019-01-26T23:42:50.225623Z",
     "start_time": "2019-01-26T23:42:47.560363Z"
    },
    "colab": {},
    "colab_type": "code",
    "id": "vXnuoQYEMQvO"
   },
   "outputs": [],
   "source": [
    "%matplotlib inline\n",
    "import warnings\n",
    "warnings.filterwarnings(\"ignore\")\n",
    "import sqlite3\n",
    "import pandas as pd\n",
    "import numpy as np\n",
    "import nltk\n",
    "import string\n",
    "import matplotlib.pyplot as plt\n",
    "import matplotlib.pyplot as pyplt\n",
    "import seaborn as sns\n",
    "from sklearn.feature_extraction.text import TfidfTransformer\n",
    "from sklearn.feature_extraction.text import TfidfVectorizer\n",
    "from sklearn.feature_extraction.text import CountVectorizer\n",
    "from sklearn.metrics import confusion_matrix\n",
    "from sklearn import metrics\n",
    "from sklearn.metrics import roc_curve, auc\n",
    "from sklearn.naive_bayes import  MultinomialNB\n",
    "from nltk.stem.porter import PorterStemmer\n",
    "import re\n",
    "# Tutorial about Python regular expressions: https://pymotw.com/2/re/\n",
    "import string\n",
    "from nltk.corpus import stopwords\n",
    "from nltk.stem import PorterStemmer\n",
    "from nltk.stem.wordnet import WordNetLemmatizer\n",
    "import pickle\n",
    "from tqdm import tqdm\n",
    "import os"
   ]
  },
  {
   "cell_type": "code",
   "execution_count": 2,
   "metadata": {
    "ExecuteTime": {
     "end_time": "2019-01-26T23:43:00.476983Z",
     "start_time": "2019-01-26T23:42:50.260119Z"
    },
    "colab": {},
    "colab_type": "code",
    "id": "-lrJx9N9MQvT"
   },
   "outputs": [
    {
     "name": "stdout",
     "output_type": "stream",
     "text": [
      "Number of data points in our data (525814, 10)\n"
     ]
    },
    {
     "data": {
      "text/html": [
       "<div>\n",
       "<style scoped>\n",
       "    .dataframe tbody tr th:only-of-type {\n",
       "        vertical-align: middle;\n",
       "    }\n",
       "\n",
       "    .dataframe tbody tr th {\n",
       "        vertical-align: top;\n",
       "    }\n",
       "\n",
       "    .dataframe thead th {\n",
       "        text-align: right;\n",
       "    }\n",
       "</style>\n",
       "<table border=\"1\" class=\"dataframe\">\n",
       "  <thead>\n",
       "    <tr style=\"text-align: right;\">\n",
       "      <th></th>\n",
       "      <th>Id</th>\n",
       "      <th>ProductId</th>\n",
       "      <th>UserId</th>\n",
       "      <th>ProfileName</th>\n",
       "      <th>HelpfulnessNumerator</th>\n",
       "      <th>HelpfulnessDenominator</th>\n",
       "      <th>Score</th>\n",
       "      <th>Time</th>\n",
       "      <th>Summary</th>\n",
       "      <th>Text</th>\n",
       "    </tr>\n",
       "  </thead>\n",
       "  <tbody>\n",
       "    <tr>\n",
       "      <th>0</th>\n",
       "      <td>1</td>\n",
       "      <td>B001E4KFG0</td>\n",
       "      <td>A3SGXH7AUHU8GW</td>\n",
       "      <td>delmartian</td>\n",
       "      <td>1</td>\n",
       "      <td>1</td>\n",
       "      <td>1</td>\n",
       "      <td>1303862400</td>\n",
       "      <td>Good Quality Dog Food</td>\n",
       "      <td>I have bought several of the Vitality canned d...</td>\n",
       "    </tr>\n",
       "    <tr>\n",
       "      <th>1</th>\n",
       "      <td>2</td>\n",
       "      <td>B00813GRG4</td>\n",
       "      <td>A1D87F6ZCVE5NK</td>\n",
       "      <td>dll pa</td>\n",
       "      <td>0</td>\n",
       "      <td>0</td>\n",
       "      <td>0</td>\n",
       "      <td>1346976000</td>\n",
       "      <td>Not as Advertised</td>\n",
       "      <td>Product arrived labeled as Jumbo Salted Peanut...</td>\n",
       "    </tr>\n",
       "    <tr>\n",
       "      <th>2</th>\n",
       "      <td>3</td>\n",
       "      <td>B000LQOCH0</td>\n",
       "      <td>ABXLMWJIXXAIN</td>\n",
       "      <td>Natalia Corres \"Natalia Corres\"</td>\n",
       "      <td>1</td>\n",
       "      <td>1</td>\n",
       "      <td>1</td>\n",
       "      <td>1219017600</td>\n",
       "      <td>\"Delight\" says it all</td>\n",
       "      <td>This is a confection that has been around a fe...</td>\n",
       "    </tr>\n",
       "  </tbody>\n",
       "</table>\n",
       "</div>"
      ],
      "text/plain": [
       "   Id   ProductId          UserId                      ProfileName  \\\n",
       "0   1  B001E4KFG0  A3SGXH7AUHU8GW                       delmartian   \n",
       "1   2  B00813GRG4  A1D87F6ZCVE5NK                           dll pa   \n",
       "2   3  B000LQOCH0   ABXLMWJIXXAIN  Natalia Corres \"Natalia Corres\"   \n",
       "\n",
       "   HelpfulnessNumerator  HelpfulnessDenominator  Score        Time  \\\n",
       "0                     1                       1      1  1303862400   \n",
       "1                     0                       0      0  1346976000   \n",
       "2                     1                       1      1  1219017600   \n",
       "\n",
       "                 Summary                                               Text  \n",
       "0  Good Quality Dog Food  I have bought several of the Vitality canned d...  \n",
       "1      Not as Advertised  Product arrived labeled as Jumbo Salted Peanut...  \n",
       "2  \"Delight\" says it all  This is a confection that has been around a fe...  "
      ]
     },
     "execution_count": 2,
     "metadata": {},
     "output_type": "execute_result"
    }
   ],
   "source": [
    "\n",
    "# using the SQLite Table to read data.\n",
    "con = sqlite3.connect('database.sqlite') \n",
    "#filtering only positive and negative reviews i.e. \n",
    "# not taking into consideration those reviews with Score=3\n",
    "filtered_data = pd.read_sql_query(\"\"\" SELECT * FROM Reviews WHERE Score != 3 \"\"\", con) \n",
    "\n",
    "\n",
    "# Give reviews with Score>3 a positive rating, and reviews with a score<3 a negative rating.\n",
    "def partition(x):\n",
    "    if x < 3:\n",
    "        return 0\n",
    "    return 1\n",
    "\n",
    "#changing reviews with score less than 3 to be positive and vice-versa\n",
    "actualScore = filtered_data['Score']\n",
    "positiveNegative = actualScore.map(partition) \n",
    "filtered_data['Score'] = positiveNegative\n",
    "print(\"Number of data points in our data\", filtered_data.shape)\n",
    "filtered_data.head(3)"
   ]
  },
  {
   "cell_type": "code",
   "execution_count": 3,
   "metadata": {
    "ExecuteTime": {
     "end_time": "2019-01-26T23:43:00.580923Z",
     "start_time": "2019-01-26T23:43:00.574927Z"
    }
   },
   "outputs": [],
   "source": [
    "sample_data = filtered_data.head(500000) #Sampled amazon fine foood reviews filtered data to 50k datapoints for time effiecieny"
   ]
  },
  {
   "cell_type": "markdown",
   "metadata": {
    "colab_type": "text",
    "id": "CF7NMcGnMQvX"
   },
   "source": [
    "# Exploratory Data Analysis\n",
    "\n",
    "## Data Cleaning: Deduplication\n",
    "\n",
    "It is observed (as shown in the table below) that the reviews data had many duplicate entries. Hence it was necessary to remove duplicates in order to get unbiased results for the analysis of the data.  Following is an example:"
   ]
  },
  {
   "cell_type": "code",
   "execution_count": 4,
   "metadata": {
    "ExecuteTime": {
     "end_time": "2019-01-26T23:43:04.078902Z",
     "start_time": "2019-01-26T23:43:00.726841Z"
    },
    "colab": {},
    "colab_type": "code",
    "id": "_G5KBj5FMQvY",
    "scrolled": false
   },
   "outputs": [
    {
     "data": {
      "text/html": [
       "<div>\n",
       "<style scoped>\n",
       "    .dataframe tbody tr th:only-of-type {\n",
       "        vertical-align: middle;\n",
       "    }\n",
       "\n",
       "    .dataframe tbody tr th {\n",
       "        vertical-align: top;\n",
       "    }\n",
       "\n",
       "    .dataframe thead th {\n",
       "        text-align: right;\n",
       "    }\n",
       "</style>\n",
       "<table border=\"1\" class=\"dataframe\">\n",
       "  <thead>\n",
       "    <tr style=\"text-align: right;\">\n",
       "      <th></th>\n",
       "      <th>Id</th>\n",
       "      <th>ProductId</th>\n",
       "      <th>UserId</th>\n",
       "      <th>ProfileName</th>\n",
       "      <th>HelpfulnessNumerator</th>\n",
       "      <th>HelpfulnessDenominator</th>\n",
       "      <th>Score</th>\n",
       "      <th>Time</th>\n",
       "      <th>Summary</th>\n",
       "      <th>Text</th>\n",
       "    </tr>\n",
       "  </thead>\n",
       "  <tbody>\n",
       "    <tr>\n",
       "      <th>0</th>\n",
       "      <td>78445</td>\n",
       "      <td>B000HDL1RQ</td>\n",
       "      <td>AR5J8UI46CURR</td>\n",
       "      <td>Geetha Krishnan</td>\n",
       "      <td>2</td>\n",
       "      <td>2</td>\n",
       "      <td>5</td>\n",
       "      <td>1199577600</td>\n",
       "      <td>LOACKER QUADRATINI VANILLA WAFERS</td>\n",
       "      <td>DELICIOUS WAFERS. I FIND THAT EUROPEAN WAFERS ...</td>\n",
       "    </tr>\n",
       "    <tr>\n",
       "      <th>1</th>\n",
       "      <td>138317</td>\n",
       "      <td>B000HDOPYC</td>\n",
       "      <td>AR5J8UI46CURR</td>\n",
       "      <td>Geetha Krishnan</td>\n",
       "      <td>2</td>\n",
       "      <td>2</td>\n",
       "      <td>5</td>\n",
       "      <td>1199577600</td>\n",
       "      <td>LOACKER QUADRATINI VANILLA WAFERS</td>\n",
       "      <td>DELICIOUS WAFERS. I FIND THAT EUROPEAN WAFERS ...</td>\n",
       "    </tr>\n",
       "    <tr>\n",
       "      <th>2</th>\n",
       "      <td>138277</td>\n",
       "      <td>B000HDOPYM</td>\n",
       "      <td>AR5J8UI46CURR</td>\n",
       "      <td>Geetha Krishnan</td>\n",
       "      <td>2</td>\n",
       "      <td>2</td>\n",
       "      <td>5</td>\n",
       "      <td>1199577600</td>\n",
       "      <td>LOACKER QUADRATINI VANILLA WAFERS</td>\n",
       "      <td>DELICIOUS WAFERS. I FIND THAT EUROPEAN WAFERS ...</td>\n",
       "    </tr>\n",
       "    <tr>\n",
       "      <th>3</th>\n",
       "      <td>73791</td>\n",
       "      <td>B000HDOPZG</td>\n",
       "      <td>AR5J8UI46CURR</td>\n",
       "      <td>Geetha Krishnan</td>\n",
       "      <td>2</td>\n",
       "      <td>2</td>\n",
       "      <td>5</td>\n",
       "      <td>1199577600</td>\n",
       "      <td>LOACKER QUADRATINI VANILLA WAFERS</td>\n",
       "      <td>DELICIOUS WAFERS. I FIND THAT EUROPEAN WAFERS ...</td>\n",
       "    </tr>\n",
       "    <tr>\n",
       "      <th>4</th>\n",
       "      <td>155049</td>\n",
       "      <td>B000PAQ75C</td>\n",
       "      <td>AR5J8UI46CURR</td>\n",
       "      <td>Geetha Krishnan</td>\n",
       "      <td>2</td>\n",
       "      <td>2</td>\n",
       "      <td>5</td>\n",
       "      <td>1199577600</td>\n",
       "      <td>LOACKER QUADRATINI VANILLA WAFERS</td>\n",
       "      <td>DELICIOUS WAFERS. I FIND THAT EUROPEAN WAFERS ...</td>\n",
       "    </tr>\n",
       "  </tbody>\n",
       "</table>\n",
       "</div>"
      ],
      "text/plain": [
       "       Id   ProductId         UserId      ProfileName  HelpfulnessNumerator  \\\n",
       "0   78445  B000HDL1RQ  AR5J8UI46CURR  Geetha Krishnan                     2   \n",
       "1  138317  B000HDOPYC  AR5J8UI46CURR  Geetha Krishnan                     2   \n",
       "2  138277  B000HDOPYM  AR5J8UI46CURR  Geetha Krishnan                     2   \n",
       "3   73791  B000HDOPZG  AR5J8UI46CURR  Geetha Krishnan                     2   \n",
       "4  155049  B000PAQ75C  AR5J8UI46CURR  Geetha Krishnan                     2   \n",
       "\n",
       "   HelpfulnessDenominator  Score        Time  \\\n",
       "0                       2      5  1199577600   \n",
       "1                       2      5  1199577600   \n",
       "2                       2      5  1199577600   \n",
       "3                       2      5  1199577600   \n",
       "4                       2      5  1199577600   \n",
       "\n",
       "                             Summary  \\\n",
       "0  LOACKER QUADRATINI VANILLA WAFERS   \n",
       "1  LOACKER QUADRATINI VANILLA WAFERS   \n",
       "2  LOACKER QUADRATINI VANILLA WAFERS   \n",
       "3  LOACKER QUADRATINI VANILLA WAFERS   \n",
       "4  LOACKER QUADRATINI VANILLA WAFERS   \n",
       "\n",
       "                                                Text  \n",
       "0  DELICIOUS WAFERS. I FIND THAT EUROPEAN WAFERS ...  \n",
       "1  DELICIOUS WAFERS. I FIND THAT EUROPEAN WAFERS ...  \n",
       "2  DELICIOUS WAFERS. I FIND THAT EUROPEAN WAFERS ...  \n",
       "3  DELICIOUS WAFERS. I FIND THAT EUROPEAN WAFERS ...  \n",
       "4  DELICIOUS WAFERS. I FIND THAT EUROPEAN WAFERS ...  "
      ]
     },
     "execution_count": 4,
     "metadata": {},
     "output_type": "execute_result"
    }
   ],
   "source": [
    "display= pd.read_sql_query(\"\"\"\n",
    "SELECT *\n",
    "FROM Reviews\n",
    "WHERE Score != 3 AND UserId=\"AR5J8UI46CURR\"\n",
    "ORDER BY ProductID\n",
    "\"\"\", con)\n",
    "display.head()"
   ]
  },
  {
   "cell_type": "markdown",
   "metadata": {
    "colab_type": "text",
    "id": "95Aa3bAYMQvb"
   },
   "source": [
    "As can be seen above the same user has multiple reviews of the with the same values for HelpfulnessNumerator, HelpfulnessDenominator, Score, Time, Summary and Text  and on doing analysis it was found that <br>\n",
    "<br> \n",
    "ProductId=B000HDOPZG was Loacker Quadratini Vanilla Wafer Cookies, 8.82-Ounce Packages (Pack of 8)<br>\n",
    "<br> \n",
    "ProductId=B000HDL1RQ was Loacker Quadratini Lemon Wafer Cookies, 8.82-Ounce Packages (Pack of 8) and so on<br>\n",
    "\n",
    "It was inferred after analysis that reviews with same parameters other than ProductId belonged to the same product just having different flavour or quantity. Hence in order to reduce redundancy it was decided to eliminate the rows having same parameters.<br>\n",
    "\n",
    "The method used for the same was that we first sort the data according to ProductId and then just keep the first similar product review and delelte the others. for eg. in the above just the review for ProductId=B000HDL1RQ remains. This method ensures that there is only one representative for each product and deduplication without sorting would lead to possibility of different representatives still existing for the same product."
   ]
  },
  {
   "cell_type": "code",
   "execution_count": 5,
   "metadata": {
    "ExecuteTime": {
     "end_time": "2019-01-26T23:43:05.260333Z",
     "start_time": "2019-01-26T23:43:04.253787Z"
    },
    "colab": {},
    "colab_type": "code",
    "id": "0wUj2BDzMQvc"
   },
   "outputs": [],
   "source": [
    "#Sorting data according to ProductId in ascending order\n",
    "sorted_data=sample_data.sort_values('ProductId', axis=0, ascending=True, inplace=False, kind='quicksort', na_position='last')"
   ]
  },
  {
   "cell_type": "code",
   "execution_count": 6,
   "metadata": {
    "ExecuteTime": {
     "end_time": "2019-01-26T23:43:07.196203Z",
     "start_time": "2019-01-26T23:43:05.454700Z"
    },
    "colab": {},
    "colab_type": "code",
    "id": "hYd69x4KMQve"
   },
   "outputs": [
    {
     "data": {
      "text/plain": [
       "(348262, 10)"
      ]
     },
     "execution_count": 6,
     "metadata": {},
     "output_type": "execute_result"
    }
   ],
   "source": [
    "#Deduplication of entries\n",
    "final=sorted_data.drop_duplicates(subset={\"UserId\",\"ProfileName\",\"Time\",\"Text\"}, keep='first', inplace=False)\n",
    "final.shape"
   ]
  },
  {
   "cell_type": "code",
   "execution_count": 7,
   "metadata": {
    "ExecuteTime": {
     "end_time": "2019-01-26T23:43:07.539006Z",
     "start_time": "2019-01-26T23:43:07.532011Z"
    },
    "colab": {},
    "colab_type": "code",
    "id": "_UVH2UNwMQvi"
   },
   "outputs": [
    {
     "data": {
      "text/plain": [
       "69.6524"
      ]
     },
     "execution_count": 7,
     "metadata": {},
     "output_type": "execute_result"
    }
   ],
   "source": [
    "#Checking to see how much % of data still remains\n",
    "(final['Id'].size*1.0)/(sample_data['Id'].size*1.0)*100"
   ]
  },
  {
   "cell_type": "markdown",
   "metadata": {
    "colab_type": "text",
    "id": "GeOy9IcuMQvk"
   },
   "source": [
    "<b>Observation:-</b> It was also seen that in two rows given below the value of HelpfulnessNumerator is greater than HelpfulnessDenominator which is not practically possible hence these two rows too are removed from calcualtions"
   ]
  },
  {
   "cell_type": "code",
   "execution_count": 8,
   "metadata": {
    "ExecuteTime": {
     "end_time": "2019-01-26T23:43:07.798877Z",
     "start_time": "2019-01-26T23:43:07.771873Z"
    },
    "colab": {},
    "colab_type": "code",
    "id": "EDD5FsuGMQvm"
   },
   "outputs": [
    {
     "data": {
      "text/html": [
       "<div>\n",
       "<style scoped>\n",
       "    .dataframe tbody tr th:only-of-type {\n",
       "        vertical-align: middle;\n",
       "    }\n",
       "\n",
       "    .dataframe tbody tr th {\n",
       "        vertical-align: top;\n",
       "    }\n",
       "\n",
       "    .dataframe thead th {\n",
       "        text-align: right;\n",
       "    }\n",
       "</style>\n",
       "<table border=\"1\" class=\"dataframe\">\n",
       "  <thead>\n",
       "    <tr style=\"text-align: right;\">\n",
       "      <th></th>\n",
       "      <th>Id</th>\n",
       "      <th>ProductId</th>\n",
       "      <th>UserId</th>\n",
       "      <th>ProfileName</th>\n",
       "      <th>HelpfulnessNumerator</th>\n",
       "      <th>HelpfulnessDenominator</th>\n",
       "      <th>Score</th>\n",
       "      <th>Time</th>\n",
       "      <th>Summary</th>\n",
       "      <th>Text</th>\n",
       "    </tr>\n",
       "  </thead>\n",
       "  <tbody>\n",
       "    <tr>\n",
       "      <th>0</th>\n",
       "      <td>64422</td>\n",
       "      <td>B000MIDROQ</td>\n",
       "      <td>A161DK06JJMCYF</td>\n",
       "      <td>J. E. Stephens \"Jeanne\"</td>\n",
       "      <td>3</td>\n",
       "      <td>1</td>\n",
       "      <td>5</td>\n",
       "      <td>1224892800</td>\n",
       "      <td>Bought This for My Son at College</td>\n",
       "      <td>My son loves spaghetti so I didn't hesitate or...</td>\n",
       "    </tr>\n",
       "    <tr>\n",
       "      <th>1</th>\n",
       "      <td>44737</td>\n",
       "      <td>B001EQ55RW</td>\n",
       "      <td>A2V0I904FH7ABY</td>\n",
       "      <td>Ram</td>\n",
       "      <td>3</td>\n",
       "      <td>2</td>\n",
       "      <td>4</td>\n",
       "      <td>1212883200</td>\n",
       "      <td>Pure cocoa taste with crunchy almonds inside</td>\n",
       "      <td>It was almost a 'love at first bite' - the per...</td>\n",
       "    </tr>\n",
       "  </tbody>\n",
       "</table>\n",
       "</div>"
      ],
      "text/plain": [
       "      Id   ProductId          UserId              ProfileName  \\\n",
       "0  64422  B000MIDROQ  A161DK06JJMCYF  J. E. Stephens \"Jeanne\"   \n",
       "1  44737  B001EQ55RW  A2V0I904FH7ABY                      Ram   \n",
       "\n",
       "   HelpfulnessNumerator  HelpfulnessDenominator  Score        Time  \\\n",
       "0                     3                       1      5  1224892800   \n",
       "1                     3                       2      4  1212883200   \n",
       "\n",
       "                                        Summary  \\\n",
       "0             Bought This for My Son at College   \n",
       "1  Pure cocoa taste with crunchy almonds inside   \n",
       "\n",
       "                                                Text  \n",
       "0  My son loves spaghetti so I didn't hesitate or...  \n",
       "1  It was almost a 'love at first bite' - the per...  "
      ]
     },
     "execution_count": 8,
     "metadata": {},
     "output_type": "execute_result"
    }
   ],
   "source": [
    "display= pd.read_sql_query(\"\"\"\n",
    "SELECT *\n",
    "FROM Reviews\n",
    "WHERE Score != 3 AND Id=44737 OR Id=64422\n",
    "ORDER BY ProductID\n",
    "\"\"\", con)\n",
    "\n",
    "display.head()"
   ]
  },
  {
   "cell_type": "code",
   "execution_count": 9,
   "metadata": {
    "ExecuteTime": {
     "end_time": "2019-01-26T23:43:08.239642Z",
     "start_time": "2019-01-26T23:43:08.064706Z"
    },
    "colab": {},
    "colab_type": "code",
    "id": "kThrWN9FMQvq"
   },
   "outputs": [],
   "source": [
    "final=final[final.HelpfulnessNumerator<=final.HelpfulnessDenominator]"
   ]
  },
  {
   "cell_type": "code",
   "execution_count": 10,
   "metadata": {
    "ExecuteTime": {
     "end_time": "2019-01-26T23:43:08.488466Z",
     "start_time": "2019-01-26T23:43:08.459482Z"
    },
    "colab": {},
    "colab_type": "code",
    "id": "lvw544BEMQvs"
   },
   "outputs": [
    {
     "name": "stdout",
     "output_type": "stream",
     "text": [
      "(348260, 10)\n"
     ]
    },
    {
     "data": {
      "text/plain": [
       "1    293516\n",
       "0     54744\n",
       "Name: Score, dtype: int64"
      ]
     },
     "execution_count": 10,
     "metadata": {},
     "output_type": "execute_result"
    }
   ],
   "source": [
    "#Before starting the next phase of preprocessing lets see the number of entries left\n",
    "print(final.shape)\n",
    "\n",
    "#How many positive and negative reviews are present in our dataset?\n",
    "final['Score'].value_counts()"
   ]
  },
  {
   "cell_type": "markdown",
   "metadata": {
    "colab_type": "text",
    "id": "3-ZDuet8MQvw"
   },
   "source": [
    "## Text Preprocessing: Stemming, stop-word removal and Lemmatization.\n",
    "\n",
    "Now that we have finished deduplication our data requires some preprocessing before we go on further with analysis and making the prediction model.\n",
    "\n",
    "Hence in the Preprocessing phase we do the following in the order below:-\n",
    "\n",
    "1. Begin by removing the html tags\n",
    "2. Remove any punctuations or limited set of special characters like , or . or # etc.\n",
    "3. Check if the word is made up of english letters and is not alpha-numeric\n",
    "4. Check to see if the length of the word is greater than 2 (as it was researched that there is no adjective in 2-letters)\n",
    "5. Convert the word to lowercase\n",
    "6. Remove Stopwords\n",
    "7. Finally Snowball Stemming the word (it was obsereved to be better than Porter Stemming)<br>\n",
    "\n",
    "After which we collect the words used to describe positive and negative reviews"
   ]
  },
  {
   "cell_type": "code",
   "execution_count": 11,
   "metadata": {
    "ExecuteTime": {
     "end_time": "2019-01-26T23:43:08.786296Z",
     "start_time": "2019-01-26T23:43:08.767305Z"
    },
    "colab": {},
    "colab_type": "code",
    "id": "I2NRwIj6MQvz"
   },
   "outputs": [
    {
     "name": "stdout",
     "output_type": "stream",
     "text": [
      "3\n",
      "TITLE: Chicken Soup with Rice<br />AUTHOR: Maurice Sendak<br />REVIEWER: Josh Grossman, Colonel {r}, U.S.A.R., M.C., M.D., FACP<br />Rural physician/author/educator-Mentor U.S.M.L.E. Step 3...<br />>Who would believe that I have memorized this book?<br />>Who would believe that I can recite any month in any order?<br />>Who would believe that I read my copy to tatters while reading to my children now professional adults?<br />>Who would believe that my grandchildren read their copy to tatters?<br />I can be confident that generations of children will enjoy \"Chicken Soup with Rice\"<br />Bravo!<br />Thank you!<br />Respectfully submitted...\n"
     ]
    }
   ],
   "source": [
    "# find sentences containing HTML tags\n",
    "import re\n",
    "i=0;\n",
    "for sent in final['Text'].values:\n",
    "    if (len(re.findall('<.*?>', sent))):\n",
    "        print(i)\n",
    "        print(sent)\n",
    "        break;\n",
    "    i += 1;"
   ]
  },
  {
   "cell_type": "code",
   "execution_count": 12,
   "metadata": {
    "ExecuteTime": {
     "end_time": "2019-01-26T23:43:09.097118Z",
     "start_time": "2019-01-26T23:43:09.072131Z"
    },
    "colab": {},
    "colab_type": "code",
    "id": "hSYsO2neMQv2"
   },
   "outputs": [
    {
     "name": "stdout",
     "output_type": "stream",
     "text": [
      "{\"haven't\", 'myself', 'shan', \"wasn't\", 'won', 'ours', 'ain', 'such', 'because', 'no', 'hasn', 'only', 'here', 'more', 'shouldn', 'having', 'over', 'herself', 'being', 'to', 'her', 'by', 'she', 'its', 'each', 'on', 'just', 'who', 'than', 'about', \"that'll\", \"you've\", 'if', 'that', 'had', 'be', 'most', 'themselves', 'during', 'few', 'should', 'yours', \"needn't\", 'are', 'y', 'below', \"mightn't\", 'do', 'not', \"mustn't\", 'weren', 'from', 'did', 'the', \"doesn't\", 'where', 'needn', 'those', 'you', 'didn', 'can', 'mightn', 'were', \"you'd\", \"couldn't\", 'but', 'again', 'it', 'me', 've', 'doesn', \"isn't\", 'yourself', \"shan't\", 'been', \"weren't\", 'i', 'was', 'with', 'hadn', 'both', 'and', 'until', \"should've\", 'd', 'further', \"shouldn't\", 'into', 'hers', 'don', \"you're\", 'while', 'above', 't', 'has', 'how', 'own', 'what', 'off', 'whom', 'when', 'nor', 'any', 'my', 'down', 'some', 'haven', 'this', 'before', 'o', 'through', 'ourselves', 'their', 's', 'll', \"hasn't\", 'in', \"you'll\", \"aren't\", 'why', 're', 'his', 'between', 'an', 'out', 'once', 'is', 'under', 'these', 'so', 'or', 'your', 'aren', 'couldn', 'm', 'after', 'wasn', 'same', \"wouldn't\", 'for', 'we', 'other', 'him', \"hadn't\", \"she's\", 'at', 'very', 'wouldn', 'isn', 'which', 'yourselves', \"didn't\", 'up', 'himself', 'have', 'does', 'now', 'he', 'itself', 'doing', 'there', 'our', 'then', 'will', 'of', 'mustn', 'all', 'them', 'against', 'too', 'they', 'am', \"don't\", 'ma', 'as', 'a', \"won't\", \"it's\", 'theirs'}\n",
      "************************************\n",
      "tasti\n"
     ]
    }
   ],
   "source": [
    "\n",
    "stop = set(stopwords.words('english')) #set of stopwords\n",
    "sno = nltk.stem.SnowballStemmer('english') #initialising the snowball stemmer\n",
    "\n",
    "def cleanhtml(sentence): #function to clean the word of any html-tags\n",
    "    cleanr = re.compile('<.*?>')\n",
    "    cleantext = re.sub(cleanr, ' ', sentence)\n",
    "    return cleantext\n",
    "def cleanpunc(sentence): #function to clean the word of any punctuation or special characters\n",
    "    cleaned = re.sub(r'[?|!|\\'|\"|#]',r'',sentence)\n",
    "    cleaned = re.sub(r'[.|,|)|(|\\|/]',r' ',cleaned)\n",
    "    return  cleaned\n",
    "print(stop)\n",
    "print('************************************')\n",
    "print(sno.stem('tasty'))"
   ]
  },
  {
   "cell_type": "code",
   "execution_count": 13,
   "metadata": {
    "ExecuteTime": {
     "end_time": "2019-01-26T23:43:18.752544Z",
     "start_time": "2019-01-26T23:43:18.736554Z"
    },
    "colab": {},
    "colab_type": "code",
    "id": "BUGzVaKbMQv5"
   },
   "outputs": [],
   "source": [
    "#Code for implementing step-by-step the checks mentioned in the pre-processing phase\n",
    "# this code takes a while to run as it needs to run on 500k sentences.\n",
    "if not os.path.isfile('final.sqlite'):\n",
    "    final_string=[]\n",
    "    all_positive_words=[] # store words from +ve reviews here\n",
    "    all_negative_words=[] # store words from -ve reviews here.\n",
    "    for i, sent in enumerate(tqdm(final['Text'].values)):\n",
    "        filtered_sentence=[]\n",
    "        #print(sent);\n",
    "        sent=cleanhtml(sent) # remove HTMl tags\n",
    "        for w in sent.split():\n",
    "            # we have used cleanpunc(w).split(), one more split function here because consider w=\"abc.def\", cleanpunc(w) will return \"abc def\"\n",
    "            # if we dont use .split() function then we will be considring \"abc def\" as a single word, but if you use .split() function we will get \"abc\", \"def\"\n",
    "            for cleaned_words in cleanpunc(w).split():\n",
    "                if((cleaned_words.isalpha()) & (len(cleaned_words)>2)):    \n",
    "                    if(cleaned_words.lower() not in stop):\n",
    "                        s=(sno.stem(cleaned_words.lower())).encode('utf8') #snoball stemmer\n",
    "                        filtered_sentence.append(s)\n",
    "                        if (final['Score'].values)[i] == 1: \n",
    "                            all_positive_words.append(s) #list of all words used to describe positive reviews\n",
    "                        if(final['Score'].values)[i] == 0:\n",
    "                            all_negative_words.append(s) #list of all words used to describe negative reviews reviews\n",
    "        str1 = b\" \".join(filtered_sentence) #final string of cleaned words\n",
    "        #print(\"***********************************************************************\")\n",
    "        final_string.append(str1)\n",
    "\n",
    "    #############---- storing the data into .sqlite file ------########################\n",
    "    final['CleanedText']=final_string #adding a column of CleanedText which displays the data after pre-processing of the review \n",
    "    final['CleanedText']=final['CleanedText'].str.decode(\"utf-8\")\n",
    "        # store final table into an SQlLite table for future.\n",
    "    conn = sqlite3.connect('final.sqlite')\n",
    "    c=conn.cursor()\n",
    "    conn.text_factory = str\n",
    "    final.to_sql('Reviews', conn,  schema=None, if_exists='replace', \\\n",
    "                 index=True, index_label=None, chunksize=None, dtype=None)\n",
    "    conn.close()\n",
    "    \n",
    "    \n",
    "    with open('positive_words.pkl', 'wb') as f: # 'wb' instead 'w' for binary file\n",
    "        pickle.dump(all_positive_words, f)      # dump data to f\n",
    "    with open('negitive_words.pkl', 'wb') as f: # 'wb' instead 'w' for binary file\n",
    "        pickle.dump(all_negative_words, f)      # dump data to f"
   ]
  },
  {
   "cell_type": "code",
   "execution_count": 14,
   "metadata": {
    "ExecuteTime": {
     "end_time": "2019-01-26T23:43:23.805975Z",
     "start_time": "2019-01-26T23:43:19.686342Z"
    },
    "colab": {},
    "colab_type": "code",
    "id": "bU88yTG9MQv-",
    "scrolled": false
   },
   "outputs": [],
   "source": [
    "if os.path.isfile('final.sqlite'):\n",
    "    conn = sqlite3.connect('final.sqlite')\n",
    "    final = pd.read_sql_query(\"\"\" SELECT * FROM Reviews WHERE Score != 3 \"\"\", conn)\n",
    "    conn.close()\n",
    "else:\n",
    "    print(\"Please the above cell\")"
   ]
  },
  {
   "cell_type": "markdown",
   "metadata": {},
   "source": [
    "### Sorting dataset based on 'Time' feature"
   ]
  },
  {
   "cell_type": "code",
   "execution_count": 15,
   "metadata": {
    "ExecuteTime": {
     "end_time": "2019-01-26T23:43:24.401822Z",
     "start_time": "2019-01-26T23:43:24.032045Z"
    }
   },
   "outputs": [
    {
     "data": {
      "text/plain": [
       "(348260, 12)"
      ]
     },
     "execution_count": 15,
     "metadata": {},
     "output_type": "execute_result"
    }
   ],
   "source": [
    "final_reviews = final.sort_values('Time', axis=0, ascending=True, inplace=False, kind='quicksort', na_position='last')\n",
    "final_reviews.shape"
   ]
  },
  {
   "cell_type": "markdown",
   "metadata": {},
   "source": [
    "### Spliting data "
   ]
  },
  {
   "cell_type": "code",
   "execution_count": 16,
   "metadata": {
    "ExecuteTime": {
     "end_time": "2019-01-26T23:43:24.941545Z",
     "start_time": "2019-01-26T23:43:24.724639Z"
    }
   },
   "outputs": [],
   "source": [
    "#split data into train, cross validate and test \n",
    "%matplotlib inline\n",
    "import warnings\n",
    "from sklearn.model_selection import train_test_split\n",
    "X = final_reviews['CleanedText']\n",
    "Y = final_reviews['Score']\n",
    "\n",
    "X_train, X_test, Y_train, Y_test = train_test_split(X, Y, test_size=.33, random_state=0)\n",
    "X_tr, X_cv, Y_tr, Y_cv = train_test_split(X_train, Y_train, test_size=.33, random_state=0)"
   ]
  },
  {
   "cell_type": "code",
   "execution_count": 17,
   "metadata": {
    "ExecuteTime": {
     "end_time": "2019-01-26T23:43:29.788826Z",
     "start_time": "2019-01-26T23:43:29.757843Z"
    }
   },
   "outputs": [
    {
     "name": "stdout",
     "output_type": "stream",
     "text": [
      "X_train, Y_train (233334,) (233334,)\n",
      "X_test, Y_test (114926,) (114926,)\n",
      "X_tr, Y_tr (156333,) (156333,)\n",
      "X_cv, Y_cv (77001,) (77001,)\n"
     ]
    }
   ],
   "source": [
    "print('X_train, Y_train', X_train.shape, Y_train.shape)\n",
    "print('X_test, Y_test', X_test.shape, Y_test.shape)\n",
    "print('X_tr, Y_tr', X_tr.shape, Y_tr.shape)\n",
    "print('X_cv, Y_cv', X_cv.shape, Y_cv.shape)"
   ]
  },
  {
   "cell_type": "markdown",
   "metadata": {},
   "source": [
    "# Multinomial Naive Bayes with simple CV"
   ]
  },
  {
   "cell_type": "code",
   "execution_count": 18,
   "metadata": {
    "ExecuteTime": {
     "end_time": "2019-01-26T23:43:32.205950Z",
     "start_time": "2019-01-26T23:43:32.193955Z"
    }
   },
   "outputs": [],
   "source": [
    "%matplotlib inline\n",
    "import warnings\n",
    "warnings.filterwarnings(\"ignore\")\n",
    "from sklearn.model_selection import cross_val_score\n",
    "from collections import Counter\n",
    "from sklearn.metrics import accuracy_score\n",
    "from sklearn import model_selection\n",
    "from sklearn.metrics import f1_score\n",
    "from sklearn.metrics import roc_auc_score"
   ]
  },
  {
   "cell_type": "markdown",
   "metadata": {},
   "source": [
    "## Training Model"
   ]
  },
  {
   "cell_type": "code",
   "execution_count": 19,
   "metadata": {
    "ExecuteTime": {
     "end_time": "2019-01-26T23:43:34.429832Z",
     "start_time": "2019-01-26T23:43:34.412845Z"
    }
   },
   "outputs": [],
   "source": [
    "def mulnb(X_train,X_cv,Y_train,Y_cv):\n",
    "    best_alpha=0\n",
    "    max_roc_auc=-1\n",
    "    pred_cv = []\n",
    "    pred_train = []\n",
    "    alpha=[10000,5000,1000,500,100,50,10,5,1,0.5,0.1,0.05,0.01,0.005,0.001,0.0005,0.0001,0.00005,0.00001] \n",
    "    for i in alpha[-19:]:\n",
    "        mulbnb = MultinomialNB(alpha=i)\n",
    "        mulbnb.fit(X_train,Y_train)\n",
    "        probs = mulbnb.predict_proba(X_cv)\n",
    "        prob = mulbnb.predict_proba(X_train)\n",
    "        probs = probs[:,1]\n",
    "        prob = prob[:,1]\n",
    "        auc_score_cv = roc_auc_score(Y_cv,probs)\n",
    "        auc_score_train = roc_auc_score(Y_train,prob)\n",
    "        print(i,\" ------> \",auc_score_cv)\n",
    "        pred_cv.append(auc_score_cv)\n",
    "        pred_train.append(auc_score_train)\n",
    "        if(max_roc_auc<auc_score_cv):\n",
    "            max_roc_auc=auc_score_cv\n",
    "            best_alpha=i\n",
    "    print(f\"\\n Best alpha Value {best_alpha} with highest roc_auc Score is {max_roc_auc}\")\n",
    "    sns.set_style(\"darkgrid\")\n",
    "    plt.xscale('log')\n",
    "    plt.plot(alpha, pred_cv,'r-', label = 'CV Data')\n",
    "    plt.plot(alpha,pred_train,'g-', label ='Train Data')\n",
    "    plt.legend(loc='upper right')\n",
    "    plt.title(r'Auc Score v/s $\\alpha$')\n",
    "    plt.xlabel(r\"alpha values\",fontsize=12)\n",
    "    plt.ylabel(\"roc_auc\",fontsize=12)\n",
    "    plt.show()\n",
    "    # calculate roc curve\n",
    "    fpr, tpr, thresholds = roc_curve(Y_cv,probs)\n",
    "    # plot no skill\n",
    "    pyplt.plot([0, 1], [0, 1], linestyle='--')\n",
    "    # plot the roc curve for the model\n",
    "    pyplt.plot(fpr, tpr, marker='.')\n",
    "    #plt.plot(k,pred_cv)\n",
    "    pyplt.title(\"Line Plot of ROC Curve on Train Data\")\n",
    "    pyplt.ylabel('True Positive Rate')\n",
    "    pyplt.xlabel('False Positive Rate')\n",
    "    pyplt.show()    "
   ]
  },
  {
   "cell_type": "markdown",
   "metadata": {},
   "source": [
    "## Testing Model "
   ]
  },
  {
   "cell_type": "code",
   "execution_count": 20,
   "metadata": {
    "ExecuteTime": {
     "end_time": "2019-01-26T23:43:37.522847Z",
     "start_time": "2019-01-26T23:43:37.495844Z"
    }
   },
   "outputs": [],
   "source": [
    "import scikitplot.metrics as skplt\n",
    "def testing(X_train,Y_train,X_test,Y_test,optimal_alpha):\n",
    "    bnb = MultinomialNB(optimal_alpha,fit_prior=True, class_prior=None)\n",
    "    bnb.fit(X_train,Y_train)\n",
    "    probs = bnb.predict_proba(X_test) \n",
    "    # keep probabilities for the positive outcome only\n",
    "    probs = probs[:, 1]\n",
    "    print(\"AUC Score\",roc_auc_score(Y_test,probs))\n",
    "    # calculate roc curve\n",
    "    fpr, tpr, thresholds = roc_curve(Y_test,probs)\n",
    "    # plot no skill\n",
    "    plt.plot([0, 1], [0, 1], linestyle='--')\n",
    "    # plot the roc curve for the model\n",
    "    plt.plot(fpr, tpr, marker='.')\n",
    "    plt.title(\"Line Plot of ROC Curve on Test Data\")\n",
    "    plt.ylabel('True Positive Rate')\n",
    "    plt.xlabel('False Positive Rate')    \n",
    "    plt.show\n",
    "    prediction=bnb.predict(X_test)\n",
    "    skplt.plot_confusion_matrix(Y_test,prediction)\n",
    "    print(\"macro f1 score for data :\",metrics.f1_score(Y_test, prediction, average = 'macro'))\n",
    "    print(\"micro f1 scoore for data:\",metrics.f1_score(Y_test, prediction, average = 'micro'))\n",
    "    print(\"hamming loss for data:\",metrics.hamming_loss(Y_test,prediction))\n",
    "    print(\"Precision recall report for data:\\n\",metrics.classification_report(Y_test, prediction))\n",
    "    "
   ]
  },
  {
   "cell_type": "markdown",
   "metadata": {},
   "source": [
    "## Top features"
   ]
  },
  {
   "cell_type": "code",
   "execution_count": 21,
   "metadata": {
    "ExecuteTime": {
     "end_time": "2019-01-26T23:43:39.053850Z",
     "start_time": "2019-01-26T23:43:39.047854Z"
    }
   },
   "outputs": [],
   "source": [
    "def imp_feature(model,classifier):\n",
    "    neg = classifier.feature_log_prob_[0,:].argsort()\n",
    "    pos = classifier.feature_log_prob_[1,:].argsort()\n",
    "    top_pos_words = np.take(model.get_feature_names(),pos)\n",
    "    top_neg_words = np.take(model.get_feature_names(),neg)\n",
    "    imp_df = pd.DataFrame(columns = ['Pos_Words','Pos_Importance','Neg_Words','Neg_Importance'])\n",
    "    imp_df['Pos_Words'] = top_pos_words[::-1]\n",
    "    imp_df['Pos_Importance'] = np.take(classifier.feature_log_prob_[1,:],pos)[::-1]\n",
    "    imp_df['Neg_Words'] = top_neg_words[::-1]\n",
    "    imp_df['Neg_Importance'] = np.take(classifier.feature_log_prob_[0,:],neg)[::-1]\n",
    "    return imp_df"
   ]
  },
  {
   "cell_type": "markdown",
   "metadata": {},
   "source": [
    "# Techniques for vectorization :--"
   ]
  },
  {
   "cell_type": "markdown",
   "metadata": {
    "colab_type": "text",
    "id": "hXA02Hw0MQv_"
   },
   "source": [
    "##  Bag of Words (BoW) "
   ]
  },
  {
   "cell_type": "code",
   "execution_count": 22,
   "metadata": {
    "ExecuteTime": {
     "end_time": "2019-01-26T23:44:01.344261Z",
     "start_time": "2019-01-26T23:43:41.329924Z"
    },
    "colab": {},
    "colab_type": "code",
    "id": "giCwNM_rMQwA"
   },
   "outputs": [
    {
     "name": "stdout",
     "output_type": "stream",
     "text": [
      "The type of count vectorizer  <class 'scipy.sparse.csr.csr_matrix'>\n",
      "The shape of out text BOW vectorizer  (156333, 47172)\n",
      "CV Data Size:  (77001, 47172)\n",
      "Test Data Size:  (114926, 47172)\n"
     ]
    }
   ],
   "source": [
    "#BoW\n",
    "count_vect = CountVectorizer() #in scikit-learn\n",
    "bow_train = count_vect.fit_transform(X_tr)\n",
    "print(\"The type of count vectorizer \",type(bow_train))\n",
    "print(\"The shape of out text BOW vectorizer \",bow_train.get_shape())\n",
    "#print(\"the number of unique words \", final_counts.get_shape()[1])\n",
    "bow_cv = count_vect.transform(X_cv)\n",
    "bow_test = count_vect.transform(X_test)\n",
    "print(\"CV Data Size: \",bow_cv.shape)\n",
    "print(\"Test Data Size: \",bow_test.shape)"
   ]
  },
  {
   "cell_type": "code",
   "execution_count": 23,
   "metadata": {
    "ExecuteTime": {
     "end_time": "2019-01-26T23:44:02.837408Z",
     "start_time": "2019-01-26T23:44:02.326700Z"
    }
   },
   "outputs": [
    {
     "name": "stdout",
     "output_type": "stream",
     "text": [
      "The shape of out text BOW vectorizer  (156333, 47172)\n",
      "CV Data Size:  (77001, 47172)\n",
      "Test Data Size:  (114926, 47172)\n"
     ]
    }
   ],
   "source": [
    "#Normalize Data\n",
    "from sklearn import preprocessing\n",
    "from sklearn.preprocessing import Normalizer\n",
    "bow_train=preprocessing.normalize(bow_train)\n",
    "bow_cv=preprocessing.normalize(bow_cv)\n",
    "bow_test=preprocessing.normalize(bow_test)\n",
    "print(\"The shape of out text BOW vectorizer \",bow_train.get_shape())\n",
    "print(\"CV Data Size: \",bow_cv.shape)\n",
    "print(\"Test Data Size: \",bow_test.shape)"
   ]
  },
  {
   "cell_type": "code",
   "execution_count": 24,
   "metadata": {
    "ExecuteTime": {
     "end_time": "2019-01-27T00:06:09.200602Z",
     "start_time": "2019-01-27T00:06:00.742486Z"
    },
    "scrolled": true
   },
   "outputs": [
    {
     "name": "stdout",
     "output_type": "stream",
     "text": [
      "10000  ------>  0.636370646160004\n",
      "5000  ------>  0.642259388004025\n",
      "1000  ------>  0.6612953583871227\n",
      "500  ------>  0.6696437273597264\n",
      "100  ------>  0.6916900843222149\n",
      "50  ------>  0.7073860347835936\n",
      "10  ------>  0.7850972417666611\n",
      "5  ------>  0.8389043183678297\n",
      "1  ------>  0.9227426881602911\n",
      "0.5  ------>  0.9311163824200236\n",
      "0.1  ------>  0.9348375799288724\n",
      "0.05  ------>  0.9345252754760249\n",
      "0.01  ------>  0.9312802455484984\n",
      "0.005  ------>  0.9289873138159687\n",
      "0.001  ------>  0.9221275730861038\n",
      "0.0005  ------>  0.9186788921536588\n",
      "0.0001  ------>  0.9100850120932407\n",
      "5e-05  ------>  0.9062960834324971\n",
      "1e-05  ------>  0.8976023668853019\n",
      "\n",
      " Best alpha Value 0.1 with highest roc_auc Score is 0.9348375799288724\n"
     ]
    },
    {
     "data": {
      "image/png": "[encoded data removed]",
      "text/plain": [
       "<Figure size 432x288 with 1 Axes>"
      ]
     },
     "metadata": {},
     "output_type": "display_data"
    },
    {
     "data": {
      "image/png": "[encoded data removed]",
      "text/plain": [
       "<Figure size 432x288 with 1 Axes>"
      ]
     },
     "metadata": {},
     "output_type": "display_data"
    }
   ],
   "source": [
    "# find optimal alpha \n",
    "mulnb(bow_train,bow_cv,Y_tr,Y_cv)"
   ]
  },
  {
   "cell_type": "markdown",
   "metadata": {},
   "source": [
    "### NB simple CV Over the unseen or Test data in BoW"
   ]
  },
  {
   "cell_type": "code",
   "execution_count": 25,
   "metadata": {
    "ExecuteTime": {
     "end_time": "2019-01-27T00:06:17.592224Z",
     "start_time": "2019-01-27T00:06:16.465797Z"
    }
   },
   "outputs": [
    {
     "name": "stdout",
     "output_type": "stream",
     "text": [
      "AUC Score 0.9356708485671656\n",
      "macro f1 score for data : 0.6150328604181582\n",
      "micro f1 scoore for data: 0.8686633137845223\n",
      "hamming loss for data: 0.13133668621547778\n",
      "Precision recall report for data:\n",
      "               precision    recall  f1-score   support\n",
      "\n",
      "           0       0.92      0.18      0.30     18099\n",
      "           1       0.87      1.00      0.93     96827\n",
      "\n",
      "   micro avg       0.87      0.87      0.87    114926\n",
      "   macro avg       0.90      0.59      0.62    114926\n",
      "weighted avg       0.88      0.87      0.83    114926\n",
      "\n"
     ]
    },
    {
     "data": {
      "image/png": "[encoded data removed]",
      "text/plain": [
       "<Figure size 432x288 with 1 Axes>"
      ]
     },
     "metadata": {},
     "output_type": "display_data"
    },
    {
     "data": {
      "image/png": "[encoded data removed]",
      "text/plain": [
       "<Figure size 432x288 with 2 Axes>"
      ]
     },
     "metadata": {},
     "output_type": "display_data"
    }
   ],
   "source": [
    "#algorithm = brute force, optimal_k=11\n",
    "testing(bow_train,Y_tr,bow_test,Y_test,optimal_alpha=0.1)"
   ]
  },
  {
   "cell_type": "code",
   "execution_count": 26,
   "metadata": {
    "ExecuteTime": {
     "end_time": "2019-01-27T00:06:23.415007Z",
     "start_time": "2019-01-27T00:06:22.889157Z"
    }
   },
   "outputs": [
    {
     "data": {
      "text/html": [
       "<div>\n",
       "<style scoped>\n",
       "    .dataframe tbody tr th:only-of-type {\n",
       "        vertical-align: middle;\n",
       "    }\n",
       "\n",
       "    .dataframe tbody tr th {\n",
       "        vertical-align: top;\n",
       "    }\n",
       "\n",
       "    .dataframe thead th {\n",
       "        text-align: right;\n",
       "    }\n",
       "</style>\n",
       "<table border=\"1\" class=\"dataframe\">\n",
       "  <thead>\n",
       "    <tr style=\"text-align: right;\">\n",
       "      <th></th>\n",
       "      <th>Pos_Words</th>\n",
       "      <th>Pos_Importance</th>\n",
       "      <th>Neg_Words</th>\n",
       "      <th>Neg_Importance</th>\n",
       "    </tr>\n",
       "  </thead>\n",
       "  <tbody>\n",
       "    <tr>\n",
       "      <th>0</th>\n",
       "      <td>like</td>\n",
       "      <td>-4.408478</td>\n",
       "      <td>tast</td>\n",
       "      <td>-4.126758</td>\n",
       "    </tr>\n",
       "    <tr>\n",
       "      <th>1</th>\n",
       "      <td>tast</td>\n",
       "      <td>-4.412099</td>\n",
       "      <td>like</td>\n",
       "      <td>-4.246824</td>\n",
       "    </tr>\n",
       "    <tr>\n",
       "      <th>2</th>\n",
       "      <td>love</td>\n",
       "      <td>-4.433405</td>\n",
       "      <td>product</td>\n",
       "      <td>-4.390704</td>\n",
       "    </tr>\n",
       "    <tr>\n",
       "      <th>3</th>\n",
       "      <td>great</td>\n",
       "      <td>-4.458662</td>\n",
       "      <td>one</td>\n",
       "      <td>-4.752713</td>\n",
       "    </tr>\n",
       "    <tr>\n",
       "      <th>4</th>\n",
       "      <td>good</td>\n",
       "      <td>-4.476377</td>\n",
       "      <td>flavor</td>\n",
       "      <td>-4.764328</td>\n",
       "    </tr>\n",
       "    <tr>\n",
       "      <th>5</th>\n",
       "      <td>flavor</td>\n",
       "      <td>-4.598010</td>\n",
       "      <td>would</td>\n",
       "      <td>-4.856262</td>\n",
       "    </tr>\n",
       "    <tr>\n",
       "      <th>6</th>\n",
       "      <td>use</td>\n",
       "      <td>-4.708053</td>\n",
       "      <td>tri</td>\n",
       "      <td>-4.901650</td>\n",
       "    </tr>\n",
       "    <tr>\n",
       "      <th>7</th>\n",
       "      <td>product</td>\n",
       "      <td>-4.714912</td>\n",
       "      <td>buy</td>\n",
       "      <td>-5.005655</td>\n",
       "    </tr>\n",
       "    <tr>\n",
       "      <th>8</th>\n",
       "      <td>one</td>\n",
       "      <td>-4.797766</td>\n",
       "      <td>good</td>\n",
       "      <td>-5.008839</td>\n",
       "    </tr>\n",
       "    <tr>\n",
       "      <th>9</th>\n",
       "      <td>tri</td>\n",
       "      <td>-4.882972</td>\n",
       "      <td>coffe</td>\n",
       "      <td>-5.043479</td>\n",
       "    </tr>\n",
       "    <tr>\n",
       "      <th>10</th>\n",
       "      <td>coffe</td>\n",
       "      <td>-4.922982</td>\n",
       "      <td>order</td>\n",
       "      <td>-5.072395</td>\n",
       "    </tr>\n",
       "    <tr>\n",
       "      <th>11</th>\n",
       "      <td>tea</td>\n",
       "      <td>-4.969096</td>\n",
       "      <td>use</td>\n",
       "      <td>-5.102608</td>\n",
       "    </tr>\n",
       "    <tr>\n",
       "      <th>12</th>\n",
       "      <td>make</td>\n",
       "      <td>-5.025104</td>\n",
       "      <td>get</td>\n",
       "      <td>-5.134089</td>\n",
       "    </tr>\n",
       "    <tr>\n",
       "      <th>13</th>\n",
       "      <td>get</td>\n",
       "      <td>-5.080651</td>\n",
       "      <td>dont</td>\n",
       "      <td>-5.235991</td>\n",
       "    </tr>\n",
       "    <tr>\n",
       "      <th>14</th>\n",
       "      <td>buy</td>\n",
       "      <td>-5.213327</td>\n",
       "      <td>box</td>\n",
       "      <td>-5.302261</td>\n",
       "    </tr>\n",
       "    <tr>\n",
       "      <th>15</th>\n",
       "      <td>price</td>\n",
       "      <td>-5.286251</td>\n",
       "      <td>tea</td>\n",
       "      <td>-5.373534</td>\n",
       "    </tr>\n",
       "    <tr>\n",
       "      <th>16</th>\n",
       "      <td>best</td>\n",
       "      <td>-5.289779</td>\n",
       "      <td>food</td>\n",
       "      <td>-5.388235</td>\n",
       "    </tr>\n",
       "    <tr>\n",
       "      <th>17</th>\n",
       "      <td>time</td>\n",
       "      <td>-5.296074</td>\n",
       "      <td>even</td>\n",
       "      <td>-5.390599</td>\n",
       "    </tr>\n",
       "    <tr>\n",
       "      <th>18</th>\n",
       "      <td>food</td>\n",
       "      <td>-5.301066</td>\n",
       "      <td>amazon</td>\n",
       "      <td>-5.484577</td>\n",
       "    </tr>\n",
       "    <tr>\n",
       "      <th>19</th>\n",
       "      <td>realli</td>\n",
       "      <td>-5.330851</td>\n",
       "      <td>eat</td>\n",
       "      <td>-5.505956</td>\n",
       "    </tr>\n",
       "    <tr>\n",
       "      <th>20</th>\n",
       "      <td>order</td>\n",
       "      <td>-5.333103</td>\n",
       "      <td>much</td>\n",
       "      <td>-5.507798</td>\n",
       "    </tr>\n",
       "    <tr>\n",
       "      <th>21</th>\n",
       "      <td>amazon</td>\n",
       "      <td>-5.339127</td>\n",
       "      <td>time</td>\n",
       "      <td>-5.533751</td>\n",
       "    </tr>\n",
       "    <tr>\n",
       "      <th>22</th>\n",
       "      <td>would</td>\n",
       "      <td>-5.343920</td>\n",
       "      <td>make</td>\n",
       "      <td>-5.538938</td>\n",
       "    </tr>\n",
       "    <tr>\n",
       "      <th>23</th>\n",
       "      <td>find</td>\n",
       "      <td>-5.360609</td>\n",
       "      <td>bag</td>\n",
       "      <td>-5.540281</td>\n",
       "    </tr>\n",
       "    <tr>\n",
       "      <th>24</th>\n",
       "      <td>eat</td>\n",
       "      <td>-5.393413</td>\n",
       "      <td>realli</td>\n",
       "      <td>-5.541417</td>\n",
       "    </tr>\n",
       "    <tr>\n",
       "      <th>25</th>\n",
       "      <td>much</td>\n",
       "      <td>-5.473519</td>\n",
       "      <td>love</td>\n",
       "      <td>-5.563907</td>\n",
       "    </tr>\n",
       "    <tr>\n",
       "      <th>26</th>\n",
       "      <td>store</td>\n",
       "      <td>-5.497075</td>\n",
       "      <td>look</td>\n",
       "      <td>-5.574797</td>\n",
       "    </tr>\n",
       "    <tr>\n",
       "      <th>27</th>\n",
       "      <td>littl</td>\n",
       "      <td>-5.510175</td>\n",
       "      <td>disappoint</td>\n",
       "      <td>-5.576006</td>\n",
       "    </tr>\n",
       "    <tr>\n",
       "      <th>28</th>\n",
       "      <td>also</td>\n",
       "      <td>-5.551246</td>\n",
       "      <td>purchas</td>\n",
       "      <td>-5.587835</td>\n",
       "    </tr>\n",
       "    <tr>\n",
       "      <th>29</th>\n",
       "      <td>dont</td>\n",
       "      <td>-5.563069</td>\n",
       "      <td>packag</td>\n",
       "      <td>-5.608922</td>\n",
       "    </tr>\n",
       "    <tr>\n",
       "      <th>...</th>\n",
       "      <td>...</td>\n",
       "      <td>...</td>\n",
       "      <td>...</td>\n",
       "      <td>...</td>\n",
       "    </tr>\n",
       "    <tr>\n",
       "      <th>47142</th>\n",
       "      <td>oonc</td>\n",
       "      <td>-15.680902</td>\n",
       "      <td>mukka</td>\n",
       "      <td>-14.050289</td>\n",
       "    </tr>\n",
       "    <tr>\n",
       "      <th>47143</th>\n",
       "      <td>emeraldforestsugar</td>\n",
       "      <td>-15.680902</td>\n",
       "      <td>mul</td>\n",
       "      <td>-14.050289</td>\n",
       "    </tr>\n",
       "    <tr>\n",
       "      <th>47144</th>\n",
       "      <td>ooncentr</td>\n",
       "      <td>-15.680902</td>\n",
       "      <td>mulatilay</td>\n",
       "      <td>-14.050289</td>\n",
       "    </tr>\n",
       "    <tr>\n",
       "      <th>47145</th>\n",
       "      <td>embrass</td>\n",
       "      <td>-15.680902</td>\n",
       "      <td>mulder</td>\n",
       "      <td>-14.050289</td>\n",
       "    </tr>\n",
       "    <tr>\n",
       "      <th>47146</th>\n",
       "      <td>emblazon</td>\n",
       "      <td>-15.680902</td>\n",
       "      <td>mulit</td>\n",
       "      <td>-14.050289</td>\n",
       "    </tr>\n",
       "    <tr>\n",
       "      <th>47147</th>\n",
       "      <td>embezzl</td>\n",
       "      <td>-15.680902</td>\n",
       "      <td>mulitpl</td>\n",
       "      <td>-14.050289</td>\n",
       "    </tr>\n",
       "    <tr>\n",
       "      <th>47148</th>\n",
       "      <td>raider</td>\n",
       "      <td>-15.680902</td>\n",
       "      <td>mulk</td>\n",
       "      <td>-14.050289</td>\n",
       "    </tr>\n",
       "    <tr>\n",
       "      <th>47149</th>\n",
       "      <td>ooooop</td>\n",
       "      <td>-15.680902</td>\n",
       "      <td>mullah</td>\n",
       "      <td>-14.050289</td>\n",
       "    </tr>\n",
       "    <tr>\n",
       "      <th>47150</th>\n",
       "      <td>embaress</td>\n",
       "      <td>-15.680902</td>\n",
       "      <td>mullein</td>\n",
       "      <td>-14.050289</td>\n",
       "    </tr>\n",
       "    <tr>\n",
       "      <th>47151</th>\n",
       "      <td>ooam</td>\n",
       "      <td>-15.680902</td>\n",
       "      <td>mulligan</td>\n",
       "      <td>-14.050289</td>\n",
       "    </tr>\n",
       "    <tr>\n",
       "      <th>47152</th>\n",
       "      <td>empathet</td>\n",
       "      <td>-15.680902</td>\n",
       "      <td>multiblend</td>\n",
       "      <td>-14.050289</td>\n",
       "    </tr>\n",
       "    <tr>\n",
       "      <th>47153</th>\n",
       "      <td>scamthi</td>\n",
       "      <td>-15.680902</td>\n",
       "      <td>multibran</td>\n",
       "      <td>-14.050289</td>\n",
       "    </tr>\n",
       "    <tr>\n",
       "      <th>47154</th>\n",
       "      <td>enchalada</td>\n",
       "      <td>-15.680902</td>\n",
       "      <td>multicarton</td>\n",
       "      <td>-14.050289</td>\n",
       "    </tr>\n",
       "    <tr>\n",
       "      <th>47155</th>\n",
       "      <td>encyclopaed</td>\n",
       "      <td>-15.680902</td>\n",
       "      <td>multicultur</td>\n",
       "      <td>-14.050289</td>\n",
       "    </tr>\n",
       "    <tr>\n",
       "      <th>47156</th>\n",
       "      <td>bezzera</td>\n",
       "      <td>-15.680902</td>\n",
       "      <td>multidimension</td>\n",
       "      <td>-14.050289</td>\n",
       "    </tr>\n",
       "    <tr>\n",
       "      <th>47157</th>\n",
       "      <td>raisenett</td>\n",
       "      <td>-15.680902</td>\n",
       "      <td>multidisciplinari</td>\n",
       "      <td>-14.050289</td>\n",
       "    </tr>\n",
       "    <tr>\n",
       "      <th>47158</th>\n",
       "      <td>bfn</td>\n",
       "      <td>-15.680902</td>\n",
       "      <td>multiflavor</td>\n",
       "      <td>-14.050289</td>\n",
       "    </tr>\n",
       "    <tr>\n",
       "      <th>47159</th>\n",
       "      <td>bfs</td>\n",
       "      <td>-15.680902</td>\n",
       "      <td>multifuncut</td>\n",
       "      <td>-14.050289</td>\n",
       "    </tr>\n",
       "    <tr>\n",
       "      <th>47160</th>\n",
       "      <td>enchlada</td>\n",
       "      <td>-15.680902</td>\n",
       "      <td>multigallon</td>\n",
       "      <td>-14.050289</td>\n",
       "    </tr>\n",
       "    <tr>\n",
       "      <th>47161</th>\n",
       "      <td>trunatur</td>\n",
       "      <td>-15.680902</td>\n",
       "      <td>multigrano</td>\n",
       "      <td>-14.050289</td>\n",
       "    </tr>\n",
       "    <tr>\n",
       "      <th>47162</th>\n",
       "      <td>enbed</td>\n",
       "      <td>-15.680902</td>\n",
       "      <td>multilay</td>\n",
       "      <td>-14.050289</td>\n",
       "    </tr>\n",
       "    <tr>\n",
       "      <th>47163</th>\n",
       "      <td>emphaisi</td>\n",
       "      <td>-15.680902</td>\n",
       "      <td>multilevel</td>\n",
       "      <td>-14.050289</td>\n",
       "    </tr>\n",
       "    <tr>\n",
       "      <th>47164</th>\n",
       "      <td>onnale</td>\n",
       "      <td>-15.680902</td>\n",
       "      <td>multimet</td>\n",
       "      <td>-14.050289</td>\n",
       "    </tr>\n",
       "    <tr>\n",
       "      <th>47165</th>\n",
       "      <td>truss</td>\n",
       "      <td>-15.680902</td>\n",
       "      <td>multipag</td>\n",
       "      <td>-14.050289</td>\n",
       "    </tr>\n",
       "    <tr>\n",
       "      <th>47166</th>\n",
       "      <td>bhindi</td>\n",
       "      <td>-15.680902</td>\n",
       "      <td>multipak</td>\n",
       "      <td>-14.050289</td>\n",
       "    </tr>\n",
       "    <tr>\n",
       "      <th>47167</th>\n",
       "      <td>scammer</td>\n",
       "      <td>-15.680902</td>\n",
       "      <td>multiport</td>\n",
       "      <td>-14.050289</td>\n",
       "    </tr>\n",
       "    <tr>\n",
       "      <th>47168</th>\n",
       "      <td>scammish</td>\n",
       "      <td>-15.680902</td>\n",
       "      <td>multipurpos</td>\n",
       "      <td>-14.050289</td>\n",
       "    </tr>\n",
       "    <tr>\n",
       "      <th>47169</th>\n",
       "      <td>truthinlabel</td>\n",
       "      <td>-15.680902</td>\n",
       "      <td>multitid</td>\n",
       "      <td>-14.050289</td>\n",
       "    </tr>\n",
       "    <tr>\n",
       "      <th>47170</th>\n",
       "      <td>sitll</td>\n",
       "      <td>-15.680902</td>\n",
       "      <td>multitut</td>\n",
       "      <td>-14.050289</td>\n",
       "    </tr>\n",
       "    <tr>\n",
       "      <th>47171</th>\n",
       "      <td>tfg</td>\n",
       "      <td>-15.680902</td>\n",
       "      <td>aaa</td>\n",
       "      <td>-14.050289</td>\n",
       "    </tr>\n",
       "  </tbody>\n",
       "</table>\n",
       "<p>47172 rows × 4 columns</p>\n",
       "</div>"
      ],
      "text/plain": [
       "                Pos_Words  Pos_Importance          Neg_Words  Neg_Importance\n",
       "0                    like       -4.408478               tast       -4.126758\n",
       "1                    tast       -4.412099               like       -4.246824\n",
       "2                    love       -4.433405            product       -4.390704\n",
       "3                   great       -4.458662                one       -4.752713\n",
       "4                    good       -4.476377             flavor       -4.764328\n",
       "5                  flavor       -4.598010              would       -4.856262\n",
       "6                     use       -4.708053                tri       -4.901650\n",
       "7                 product       -4.714912                buy       -5.005655\n",
       "8                     one       -4.797766               good       -5.008839\n",
       "9                     tri       -4.882972              coffe       -5.043479\n",
       "10                  coffe       -4.922982              order       -5.072395\n",
       "11                    tea       -4.969096                use       -5.102608\n",
       "12                   make       -5.025104                get       -5.134089\n",
       "13                    get       -5.080651               dont       -5.235991\n",
       "14                    buy       -5.213327                box       -5.302261\n",
       "15                  price       -5.286251                tea       -5.373534\n",
       "16                   best       -5.289779               food       -5.388235\n",
       "17                   time       -5.296074               even       -5.390599\n",
       "18                   food       -5.301066             amazon       -5.484577\n",
       "19                 realli       -5.330851                eat       -5.505956\n",
       "20                  order       -5.333103               much       -5.507798\n",
       "21                 amazon       -5.339127               time       -5.533751\n",
       "22                  would       -5.343920               make       -5.538938\n",
       "23                   find       -5.360609                bag       -5.540281\n",
       "24                    eat       -5.393413             realli       -5.541417\n",
       "25                   much       -5.473519               love       -5.563907\n",
       "26                  store       -5.497075               look       -5.574797\n",
       "27                  littl       -5.510175         disappoint       -5.576006\n",
       "28                   also       -5.551246            purchas       -5.587835\n",
       "29                   dont       -5.563069             packag       -5.608922\n",
       "...                   ...             ...                ...             ...\n",
       "47142                oonc      -15.680902              mukka      -14.050289\n",
       "47143  emeraldforestsugar      -15.680902                mul      -14.050289\n",
       "47144            ooncentr      -15.680902          mulatilay      -14.050289\n",
       "47145             embrass      -15.680902             mulder      -14.050289\n",
       "47146            emblazon      -15.680902              mulit      -14.050289\n",
       "47147             embezzl      -15.680902            mulitpl      -14.050289\n",
       "47148              raider      -15.680902               mulk      -14.050289\n",
       "47149              ooooop      -15.680902             mullah      -14.050289\n",
       "47150            embaress      -15.680902            mullein      -14.050289\n",
       "47151                ooam      -15.680902           mulligan      -14.050289\n",
       "47152            empathet      -15.680902         multiblend      -14.050289\n",
       "47153             scamthi      -15.680902          multibran      -14.050289\n",
       "47154           enchalada      -15.680902        multicarton      -14.050289\n",
       "47155         encyclopaed      -15.680902        multicultur      -14.050289\n",
       "47156             bezzera      -15.680902     multidimension      -14.050289\n",
       "47157           raisenett      -15.680902  multidisciplinari      -14.050289\n",
       "47158                 bfn      -15.680902        multiflavor      -14.050289\n",
       "47159                 bfs      -15.680902        multifuncut      -14.050289\n",
       "47160            enchlada      -15.680902        multigallon      -14.050289\n",
       "47161            trunatur      -15.680902         multigrano      -14.050289\n",
       "47162               enbed      -15.680902           multilay      -14.050289\n",
       "47163            emphaisi      -15.680902         multilevel      -14.050289\n",
       "47164              onnale      -15.680902           multimet      -14.050289\n",
       "47165               truss      -15.680902           multipag      -14.050289\n",
       "47166              bhindi      -15.680902           multipak      -14.050289\n",
       "47167             scammer      -15.680902          multiport      -14.050289\n",
       "47168            scammish      -15.680902        multipurpos      -14.050289\n",
       "47169        truthinlabel      -15.680902           multitid      -14.050289\n",
       "47170               sitll      -15.680902           multitut      -14.050289\n",
       "47171                 tfg      -15.680902                aaa      -14.050289\n",
       "\n",
       "[47172 rows x 4 columns]"
      ]
     },
     "execution_count": 26,
     "metadata": {},
     "output_type": "execute_result"
    }
   ],
   "source": [
    "mnb = MultinomialNB(alpha = 0.1)\n",
    "mnb.fit(bow_train,Y_tr)\n",
    "imp_feature(count_vect,mnb)"
   ]
  },
  {
   "cell_type": "markdown",
   "metadata": {},
   "source": [
    "##  TF-IDF"
   ]
  },
  {
   "cell_type": "code",
   "execution_count": 27,
   "metadata": {
    "ExecuteTime": {
     "end_time": "2019-01-27T00:07:30.239278Z",
     "start_time": "2019-01-27T00:06:24.804607Z"
    }
   },
   "outputs": [
    {
     "name": "stdout",
     "output_type": "stream",
     "text": [
      "The type of count vectorizer  <class 'scipy.sparse.csr.csr_matrix'>\n",
      "The shape of out text TFIDF vectorizer  (156333, 1700503)\n",
      "CV Data Size:  (77001, 1700503)\n",
      "Test Data Size:  (114926, 1700503)\n"
     ]
    }
   ],
   "source": [
    "tf_idf_vect = TfidfVectorizer(ngram_range=(1,2))\n",
    "tfidf_train = tf_idf_vect.fit_transform(X_tr)\n",
    "print(\"The type of count vectorizer \",type(tfidf_train))\n",
    "print(\"The shape of out text TFIDF vectorizer \",tfidf_train.get_shape())\n",
    "tfidf_cv = tf_idf_vect.transform(X_cv)\n",
    "tfidf_test = tf_idf_vect.transform(X_test)\n",
    "print(\"CV Data Size: \",tfidf_cv.shape)\n",
    "print(\"Test Data Size: \",tfidf_test.shape)"
   ]
  },
  {
   "cell_type": "code",
   "execution_count": 28,
   "metadata": {
    "ExecuteTime": {
     "end_time": "2019-01-27T00:07:33.427407Z",
     "start_time": "2019-01-27T00:07:32.879730Z"
    }
   },
   "outputs": [
    {
     "name": "stdout",
     "output_type": "stream",
     "text": [
      "The shape of out text BOW vectorizer  (156333, 1700503)\n",
      "CV Data Size:  (77001, 1700503)\n",
      "Test Data Size:  (114926, 1700503)\n"
     ]
    }
   ],
   "source": [
    "#Normalize Data\n",
    "from sklearn import preprocessing\n",
    "from sklearn.preprocessing import Normalizer\n",
    "tfidf_train=preprocessing.normalize(tfidf_train)\n",
    "tfidf_cv=preprocessing.normalize(tfidf_cv)\n",
    "tfidf_test=preprocessing.normalize(tfidf_test)\n",
    "print(\"The shape of out text BOW vectorizer \",tfidf_train.get_shape())\n",
    "print(\"CV Data Size: \",tfidf_cv.shape)\n",
    "print(\"Test Data Size: \",tfidf_test.shape)"
   ]
  },
  {
   "cell_type": "code",
   "execution_count": 29,
   "metadata": {
    "ExecuteTime": {
     "end_time": "2019-01-27T00:08:00.885487Z",
     "start_time": "2019-01-27T00:07:35.934364Z"
    }
   },
   "outputs": [
    {
     "name": "stdout",
     "output_type": "stream",
     "text": [
      "10000  ------>  0.6461512740658859\n",
      "5000  ------>  0.6473422255661663\n",
      "1000  ------>  0.6541082355075842\n",
      "500  ------>  0.6594912039398987\n",
      "100  ------>  0.679685448236734\n",
      "50  ------>  0.6923646644108793\n",
      "10  ------>  0.7316951113639796\n",
      "5  ------>  0.7538849522372294\n",
      "1  ------>  0.8287088319571705\n",
      "0.5  ------>  0.8713004566704378\n",
      "0.1  ------>  0.9375367876517429\n",
      "0.05  ------>  0.9430939915889895\n",
      "0.01  ------>  0.9339782961633863\n",
      "0.005  ------>  0.9249419180950971\n",
      "0.001  ------>  0.8995744381203381\n",
      "0.0005  ------>  0.8885836403858436\n",
      "0.0001  ------>  0.8654511661583819\n",
      "5e-05  ------>  0.8567242961986493\n",
      "1e-05  ------>  0.8391959259654784\n",
      "\n",
      " Best alpha Value 0.05 with highest roc_auc Score is 0.9430939915889895\n"
     ]
    },
    {
     "data": {
      "image/png": "[encoded data removed]",
      "text/plain": [
       "<Figure size 432x288 with 1 Axes>"
      ]
     },
     "metadata": {},
     "output_type": "display_data"
    },
    {
     "data": {
      "image/png": "[encoded data removed]",
      "text/plain": [
       "<Figure size 432x288 with 1 Axes>"
      ]
     },
     "metadata": {},
     "output_type": "display_data"
    }
   ],
   "source": [
    "# find optimal_alpha\n",
    "mulnb(tfidf_train,tfidf_cv,Y_tr,Y_cv)"
   ]
  },
  {
   "cell_type": "markdown",
   "metadata": {},
   "source": [
    "### KNN with simple CV Over the unseen or Test data in TF-IDF"
   ]
  },
  {
   "cell_type": "code",
   "execution_count": 30,
   "metadata": {
    "ExecuteTime": {
     "end_time": "2019-01-27T00:08:33.254339Z",
     "start_time": "2019-01-27T00:08:30.941204Z"
    }
   },
   "outputs": [
    {
     "name": "stdout",
     "output_type": "stream",
     "text": [
      "AUC Score 0.9443887916254162\n",
      "macro f1 score for data : 0.7134150287115463\n",
      "micro f1 scoore for data: 0.8906078694116215\n",
      "hamming loss for data: 0.10939213058837861\n",
      "Precision recall report for data:\n",
      "               precision    recall  f1-score   support\n",
      "\n",
      "           0       0.93      0.33      0.49     18099\n",
      "           1       0.89      1.00      0.94     96827\n",
      "\n",
      "   micro avg       0.89      0.89      0.89    114926\n",
      "   macro avg       0.91      0.66      0.71    114926\n",
      "weighted avg       0.89      0.89      0.87    114926\n",
      "\n"
     ]
    },
    {
     "data": {
      "image/png": "[encoded data removed]",
      "text/plain": [
       "<Figure size 432x288 with 1 Axes>"
      ]
     },
     "metadata": {},
     "output_type": "display_data"
    },
    {
     "data": {
      "image/png": "[encoded data removed]",
      "text/plain": [
       "<Figure size 432x288 with 2 Axes>"
      ]
     },
     "metadata": {},
     "output_type": "display_data"
    }
   ],
   "source": [
    "testing(tfidf_train,Y_tr,tfidf_test,Y_test,optimal_alpha=0.05)"
   ]
  },
  {
   "cell_type": "code",
   "execution_count": 31,
   "metadata": {
    "ExecuteTime": {
     "end_time": "2019-01-27T00:09:09.662922Z",
     "start_time": "2019-01-27T00:08:48.732848Z"
    }
   },
   "outputs": [
    {
     "data": {
      "text/html": [
       "<div>\n",
       "<style scoped>\n",
       "    .dataframe tbody tr th:only-of-type {\n",
       "        vertical-align: middle;\n",
       "    }\n",
       "\n",
       "    .dataframe tbody tr th {\n",
       "        vertical-align: top;\n",
       "    }\n",
       "\n",
       "    .dataframe thead th {\n",
       "        text-align: right;\n",
       "    }\n",
       "</style>\n",
       "<table border=\"1\" class=\"dataframe\">\n",
       "  <thead>\n",
       "    <tr style=\"text-align: right;\">\n",
       "      <th></th>\n",
       "      <th>Pos_Words</th>\n",
       "      <th>Pos_Importance</th>\n",
       "      <th>Neg_Words</th>\n",
       "      <th>Neg_Importance</th>\n",
       "    </tr>\n",
       "  </thead>\n",
       "  <tbody>\n",
       "    <tr>\n",
       "      <th>0</th>\n",
       "      <td>great</td>\n",
       "      <td>-6.297653</td>\n",
       "      <td>tast</td>\n",
       "      <td>-6.357245</td>\n",
       "    </tr>\n",
       "    <tr>\n",
       "      <th>1</th>\n",
       "      <td>love</td>\n",
       "      <td>-6.299114</td>\n",
       "      <td>like</td>\n",
       "      <td>-6.490941</td>\n",
       "    </tr>\n",
       "    <tr>\n",
       "      <th>2</th>\n",
       "      <td>tast</td>\n",
       "      <td>-6.341551</td>\n",
       "      <td>product</td>\n",
       "      <td>-6.514279</td>\n",
       "    </tr>\n",
       "    <tr>\n",
       "      <th>3</th>\n",
       "      <td>like</td>\n",
       "      <td>-6.351108</td>\n",
       "      <td>would</td>\n",
       "      <td>-6.837367</td>\n",
       "    </tr>\n",
       "    <tr>\n",
       "      <th>4</th>\n",
       "      <td>good</td>\n",
       "      <td>-6.353745</td>\n",
       "      <td>coffe</td>\n",
       "      <td>-6.854715</td>\n",
       "    </tr>\n",
       "    <tr>\n",
       "      <th>5</th>\n",
       "      <td>tea</td>\n",
       "      <td>-6.395088</td>\n",
       "      <td>flavor</td>\n",
       "      <td>-6.874824</td>\n",
       "    </tr>\n",
       "    <tr>\n",
       "      <th>6</th>\n",
       "      <td>flavor</td>\n",
       "      <td>-6.409692</td>\n",
       "      <td>one</td>\n",
       "      <td>-6.879084</td>\n",
       "    </tr>\n",
       "    <tr>\n",
       "      <th>7</th>\n",
       "      <td>coffe</td>\n",
       "      <td>-6.422050</td>\n",
       "      <td>order</td>\n",
       "      <td>-6.990328</td>\n",
       "    </tr>\n",
       "    <tr>\n",
       "      <th>8</th>\n",
       "      <td>use</td>\n",
       "      <td>-6.512606</td>\n",
       "      <td>buy</td>\n",
       "      <td>-6.993840</td>\n",
       "    </tr>\n",
       "    <tr>\n",
       "      <th>9</th>\n",
       "      <td>product</td>\n",
       "      <td>-6.530451</td>\n",
       "      <td>tri</td>\n",
       "      <td>-6.994613</td>\n",
       "    </tr>\n",
       "    <tr>\n",
       "      <th>10</th>\n",
       "      <td>one</td>\n",
       "      <td>-6.617949</td>\n",
       "      <td>box</td>\n",
       "      <td>-7.071098</td>\n",
       "    </tr>\n",
       "    <tr>\n",
       "      <th>11</th>\n",
       "      <td>tri</td>\n",
       "      <td>-6.673656</td>\n",
       "      <td>tea</td>\n",
       "      <td>-7.098207</td>\n",
       "    </tr>\n",
       "    <tr>\n",
       "      <th>12</th>\n",
       "      <td>make</td>\n",
       "      <td>-6.756376</td>\n",
       "      <td>dont</td>\n",
       "      <td>-7.156228</td>\n",
       "    </tr>\n",
       "    <tr>\n",
       "      <th>13</th>\n",
       "      <td>get</td>\n",
       "      <td>-6.819603</td>\n",
       "      <td>disappoint</td>\n",
       "      <td>-7.164726</td>\n",
       "    </tr>\n",
       "    <tr>\n",
       "      <th>14</th>\n",
       "      <td>food</td>\n",
       "      <td>-6.855254</td>\n",
       "      <td>get</td>\n",
       "      <td>-7.175430</td>\n",
       "    </tr>\n",
       "    <tr>\n",
       "      <th>15</th>\n",
       "      <td>price</td>\n",
       "      <td>-6.878565</td>\n",
       "      <td>good</td>\n",
       "      <td>-7.191501</td>\n",
       "    </tr>\n",
       "    <tr>\n",
       "      <th>16</th>\n",
       "      <td>best</td>\n",
       "      <td>-6.886217</td>\n",
       "      <td>use</td>\n",
       "      <td>-7.211120</td>\n",
       "    </tr>\n",
       "    <tr>\n",
       "      <th>17</th>\n",
       "      <td>buy</td>\n",
       "      <td>-6.890302</td>\n",
       "      <td>food</td>\n",
       "      <td>-7.245361</td>\n",
       "    </tr>\n",
       "    <tr>\n",
       "      <th>18</th>\n",
       "      <td>order</td>\n",
       "      <td>-6.947551</td>\n",
       "      <td>even</td>\n",
       "      <td>-7.280433</td>\n",
       "    </tr>\n",
       "    <tr>\n",
       "      <th>19</th>\n",
       "      <td>realli</td>\n",
       "      <td>-6.950182</td>\n",
       "      <td>bag</td>\n",
       "      <td>-7.323766</td>\n",
       "    </tr>\n",
       "    <tr>\n",
       "      <th>20</th>\n",
       "      <td>time</td>\n",
       "      <td>-6.950935</td>\n",
       "      <td>bad</td>\n",
       "      <td>-7.332659</td>\n",
       "    </tr>\n",
       "    <tr>\n",
       "      <th>21</th>\n",
       "      <td>find</td>\n",
       "      <td>-6.962161</td>\n",
       "      <td>purchas</td>\n",
       "      <td>-7.373697</td>\n",
       "    </tr>\n",
       "    <tr>\n",
       "      <th>22</th>\n",
       "      <td>amazon</td>\n",
       "      <td>-6.962618</td>\n",
       "      <td>dog</td>\n",
       "      <td>-7.383235</td>\n",
       "    </tr>\n",
       "    <tr>\n",
       "      <th>23</th>\n",
       "      <td>dog</td>\n",
       "      <td>-6.988113</td>\n",
       "      <td>packag</td>\n",
       "      <td>-7.385427</td>\n",
       "    </tr>\n",
       "    <tr>\n",
       "      <th>24</th>\n",
       "      <td>eat</td>\n",
       "      <td>-6.997925</td>\n",
       "      <td>look</td>\n",
       "      <td>-7.387054</td>\n",
       "    </tr>\n",
       "    <tr>\n",
       "      <th>25</th>\n",
       "      <td>would</td>\n",
       "      <td>-7.019121</td>\n",
       "      <td>bought</td>\n",
       "      <td>-7.410442</td>\n",
       "    </tr>\n",
       "    <tr>\n",
       "      <th>26</th>\n",
       "      <td>store</td>\n",
       "      <td>-7.054939</td>\n",
       "      <td>amazon</td>\n",
       "      <td>-7.414227</td>\n",
       "    </tr>\n",
       "    <tr>\n",
       "      <th>27</th>\n",
       "      <td>much</td>\n",
       "      <td>-7.090048</td>\n",
       "      <td>eat</td>\n",
       "      <td>-7.415962</td>\n",
       "    </tr>\n",
       "    <tr>\n",
       "      <th>28</th>\n",
       "      <td>drink</td>\n",
       "      <td>-7.095435</td>\n",
       "      <td>much</td>\n",
       "      <td>-7.426037</td>\n",
       "    </tr>\n",
       "    <tr>\n",
       "      <th>29</th>\n",
       "      <td>littl</td>\n",
       "      <td>-7.098959</td>\n",
       "      <td>tast like</td>\n",
       "      <td>-7.429794</td>\n",
       "    </tr>\n",
       "    <tr>\n",
       "      <th>...</th>\n",
       "      <td>...</td>\n",
       "      <td>...</td>\n",
       "      <td>...</td>\n",
       "      <td>...</td>\n",
       "    </tr>\n",
       "    <tr>\n",
       "      <th>1700473</th>\n",
       "      <td>store germani</td>\n",
       "      <td>-16.819791</td>\n",
       "      <td>opinion neapolitan</td>\n",
       "      <td>-15.477831</td>\n",
       "    </tr>\n",
       "    <tr>\n",
       "      <th>1700474</th>\n",
       "      <td>honest view</td>\n",
       "      <td>-16.819791</td>\n",
       "      <td>opinion near</td>\n",
       "      <td>-15.477831</td>\n",
       "    </tr>\n",
       "    <tr>\n",
       "      <th>1700475</th>\n",
       "      <td>honest vendor</td>\n",
       "      <td>-16.819791</td>\n",
       "      <td>opinion needless</td>\n",
       "      <td>-15.477831</td>\n",
       "    </tr>\n",
       "    <tr>\n",
       "      <th>1700476</th>\n",
       "      <td>rancid aftertast</td>\n",
       "      <td>-16.819791</td>\n",
       "      <td>opinion neither</td>\n",
       "      <td>-15.477831</td>\n",
       "    </tr>\n",
       "    <tr>\n",
       "      <th>1700477</th>\n",
       "      <td>rancid almost</td>\n",
       "      <td>-16.819791</td>\n",
       "      <td>opinion never</td>\n",
       "      <td>-15.477831</td>\n",
       "    </tr>\n",
       "    <tr>\n",
       "      <th>1700478</th>\n",
       "      <td>chewi border</td>\n",
       "      <td>-16.819791</td>\n",
       "      <td>opinion newman</td>\n",
       "      <td>-15.477831</td>\n",
       "    </tr>\n",
       "    <tr>\n",
       "      <th>1700479</th>\n",
       "      <td>store ganular</td>\n",
       "      <td>-16.819791</td>\n",
       "      <td>opinion newton</td>\n",
       "      <td>-15.477831</td>\n",
       "    </tr>\n",
       "    <tr>\n",
       "      <th>1700480</th>\n",
       "      <td>honest transpar</td>\n",
       "      <td>-16.819791</td>\n",
       "      <td>opinion next</td>\n",
       "      <td>-15.477831</td>\n",
       "    </tr>\n",
       "    <tr>\n",
       "      <th>1700481</th>\n",
       "      <td>honest timothi</td>\n",
       "      <td>-16.819791</td>\n",
       "      <td>opinion minor</td>\n",
       "      <td>-15.477831</td>\n",
       "    </tr>\n",
       "    <tr>\n",
       "      <th>1700482</th>\n",
       "      <td>watermelon give</td>\n",
       "      <td>-16.819791</td>\n",
       "      <td>opinion milk</td>\n",
       "      <td>-15.477831</td>\n",
       "    </tr>\n",
       "    <tr>\n",
       "      <th>1700483</th>\n",
       "      <td>rancid ask</td>\n",
       "      <td>-16.819791</td>\n",
       "      <td>opinion lipton</td>\n",
       "      <td>-15.477831</td>\n",
       "    </tr>\n",
       "    <tr>\n",
       "      <th>1700484</th>\n",
       "      <td>rancho call</td>\n",
       "      <td>-16.819791</td>\n",
       "      <td>opinion method</td>\n",
       "      <td>-15.477831</td>\n",
       "    </tr>\n",
       "    <tr>\n",
       "      <th>1700485</th>\n",
       "      <td>chewi base</td>\n",
       "      <td>-16.819791</td>\n",
       "      <td>opinion littl</td>\n",
       "      <td>-15.477831</td>\n",
       "    </tr>\n",
       "    <tr>\n",
       "      <th>1700486</th>\n",
       "      <td>chewi bare</td>\n",
       "      <td>-16.819791</td>\n",
       "      <td>opinion long</td>\n",
       "      <td>-15.477831</td>\n",
       "    </tr>\n",
       "    <tr>\n",
       "      <th>1700487</th>\n",
       "      <td>chewi amazon</td>\n",
       "      <td>-16.819791</td>\n",
       "      <td>opinion longer</td>\n",
       "      <td>-15.477831</td>\n",
       "    </tr>\n",
       "    <tr>\n",
       "      <th>1700488</th>\n",
       "      <td>worthwhil return</td>\n",
       "      <td>-16.819791</td>\n",
       "      <td>opinion love</td>\n",
       "      <td>-15.477831</td>\n",
       "    </tr>\n",
       "    <tr>\n",
       "      <th>1700489</th>\n",
       "      <td>two went</td>\n",
       "      <td>-16.819791</td>\n",
       "      <td>opinion lundberg</td>\n",
       "      <td>-15.477831</td>\n",
       "    </tr>\n",
       "    <tr>\n",
       "      <th>1700490</th>\n",
       "      <td>honesti cannot</td>\n",
       "      <td>-16.819791</td>\n",
       "      <td>opinion lurpak</td>\n",
       "      <td>-15.477831</td>\n",
       "    </tr>\n",
       "    <tr>\n",
       "      <th>1700491</th>\n",
       "      <td>honesti best</td>\n",
       "      <td>-16.819791</td>\n",
       "      <td>opinion magnesium</td>\n",
       "      <td>-15.477831</td>\n",
       "    </tr>\n",
       "    <tr>\n",
       "      <th>1700492</th>\n",
       "      <td>honesti believ</td>\n",
       "      <td>-16.819791</td>\n",
       "      <td>opinion main</td>\n",
       "      <td>-15.477831</td>\n",
       "    </tr>\n",
       "    <tr>\n",
       "      <th>1700493</th>\n",
       "      <td>store gold</td>\n",
       "      <td>-16.819791</td>\n",
       "      <td>opinion mani</td>\n",
       "      <td>-15.477831</td>\n",
       "    </tr>\n",
       "    <tr>\n",
       "      <th>1700494</th>\n",
       "      <td>honesti advertis</td>\n",
       "      <td>-16.819791</td>\n",
       "      <td>opinion manner</td>\n",
       "      <td>-15.477831</td>\n",
       "    </tr>\n",
       "    <tr>\n",
       "      <th>1700495</th>\n",
       "      <td>rancho bowl</td>\n",
       "      <td>-16.819791</td>\n",
       "      <td>opinion match</td>\n",
       "      <td>-15.477831</td>\n",
       "    </tr>\n",
       "    <tr>\n",
       "      <th>1700496</th>\n",
       "      <td>chewi arent</td>\n",
       "      <td>-16.819791</td>\n",
       "      <td>opinion matcha</td>\n",
       "      <td>-15.477831</td>\n",
       "    </tr>\n",
       "    <tr>\n",
       "      <th>1700497</th>\n",
       "      <td>chewi asian</td>\n",
       "      <td>-16.819791</td>\n",
       "      <td>opinion may</td>\n",
       "      <td>-15.477831</td>\n",
       "    </tr>\n",
       "    <tr>\n",
       "      <th>1700498</th>\n",
       "      <td>honest zero</td>\n",
       "      <td>-16.819791</td>\n",
       "      <td>opinion mccann</td>\n",
       "      <td>-15.477831</td>\n",
       "    </tr>\n",
       "    <tr>\n",
       "      <th>1700499</th>\n",
       "      <td>honest wouldnt</td>\n",
       "      <td>-16.819791</td>\n",
       "      <td>opinion mean</td>\n",
       "      <td>-15.477831</td>\n",
       "    </tr>\n",
       "    <tr>\n",
       "      <th>1700500</th>\n",
       "      <td>watermelon fruit</td>\n",
       "      <td>-16.819791</td>\n",
       "      <td>opinion meat</td>\n",
       "      <td>-15.477831</td>\n",
       "    </tr>\n",
       "    <tr>\n",
       "      <th>1700501</th>\n",
       "      <td>honest worst</td>\n",
       "      <td>-16.819791</td>\n",
       "      <td>opinion melt</td>\n",
       "      <td>-15.477831</td>\n",
       "    </tr>\n",
       "    <tr>\n",
       "      <th>1700502</th>\n",
       "      <td>second seller</td>\n",
       "      <td>-16.819791</td>\n",
       "      <td>aaa</td>\n",
       "      <td>-15.477831</td>\n",
       "    </tr>\n",
       "  </tbody>\n",
       "</table>\n",
       "<p>1700503 rows × 4 columns</p>\n",
       "</div>"
      ],
      "text/plain": [
       "                Pos_Words  Pos_Importance           Neg_Words  Neg_Importance\n",
       "0                   great       -6.297653                tast       -6.357245\n",
       "1                    love       -6.299114                like       -6.490941\n",
       "2                    tast       -6.341551             product       -6.514279\n",
       "3                    like       -6.351108               would       -6.837367\n",
       "4                    good       -6.353745               coffe       -6.854715\n",
       "5                     tea       -6.395088              flavor       -6.874824\n",
       "6                  flavor       -6.409692                 one       -6.879084\n",
       "7                   coffe       -6.422050               order       -6.990328\n",
       "8                     use       -6.512606                 buy       -6.993840\n",
       "9                 product       -6.530451                 tri       -6.994613\n",
       "10                    one       -6.617949                 box       -7.071098\n",
       "11                    tri       -6.673656                 tea       -7.098207\n",
       "12                   make       -6.756376                dont       -7.156228\n",
       "13                    get       -6.819603          disappoint       -7.164726\n",
       "14                   food       -6.855254                 get       -7.175430\n",
       "15                  price       -6.878565                good       -7.191501\n",
       "16                   best       -6.886217                 use       -7.211120\n",
       "17                    buy       -6.890302                food       -7.245361\n",
       "18                  order       -6.947551                even       -7.280433\n",
       "19                 realli       -6.950182                 bag       -7.323766\n",
       "20                   time       -6.950935                 bad       -7.332659\n",
       "21                   find       -6.962161             purchas       -7.373697\n",
       "22                 amazon       -6.962618                 dog       -7.383235\n",
       "23                    dog       -6.988113              packag       -7.385427\n",
       "24                    eat       -6.997925                look       -7.387054\n",
       "25                  would       -7.019121              bought       -7.410442\n",
       "26                  store       -7.054939              amazon       -7.414227\n",
       "27                   much       -7.090048                 eat       -7.415962\n",
       "28                  drink       -7.095435                much       -7.426037\n",
       "29                  littl       -7.098959           tast like       -7.429794\n",
       "...                   ...             ...                 ...             ...\n",
       "1700473     store germani      -16.819791  opinion neapolitan      -15.477831\n",
       "1700474       honest view      -16.819791        opinion near      -15.477831\n",
       "1700475     honest vendor      -16.819791    opinion needless      -15.477831\n",
       "1700476  rancid aftertast      -16.819791     opinion neither      -15.477831\n",
       "1700477     rancid almost      -16.819791       opinion never      -15.477831\n",
       "1700478      chewi border      -16.819791      opinion newman      -15.477831\n",
       "1700479     store ganular      -16.819791      opinion newton      -15.477831\n",
       "1700480   honest transpar      -16.819791        opinion next      -15.477831\n",
       "1700481    honest timothi      -16.819791       opinion minor      -15.477831\n",
       "1700482   watermelon give      -16.819791        opinion milk      -15.477831\n",
       "1700483        rancid ask      -16.819791      opinion lipton      -15.477831\n",
       "1700484       rancho call      -16.819791      opinion method      -15.477831\n",
       "1700485        chewi base      -16.819791       opinion littl      -15.477831\n",
       "1700486        chewi bare      -16.819791        opinion long      -15.477831\n",
       "1700487      chewi amazon      -16.819791      opinion longer      -15.477831\n",
       "1700488  worthwhil return      -16.819791        opinion love      -15.477831\n",
       "1700489          two went      -16.819791    opinion lundberg      -15.477831\n",
       "1700490    honesti cannot      -16.819791      opinion lurpak      -15.477831\n",
       "1700491      honesti best      -16.819791   opinion magnesium      -15.477831\n",
       "1700492    honesti believ      -16.819791        opinion main      -15.477831\n",
       "1700493        store gold      -16.819791        opinion mani      -15.477831\n",
       "1700494  honesti advertis      -16.819791      opinion manner      -15.477831\n",
       "1700495       rancho bowl      -16.819791       opinion match      -15.477831\n",
       "1700496       chewi arent      -16.819791      opinion matcha      -15.477831\n",
       "1700497       chewi asian      -16.819791         opinion may      -15.477831\n",
       "1700498       honest zero      -16.819791      opinion mccann      -15.477831\n",
       "1700499    honest wouldnt      -16.819791        opinion mean      -15.477831\n",
       "1700500  watermelon fruit      -16.819791        opinion meat      -15.477831\n",
       "1700501      honest worst      -16.819791        opinion melt      -15.477831\n",
       "1700502     second seller      -16.819791                 aaa      -15.477831\n",
       "\n",
       "[1700503 rows x 4 columns]"
      ]
     },
     "execution_count": 31,
     "metadata": {},
     "output_type": "execute_result"
    }
   ],
   "source": [
    "mnb = MultinomialNB(alpha = 0.05)\n",
    "mnb.fit(tfidf_train,Y_tr)\n",
    "imp_feature(tf_idf_vect,mnb)"
   ]
  },
  {
   "cell_type": "code",
   "execution_count": 32,
   "metadata": {
    "ExecuteTime": {
     "end_time": "2019-01-27T00:09:12.810988Z",
     "start_time": "2019-01-27T00:09:12.090947Z"
    }
   },
   "outputs": [
    {
     "data": {
      "text/markdown": [
       "****Final Conclusion:****"
      ],
      "text/plain": [
       "<IPython.core.display.Markdown object>"
      ]
     },
     "metadata": {},
     "output_type": "display_data"
    },
    {
     "name": "stdout",
     "output_type": "stream",
     "text": [
      "+------------+---------------+-------------------------------+----------------+\n",
      "| Vectorizer |     Model     | Best hyper parameter($\u0007lpha$) | Test Auc Score |\n",
      "+------------+---------------+-------------------------------+----------------+\n",
      "|    BoW     | MultinomialNB |              0.1              |     93.56      |\n",
      "|   Tf-Idf   | MultinomialNB |              0.05             |     94.43      |\n",
      "+------------+---------------+-------------------------------+----------------+\n"
     ]
    }
   ],
   "source": [
    "from prettytable import PrettyTable\n",
    "x = PrettyTable()\n",
    "x.field_names = [\"Vectorizer\", \"Model\", \"Best hyper parameter($\\alpha$)\",\"Test Auc Score\"]\n",
    "x.add_row([\"BoW\",\"MultinomialNB\",0.1,93.56])\n",
    "x.add_row([\"Tf-Idf\",\"MultinomialNB\",0.05,94.43])\n",
    "from IPython.display import Markdown, display\n",
    "def printmd(string):\n",
    "    display(Markdown(string))\n",
    "printmd('****Final Conclusion:****')\n",
    "print(x)"
   ]
  },
  {
   "cell_type": "code",
   "execution_count": null,
   "metadata": {},
   "outputs": [],
   "source": []
  }
 ],
 "metadata": {
  "colab": {
   "collapsed_sections": [
    "0Zhvc5AMMQwD"
   ],
   "name": "Amazon Fine Food Reviews Analysis.ipynb",
   "provenance": [],
   "version": "0.3.2"
  },
  "kernelspec": {
   "display_name": "Python 3",
   "language": "python",
   "name": "python3"
  },
  "language_info": {
   "codemirror_mode": {
    "name": "ipython",
    "version": 3
   },
   "file_extension": ".py",
   "mimetype": "text/x-python",
   "name": "python",
   "nbconvert_exporter": "python",
   "pygments_lexer": "ipython3",
   "version": "3.6.5"
  },
  "toc": {
   "base_numbering": 1,
   "nav_menu": {},
   "number_sections": true,
   "sideBar": true,
   "skip_h1_title": false,
   "title_cell": "Table of Contents",
   "title_sidebar": "Contents",
   "toc_cell": false,
   "toc_position": {},
   "toc_section_display": true,
   "toc_window_display": false
  },
  "varInspector": {
   "cols": {
    "lenName": 16,
    "lenType": 16,
    "lenVar": 40
   },
   "kernels_config": {
    "python": {
     "delete_cmd_postfix": "",
     "delete_cmd_prefix": "del ",
     "library": "var_list.py",
     "varRefreshCmd": "print(var_dic_list())"
    },
    "r": {
     "delete_cmd_postfix": ") ",
     "delete_cmd_prefix": "rm(",
     "library": "var_list.r",
     "varRefreshCmd": "cat(var_dic_list()) "
    }
   },
   "oldHeight": 660,
   "position": {
    "height": "40px",
    "left": "636px",
    "right": "20px",
    "top": "74px",
    "width": "717px"
   },
   "types_to_exclude": [
    "module",
    "function",
    "builtin_function_or_method",
    "instance",
    "_Feature"
   ],
   "varInspector_section_display": "none",
   "window_display": false
  }
 },
 "nbformat": 4,
 "nbformat_minor": 1
}
