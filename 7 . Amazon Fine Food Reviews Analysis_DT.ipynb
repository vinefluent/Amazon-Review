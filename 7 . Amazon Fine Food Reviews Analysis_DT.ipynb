{
 "cells": [
  {
   "cell_type": "markdown",
   "metadata": {
    "colab_type": "text",
    "id": "cyXEgMWtMQvM"
   },
   "source": [
    "# Amazon Fine Food Reviews Analysis\n",
    "\n",
    "\n",
    "Data Source: https://www.kaggle.com/snap/amazon-fine-food-reviews\n",
    "\n",
    "The Amazon Fine Food Reviews dataset consists of reviews of fine foods from Amazon.<br>\n",
    "\n",
    "Number of reviews: 568,454<br>\n",
    "Number of users: 256,059<br>\n",
    "Number of products: 74,258<br>\n",
    "Timespan: Oct 1999 - Oct 2012<br>\n",
    "Number of Attributes/Columns in data: 10 \n",
    "\n",
    "Attribute Information:\n",
    "\n",
    "1. Id\n",
    "2. ProductId - unique identifier for the product\n",
    "3. UserId - unqiue identifier for the user\n",
    "4. ProfileName\n",
    "5. HelpfulnessNumerator - number of users who found the review helpful\n",
    "6. HelpfulnessDenominator - number of users who indicated whether they found the review helpful or not\n",
    "7. Score - rating between 1 and 5\n",
    "8. Time - timestamp for the review\n",
    "9. Summary - brief summary of the review\n",
    "10. Text - text of the review\n",
    "\n",
    "\n",
    "<b>Objective:-</b>\n",
    "Given a review, determine whether the review is positive (Rating of 4 or 5) or negative (rating of 1 or 2).\n",
    "\n",
    "<br>\n",
    "[Q] How to determine if a review is positive or negative?<br>\n",
    "<br> \n",
    "[Ans] We could use the Score/Rating. A rating of 4 or 5 could be cosnidered a positive review. A review of 1 or 2 could be considered negative. A review of 3 is nuetral and ignored. This is an approximate and proxy way of determining the polarity (positivity/negativity) of a review.\n",
    "\n",
    "\n"
   ]
  },
  {
   "cell_type": "markdown",
   "metadata": {
    "colab_type": "text",
    "id": "nTN9VK62MQvN"
   },
   "source": [
    "## [1.1] Loading the data\n",
    "\n",
    "The dataset is available in two forms\n",
    "1. .csv file\n",
    "2. SQLite Database\n",
    "\n",
    "In order to load the data, We have used the SQLITE dataset as it easier to query the data and visualise the data efficiently.\n",
    "<br> \n",
    "\n",
    "Here as we only want to get the global sentiment of the recommendations (positive or negative), we will purposefully ignore all Scores equal to 3. If the score id above 3, then the recommendation wil be set to \"positive\". Otherwise, it will be set to \"negative\"."
   ]
  },
  {
   "cell_type": "code",
   "execution_count": 1,
   "metadata": {
    "ExecuteTime": {
     "end_time": "2019-03-31T20:40:11.109711Z",
     "start_time": "2019-03-31T20:40:08.636377Z"
    },
    "colab": {},
    "colab_type": "code",
    "id": "vXnuoQYEMQvO"
   },
   "outputs": [],
   "source": [
    "%matplotlib inline\n",
    "import warnings\n",
    "warnings.filterwarnings(\"ignore\")\n",
    "import sqlite3\n",
    "import pandas as pd\n",
    "import numpy as np\n",
    "import nltk\n",
    "import string\n",
    "import matplotlib.pyplot as plt\n",
    "import matplotlib.pyplot as pyplt\n",
    "import seaborn as sns\n",
    "from sklearn.feature_extraction.text import TfidfTransformer\n",
    "from sklearn.feature_extraction.text import TfidfVectorizer\n",
    "from sklearn.feature_extraction.text import CountVectorizer\n",
    "from sklearn.metrics import confusion_matrix\n",
    "from sklearn import metrics\n",
    "from sklearn.metrics import roc_curve, auc\n",
    "from nltk.stem.porter import PorterStemmer\n",
    "import re\n",
    "# Tutorial about Python regular expressions: https://pymotw.com/2/re/\n",
    "import string\n",
    "from nltk.corpus import stopwords\n",
    "from nltk.stem import PorterStemmer\n",
    "from nltk.stem.wordnet import WordNetLemmatizer\n",
    "import pickle\n",
    "from tqdm import tqdm\n",
    "import os"
   ]
  },
  {
   "cell_type": "code",
   "execution_count": 2,
   "metadata": {
    "ExecuteTime": {
     "end_time": "2019-03-31T20:40:19.502555Z",
     "start_time": "2019-03-31T20:40:11.139207Z"
    },
    "colab": {},
    "colab_type": "code",
    "id": "-lrJx9N9MQvT"
   },
   "outputs": [
    {
     "name": "stdout",
     "output_type": "stream",
     "text": [
      "Number of data points in our data (525814, 10)\n"
     ]
    },
    {
     "data": {
      "text/html": [
       "<div>\n",
       "<style scoped>\n",
       "    .dataframe tbody tr th:only-of-type {\n",
       "        vertical-align: middle;\n",
       "    }\n",
       "\n",
       "    .dataframe tbody tr th {\n",
       "        vertical-align: top;\n",
       "    }\n",
       "\n",
       "    .dataframe thead th {\n",
       "        text-align: right;\n",
       "    }\n",
       "</style>\n",
       "<table border=\"1\" class=\"dataframe\">\n",
       "  <thead>\n",
       "    <tr style=\"text-align: right;\">\n",
       "      <th></th>\n",
       "      <th>Id</th>\n",
       "      <th>ProductId</th>\n",
       "      <th>UserId</th>\n",
       "      <th>ProfileName</th>\n",
       "      <th>HelpfulnessNumerator</th>\n",
       "      <th>HelpfulnessDenominator</th>\n",
       "      <th>Score</th>\n",
       "      <th>Time</th>\n",
       "      <th>Summary</th>\n",
       "      <th>Text</th>\n",
       "    </tr>\n",
       "  </thead>\n",
       "  <tbody>\n",
       "    <tr>\n",
       "      <th>0</th>\n",
       "      <td>1</td>\n",
       "      <td>B001E4KFG0</td>\n",
       "      <td>A3SGXH7AUHU8GW</td>\n",
       "      <td>delmartian</td>\n",
       "      <td>1</td>\n",
       "      <td>1</td>\n",
       "      <td>1</td>\n",
       "      <td>1303862400</td>\n",
       "      <td>Good Quality Dog Food</td>\n",
       "      <td>I have bought several of the Vitality canned d...</td>\n",
       "    </tr>\n",
       "    <tr>\n",
       "      <th>1</th>\n",
       "      <td>2</td>\n",
       "      <td>B00813GRG4</td>\n",
       "      <td>A1D87F6ZCVE5NK</td>\n",
       "      <td>dll pa</td>\n",
       "      <td>0</td>\n",
       "      <td>0</td>\n",
       "      <td>0</td>\n",
       "      <td>1346976000</td>\n",
       "      <td>Not as Advertised</td>\n",
       "      <td>Product arrived labeled as Jumbo Salted Peanut...</td>\n",
       "    </tr>\n",
       "    <tr>\n",
       "      <th>2</th>\n",
       "      <td>3</td>\n",
       "      <td>B000LQOCH0</td>\n",
       "      <td>ABXLMWJIXXAIN</td>\n",
       "      <td>Natalia Corres \"Natalia Corres\"</td>\n",
       "      <td>1</td>\n",
       "      <td>1</td>\n",
       "      <td>1</td>\n",
       "      <td>1219017600</td>\n",
       "      <td>\"Delight\" says it all</td>\n",
       "      <td>This is a confection that has been around a fe...</td>\n",
       "    </tr>\n",
       "  </tbody>\n",
       "</table>\n",
       "</div>"
      ],
      "text/plain": [
       "   Id   ProductId          UserId                      ProfileName  \\\n",
       "0   1  B001E4KFG0  A3SGXH7AUHU8GW                       delmartian   \n",
       "1   2  B00813GRG4  A1D87F6ZCVE5NK                           dll pa   \n",
       "2   3  B000LQOCH0   ABXLMWJIXXAIN  Natalia Corres \"Natalia Corres\"   \n",
       "\n",
       "   HelpfulnessNumerator  HelpfulnessDenominator  Score        Time  \\\n",
       "0                     1                       1      1  1303862400   \n",
       "1                     0                       0      0  1346976000   \n",
       "2                     1                       1      1  1219017600   \n",
       "\n",
       "                 Summary                                               Text  \n",
       "0  Good Quality Dog Food  I have bought several of the Vitality canned d...  \n",
       "1      Not as Advertised  Product arrived labeled as Jumbo Salted Peanut...  \n",
       "2  \"Delight\" says it all  This is a confection that has been around a fe...  "
      ]
     },
     "execution_count": 2,
     "metadata": {},
     "output_type": "execute_result"
    }
   ],
   "source": [
    "\n",
    "# using the SQLite Table to read data.\n",
    "con = sqlite3.connect('database.sqlite') \n",
    "#filtering only positive and negative reviews i.e. \n",
    "# not taking into consideration those reviews with Score=3\n",
    "filtered_data = pd.read_sql_query(\"\"\" SELECT * FROM Reviews WHERE Score != 3 \"\"\", con) \n",
    "\n",
    "\n",
    "# Give reviews with Score>3 a positive rating, and reviews with a score<3 a negative rating.\n",
    "def partition(x):\n",
    "    if x < 3:\n",
    "        return 0\n",
    "    return 1\n",
    "\n",
    "#changing reviews with score less than 3 to be positive and vice-versa\n",
    "actualScore = filtered_data['Score']\n",
    "positiveNegative = actualScore.map(partition) \n",
    "filtered_data['Score'] = positiveNegative\n",
    "print(\"Number of data points in our data\", filtered_data.shape)\n",
    "filtered_data.head(3)"
   ]
  },
  {
   "cell_type": "code",
   "execution_count": 3,
   "metadata": {
    "ExecuteTime": {
     "end_time": "2019-03-31T20:40:19.602527Z",
     "start_time": "2019-03-31T20:40:19.590537Z"
    }
   },
   "outputs": [],
   "source": [
    "sample_data = filtered_data.head(100000) #Sampled amazon fine foood reviews filtered data to 100k datapoints for time effiecieny"
   ]
  },
  {
   "cell_type": "markdown",
   "metadata": {
    "colab_type": "text",
    "id": "CF7NMcGnMQvX"
   },
   "source": [
    "# Exploratory Data Analysis\n",
    "\n",
    "## Data Cleaning: Deduplication\n",
    "\n",
    "It is observed (as shown in the table below) that the reviews data had many duplicate entries. Hence it was necessary to remove duplicates in order to get unbiased results for the analysis of the data.  Following is an example:"
   ]
  },
  {
   "cell_type": "code",
   "execution_count": 4,
   "metadata": {
    "ExecuteTime": {
     "end_time": "2019-03-31T20:40:22.261459Z",
     "start_time": "2019-03-31T20:40:19.742492Z"
    },
    "colab": {},
    "colab_type": "code",
    "id": "_G5KBj5FMQvY",
    "scrolled": false
   },
   "outputs": [
    {
     "data": {
      "text/html": [
       "<div>\n",
       "<style scoped>\n",
       "    .dataframe tbody tr th:only-of-type {\n",
       "        vertical-align: middle;\n",
       "    }\n",
       "\n",
       "    .dataframe tbody tr th {\n",
       "        vertical-align: top;\n",
       "    }\n",
       "\n",
       "    .dataframe thead th {\n",
       "        text-align: right;\n",
       "    }\n",
       "</style>\n",
       "<table border=\"1\" class=\"dataframe\">\n",
       "  <thead>\n",
       "    <tr style=\"text-align: right;\">\n",
       "      <th></th>\n",
       "      <th>Id</th>\n",
       "      <th>ProductId</th>\n",
       "      <th>UserId</th>\n",
       "      <th>ProfileName</th>\n",
       "      <th>HelpfulnessNumerator</th>\n",
       "      <th>HelpfulnessDenominator</th>\n",
       "      <th>Score</th>\n",
       "      <th>Time</th>\n",
       "      <th>Summary</th>\n",
       "      <th>Text</th>\n",
       "    </tr>\n",
       "  </thead>\n",
       "  <tbody>\n",
       "    <tr>\n",
       "      <th>0</th>\n",
       "      <td>78445</td>\n",
       "      <td>B000HDL1RQ</td>\n",
       "      <td>AR5J8UI46CURR</td>\n",
       "      <td>Geetha Krishnan</td>\n",
       "      <td>2</td>\n",
       "      <td>2</td>\n",
       "      <td>5</td>\n",
       "      <td>1199577600</td>\n",
       "      <td>LOACKER QUADRATINI VANILLA WAFERS</td>\n",
       "      <td>DELICIOUS WAFERS. I FIND THAT EUROPEAN WAFERS ...</td>\n",
       "    </tr>\n",
       "    <tr>\n",
       "      <th>1</th>\n",
       "      <td>138317</td>\n",
       "      <td>B000HDOPYC</td>\n",
       "      <td>AR5J8UI46CURR</td>\n",
       "      <td>Geetha Krishnan</td>\n",
       "      <td>2</td>\n",
       "      <td>2</td>\n",
       "      <td>5</td>\n",
       "      <td>1199577600</td>\n",
       "      <td>LOACKER QUADRATINI VANILLA WAFERS</td>\n",
       "      <td>DELICIOUS WAFERS. I FIND THAT EUROPEAN WAFERS ...</td>\n",
       "    </tr>\n",
       "    <tr>\n",
       "      <th>2</th>\n",
       "      <td>138277</td>\n",
       "      <td>B000HDOPYM</td>\n",
       "      <td>AR5J8UI46CURR</td>\n",
       "      <td>Geetha Krishnan</td>\n",
       "      <td>2</td>\n",
       "      <td>2</td>\n",
       "      <td>5</td>\n",
       "      <td>1199577600</td>\n",
       "      <td>LOACKER QUADRATINI VANILLA WAFERS</td>\n",
       "      <td>DELICIOUS WAFERS. I FIND THAT EUROPEAN WAFERS ...</td>\n",
       "    </tr>\n",
       "    <tr>\n",
       "      <th>3</th>\n",
       "      <td>73791</td>\n",
       "      <td>B000HDOPZG</td>\n",
       "      <td>AR5J8UI46CURR</td>\n",
       "      <td>Geetha Krishnan</td>\n",
       "      <td>2</td>\n",
       "      <td>2</td>\n",
       "      <td>5</td>\n",
       "      <td>1199577600</td>\n",
       "      <td>LOACKER QUADRATINI VANILLA WAFERS</td>\n",
       "      <td>DELICIOUS WAFERS. I FIND THAT EUROPEAN WAFERS ...</td>\n",
       "    </tr>\n",
       "    <tr>\n",
       "      <th>4</th>\n",
       "      <td>155049</td>\n",
       "      <td>B000PAQ75C</td>\n",
       "      <td>AR5J8UI46CURR</td>\n",
       "      <td>Geetha Krishnan</td>\n",
       "      <td>2</td>\n",
       "      <td>2</td>\n",
       "      <td>5</td>\n",
       "      <td>1199577600</td>\n",
       "      <td>LOACKER QUADRATINI VANILLA WAFERS</td>\n",
       "      <td>DELICIOUS WAFERS. I FIND THAT EUROPEAN WAFERS ...</td>\n",
       "    </tr>\n",
       "  </tbody>\n",
       "</table>\n",
       "</div>"
      ],
      "text/plain": [
       "       Id   ProductId         UserId      ProfileName  HelpfulnessNumerator  \\\n",
       "0   78445  B000HDL1RQ  AR5J8UI46CURR  Geetha Krishnan                     2   \n",
       "1  138317  B000HDOPYC  AR5J8UI46CURR  Geetha Krishnan                     2   \n",
       "2  138277  B000HDOPYM  AR5J8UI46CURR  Geetha Krishnan                     2   \n",
       "3   73791  B000HDOPZG  AR5J8UI46CURR  Geetha Krishnan                     2   \n",
       "4  155049  B000PAQ75C  AR5J8UI46CURR  Geetha Krishnan                     2   \n",
       "\n",
       "   HelpfulnessDenominator  Score        Time  \\\n",
       "0                       2      5  1199577600   \n",
       "1                       2      5  1199577600   \n",
       "2                       2      5  1199577600   \n",
       "3                       2      5  1199577600   \n",
       "4                       2      5  1199577600   \n",
       "\n",
       "                             Summary  \\\n",
       "0  LOACKER QUADRATINI VANILLA WAFERS   \n",
       "1  LOACKER QUADRATINI VANILLA WAFERS   \n",
       "2  LOACKER QUADRATINI VANILLA WAFERS   \n",
       "3  LOACKER QUADRATINI VANILLA WAFERS   \n",
       "4  LOACKER QUADRATINI VANILLA WAFERS   \n",
       "\n",
       "                                                Text  \n",
       "0  DELICIOUS WAFERS. I FIND THAT EUROPEAN WAFERS ...  \n",
       "1  DELICIOUS WAFERS. I FIND THAT EUROPEAN WAFERS ...  \n",
       "2  DELICIOUS WAFERS. I FIND THAT EUROPEAN WAFERS ...  \n",
       "3  DELICIOUS WAFERS. I FIND THAT EUROPEAN WAFERS ...  \n",
       "4  DELICIOUS WAFERS. I FIND THAT EUROPEAN WAFERS ...  "
      ]
     },
     "execution_count": 4,
     "metadata": {},
     "output_type": "execute_result"
    }
   ],
   "source": [
    "display= pd.read_sql_query(\"\"\"\n",
    "SELECT *\n",
    "FROM Reviews\n",
    "WHERE Score != 3 AND UserId=\"AR5J8UI46CURR\"\n",
    "ORDER BY ProductID\n",
    "\"\"\", con)\n",
    "display.head()"
   ]
  },
  {
   "cell_type": "markdown",
   "metadata": {
    "colab_type": "text",
    "id": "95Aa3bAYMQvb"
   },
   "source": [
    "As can be seen above the same user has multiple reviews of the with the same values for HelpfulnessNumerator, HelpfulnessDenominator, Score, Time, Summary and Text  and on doing analysis it was found that <br>\n",
    "<br> \n",
    "ProductId=B000HDOPZG was Loacker Quadratini Vanilla Wafer Cookies, 8.82-Ounce Packages (Pack of 8)<br>\n",
    "<br> \n",
    "ProductId=B000HDL1RQ was Loacker Quadratini Lemon Wafer Cookies, 8.82-Ounce Packages (Pack of 8) and so on<br>\n",
    "\n",
    "It was inferred after analysis that reviews with same parameters other than ProductId belonged to the same product just having different flavour or quantity. Hence in order to reduce redundancy it was decided to eliminate the rows having same parameters.<br>\n",
    "\n",
    "The method used for the same was that we first sort the data according to ProductId and then just keep the first similar product review and delelte the others. for eg. in the above just the review for ProductId=B000HDL1RQ remains. This method ensures that there is only one representative for each product and deduplication without sorting would lead to possibility of different representatives still existing for the same product."
   ]
  },
  {
   "cell_type": "code",
   "execution_count": 5,
   "metadata": {
    "ExecuteTime": {
     "end_time": "2019-03-31T20:40:22.600147Z",
     "start_time": "2019-03-31T20:40:22.408194Z"
    },
    "colab": {},
    "colab_type": "code",
    "id": "0wUj2BDzMQvc"
   },
   "outputs": [],
   "source": [
    "#Sorting data according to ProductId in ascending order\n",
    "sorted_data=sample_data.sort_values('ProductId', axis=0, ascending=True, inplace=False, kind='quicksort', na_position='last')"
   ]
  },
  {
   "cell_type": "code",
   "execution_count": 6,
   "metadata": {
    "ExecuteTime": {
     "end_time": "2019-03-31T20:40:23.114550Z",
     "start_time": "2019-03-31T20:40:22.772104Z"
    },
    "colab": {},
    "colab_type": "code",
    "id": "hYd69x4KMQve"
   },
   "outputs": [
    {
     "data": {
      "text/plain": [
       "(87775, 10)"
      ]
     },
     "execution_count": 6,
     "metadata": {},
     "output_type": "execute_result"
    }
   ],
   "source": [
    "#Deduplication of entries\n",
    "final=sorted_data.drop_duplicates(subset={\"UserId\",\"ProfileName\",\"Time\",\"Text\"}, keep='first', inplace=False)\n",
    "final.shape"
   ]
  },
  {
   "cell_type": "code",
   "execution_count": 7,
   "metadata": {
    "ExecuteTime": {
     "end_time": "2019-03-31T20:40:23.362490Z",
     "start_time": "2019-03-31T20:40:23.350491Z"
    },
    "colab": {},
    "colab_type": "code",
    "id": "_UVH2UNwMQvi"
   },
   "outputs": [
    {
     "data": {
      "text/plain": [
       "87.775"
      ]
     },
     "execution_count": 7,
     "metadata": {},
     "output_type": "execute_result"
    }
   ],
   "source": [
    "#Checking to see how much % of data still remains\n",
    "(final['Id'].size*1.0)/(sample_data['Id'].size*1.0)*100"
   ]
  },
  {
   "cell_type": "markdown",
   "metadata": {
    "colab_type": "text",
    "id": "GeOy9IcuMQvk"
   },
   "source": [
    "<b>Observation:-</b> It was also seen that in two rows given below the value of HelpfulnessNumerator is greater than HelpfulnessDenominator which is not practically possible hence these two rows too are removed from calcualtions"
   ]
  },
  {
   "cell_type": "code",
   "execution_count": 8,
   "metadata": {
    "ExecuteTime": {
     "end_time": "2019-03-31T20:40:26.895901Z",
     "start_time": "2019-03-31T20:40:26.863908Z"
    },
    "colab": {},
    "colab_type": "code",
    "id": "EDD5FsuGMQvm"
   },
   "outputs": [
    {
     "data": {
      "text/html": [
       "<div>\n",
       "<style scoped>\n",
       "    .dataframe tbody tr th:only-of-type {\n",
       "        vertical-align: middle;\n",
       "    }\n",
       "\n",
       "    .dataframe tbody tr th {\n",
       "        vertical-align: top;\n",
       "    }\n",
       "\n",
       "    .dataframe thead th {\n",
       "        text-align: right;\n",
       "    }\n",
       "</style>\n",
       "<table border=\"1\" class=\"dataframe\">\n",
       "  <thead>\n",
       "    <tr style=\"text-align: right;\">\n",
       "      <th></th>\n",
       "      <th>Id</th>\n",
       "      <th>ProductId</th>\n",
       "      <th>UserId</th>\n",
       "      <th>ProfileName</th>\n",
       "      <th>HelpfulnessNumerator</th>\n",
       "      <th>HelpfulnessDenominator</th>\n",
       "      <th>Score</th>\n",
       "      <th>Time</th>\n",
       "      <th>Summary</th>\n",
       "      <th>Text</th>\n",
       "    </tr>\n",
       "  </thead>\n",
       "  <tbody>\n",
       "    <tr>\n",
       "      <th>0</th>\n",
       "      <td>64422</td>\n",
       "      <td>B000MIDROQ</td>\n",
       "      <td>A161DK06JJMCYF</td>\n",
       "      <td>J. E. Stephens \"Jeanne\"</td>\n",
       "      <td>3</td>\n",
       "      <td>1</td>\n",
       "      <td>5</td>\n",
       "      <td>1224892800</td>\n",
       "      <td>Bought This for My Son at College</td>\n",
       "      <td>My son loves spaghetti so I didn't hesitate or...</td>\n",
       "    </tr>\n",
       "    <tr>\n",
       "      <th>1</th>\n",
       "      <td>44737</td>\n",
       "      <td>B001EQ55RW</td>\n",
       "      <td>A2V0I904FH7ABY</td>\n",
       "      <td>Ram</td>\n",
       "      <td>3</td>\n",
       "      <td>2</td>\n",
       "      <td>4</td>\n",
       "      <td>1212883200</td>\n",
       "      <td>Pure cocoa taste with crunchy almonds inside</td>\n",
       "      <td>It was almost a 'love at first bite' - the per...</td>\n",
       "    </tr>\n",
       "  </tbody>\n",
       "</table>\n",
       "</div>"
      ],
      "text/plain": [
       "      Id   ProductId          UserId              ProfileName  \\\n",
       "0  64422  B000MIDROQ  A161DK06JJMCYF  J. E. Stephens \"Jeanne\"   \n",
       "1  44737  B001EQ55RW  A2V0I904FH7ABY                      Ram   \n",
       "\n",
       "   HelpfulnessNumerator  HelpfulnessDenominator  Score        Time  \\\n",
       "0                     3                       1      5  1224892800   \n",
       "1                     3                       2      4  1212883200   \n",
       "\n",
       "                                        Summary  \\\n",
       "0             Bought This for My Son at College   \n",
       "1  Pure cocoa taste with crunchy almonds inside   \n",
       "\n",
       "                                                Text  \n",
       "0  My son loves spaghetti so I didn't hesitate or...  \n",
       "1  It was almost a 'love at first bite' - the per...  "
      ]
     },
     "execution_count": 8,
     "metadata": {},
     "output_type": "execute_result"
    }
   ],
   "source": [
    "display= pd.read_sql_query(\"\"\"\n",
    "SELECT *\n",
    "FROM Reviews\n",
    "WHERE Score != 3 AND Id=44737 OR Id=64422\n",
    "ORDER BY ProductID\n",
    "\"\"\", con)\n",
    "\n",
    "display.head()"
   ]
  },
  {
   "cell_type": "code",
   "execution_count": 9,
   "metadata": {
    "ExecuteTime": {
     "end_time": "2019-03-31T20:40:28.226763Z",
     "start_time": "2019-03-31T20:40:28.182776Z"
    },
    "colab": {},
    "colab_type": "code",
    "id": "kThrWN9FMQvq"
   },
   "outputs": [],
   "source": [
    "final=final[final.HelpfulnessNumerator<=final.HelpfulnessDenominator]"
   ]
  },
  {
   "cell_type": "code",
   "execution_count": 10,
   "metadata": {
    "ExecuteTime": {
     "end_time": "2019-03-31T20:40:28.997704Z",
     "start_time": "2019-03-31T20:40:28.981691Z"
    },
    "colab": {},
    "colab_type": "code",
    "id": "lvw544BEMQvs"
   },
   "outputs": [
    {
     "name": "stdout",
     "output_type": "stream",
     "text": [
      "(87773, 10)\n"
     ]
    },
    {
     "data": {
      "text/plain": [
       "1    73592\n",
       "0    14181\n",
       "Name: Score, dtype: int64"
      ]
     },
     "execution_count": 10,
     "metadata": {},
     "output_type": "execute_result"
    }
   ],
   "source": [
    "#Before starting the next phase of preprocessing lets see the number of entries left\n",
    "print(final.shape)\n",
    "\n",
    "#How many positive and negative reviews are present in our dataset?\n",
    "final['Score'].value_counts()"
   ]
  },
  {
   "cell_type": "markdown",
   "metadata": {
    "colab_type": "text",
    "id": "3-ZDuet8MQvw"
   },
   "source": [
    "## Text Preprocessing: Stemming, stop-word removal and Lemmatization.\n",
    "\n",
    "Now that we have finished deduplication our data requires some preprocessing before we go on further with analysis and making the prediction model.\n",
    "\n",
    "Hence in the Preprocessing phase we do the following in the order below:-\n",
    "\n",
    "1. Begin by removing the html tags\n",
    "2. Remove any punctuations or limited set of special characters like , or . or # etc.\n",
    "3. Check if the word is made up of english letters and is not alpha-numeric\n",
    "4. Check to see if the length of the word is greater than 2 (as it was researched that there is no adjective in 2-letters)\n",
    "5. Convert the word to lowercase\n",
    "6. Remove Stopwords\n",
    "7. Finally Snowball Stemming the word (it was obsereved to be better than Porter Stemming)<br>\n",
    "\n",
    "After which we collect the words used to describe positive and negative reviews"
   ]
  },
  {
   "cell_type": "code",
   "execution_count": 11,
   "metadata": {
    "ExecuteTime": {
     "end_time": "2019-03-31T20:40:30.504557Z",
     "start_time": "2019-03-31T20:40:30.492560Z"
    },
    "colab": {},
    "colab_type": "code",
    "id": "I2NRwIj6MQvz"
   },
   "outputs": [
    {
     "name": "stdout",
     "output_type": "stream",
     "text": [
      "4\n",
      "I wish I'd read the reviews before making this purchase. It's basically a cardsotck box that is sticky all over the OUTSIDE. Those pink-ish things that look like entrances \"into\" the trap? They're just pictures. There *is no* inside of the trap. All the flies will be stuck to the OUTSIDE. It's basically fly paper, just horribly, horribly HORRIBLY overpriced.<br /><br />Do yourself a favor and just get fly paper or fly strips. Same yuck factor, but much cheaper.\n"
     ]
    }
   ],
   "source": [
    "# find sentences containing HTML tags\n",
    "import re\n",
    "i=0;\n",
    "for sent in final['Text'].values:\n",
    "    if (len(re.findall('<.*?>', sent))):\n",
    "        print(i)\n",
    "        print(sent)\n",
    "        break;\n",
    "    i += 1;"
   ]
  },
  {
   "cell_type": "code",
   "execution_count": 12,
   "metadata": {
    "ExecuteTime": {
     "end_time": "2019-03-31T20:40:31.287739Z",
     "start_time": "2019-03-31T20:40:31.271747Z"
    },
    "colab": {},
    "colab_type": "code",
    "id": "hSYsO2neMQv2"
   },
   "outputs": [
    {
     "name": "stdout",
     "output_type": "stream",
     "text": [
      "{'above', 'just', 'own', 's', 're', 'ma', 'll', 'himself', 'we', 'in', 'their', 'her', 'his', 'being', 'out', 'where', 'y', 'them', 'such', 'into', 'no', 'how', 'with', \"you've\", 'having', 'd', 'but', 'again', \"you're\", \"wouldn't\", \"wasn't\", 'she', 'can', 'o', 'which', 'didn', 'this', 'an', 'our', 'each', 'some', 'were', 't', 'whom', 'themselves', 'be', \"it's\", 'down', 'by', 'nor', 'both', 'wasn', 'weren', \"that'll\", 'once', 'they', 'further', 'now', \"mightn't\", 'until', \"weren't\", 'on', 'more', \"won't\", 'at', 'he', 'yours', 'between', 'during', 'as', 'me', 'too', 'wouldn', 'mightn', 'any', 'what', 'against', 'you', 'theirs', 'before', 'shouldn', 'hadn', 'needn', 'than', \"haven't\", 'will', \"isn't\", 'itself', 'off', \"you'd\", 'isn', 'because', 'are', 'i', 'from', 'him', 'if', \"couldn't\", 'had', 'aren', 'its', 'to', 'here', 'of', 'that', 'doesn', \"doesn't\", 'through', \"shouldn't\", \"should've\", 'then', 'so', 'should', 'myself', \"aren't\", 'ain', 'your', 'have', 'and', 'when', 'most', 'mustn', 'am', 've', 'only', 'do', 'won', 'there', 'not', 'couldn', 'is', 'has', 'hasn', 'haven', \"didn't\", 'a', 'don', 'these', 'up', 'my', 'over', 'same', 'other', 'few', \"shan't\", 'while', 'or', 'yourselves', 'ourselves', 'very', 'under', 'doing', 'below', 'does', 'it', 'who', 'yourself', \"hasn't\", 'was', \"needn't\", \"hadn't\", 'shan', 'did', 'm', 'all', 'after', 'about', 'the', 'why', \"you'll\", 'herself', 'been', \"mustn't\", \"she's\", 'for', 'hers', 'ours', \"don't\", 'those'}\n",
      "************************************\n",
      "tasti\n"
     ]
    }
   ],
   "source": [
    "\n",
    "stop = set(stopwords.words('english')) #set of stopwords\n",
    "sno = nltk.stem.SnowballStemmer('english') #initialising the snowball stemmer\n",
    "\n",
    "def cleanhtml(sentence): #function to clean the word of any html-tags\n",
    "    cleanr = re.compile('<.*?>')\n",
    "    cleantext = re.sub(cleanr, ' ', sentence)\n",
    "    return cleantext\n",
    "def cleanpunc(sentence): #function to clean the word of any punctuation or special characters\n",
    "    cleaned = re.sub(r'[?|!|\\'|\"|#]',r'',sentence)\n",
    "    cleaned = re.sub(r'[.|,|)|(|\\|/]',r' ',cleaned)\n",
    "    return  cleaned\n",
    "print(stop)\n",
    "print('************************************')\n",
    "print(sno.stem('tasty'))"
   ]
  },
  {
   "cell_type": "code",
   "execution_count": 13,
   "metadata": {
    "ExecuteTime": {
     "end_time": "2019-03-31T20:40:32.075682Z",
     "start_time": "2019-03-31T20:40:32.059686Z"
    },
    "colab": {},
    "colab_type": "code",
    "id": "BUGzVaKbMQv5"
   },
   "outputs": [],
   "source": [
    "#Code for implementing step-by-step the checks mentioned in the pre-processing phase\n",
    "# this code takes a while to run as it needs to run on 500k sentences.\n",
    "if not os.path.isfile('final.sqlite'):\n",
    "    final_string=[]\n",
    "    all_positive_words=[] # store words from +ve reviews here\n",
    "    all_negative_words=[] # store words from -ve reviews here.\n",
    "    for i, sent in enumerate(tqdm(final['Text'].values)):\n",
    "        filtered_sentence=[]\n",
    "        #print(sent);\n",
    "        sent=cleanhtml(sent) # remove HTMl tags\n",
    "        for w in sent.split():\n",
    "            # we have used cleanpunc(w).split(), one more split function here because consider w=\"abc.def\", cleanpunc(w) will return \"abc def\"\n",
    "            # if we dont use .split() function then we will be considring \"abc def\" as a single word, but if you use .split() function we will get \"abc\", \"def\"\n",
    "            for cleaned_words in cleanpunc(w).split():\n",
    "                if((cleaned_words.isalpha()) & (len(cleaned_words)>2)):    \n",
    "                    if(cleaned_words.lower() not in stop):\n",
    "                        s=(sno.stem(cleaned_words.lower())).encode('utf8') #snoball stemmer\n",
    "                        filtered_sentence.append(s)\n",
    "                        if (final['Score'].values)[i] == 1: \n",
    "                            all_positive_words.append(s) #list of all words used to describe positive reviews\n",
    "                        if(final['Score'].values)[i] == 0:\n",
    "                            all_negative_words.append(s) #list of all words used to describe negative reviews reviews\n",
    "        str1 = b\" \".join(filtered_sentence) #final string of cleaned words\n",
    "        #print(\"***********************************************************************\")\n",
    "        final_string.append(str1)\n",
    "\n",
    "    #############---- storing the data into .sqlite file ------########################\n",
    "    final['CleanedText']=final_string #adding a column of CleanedText which displays the data after pre-processing of the review \n",
    "    final['CleanedText']=final['CleanedText'].str.decode(\"utf-8\")\n",
    "        # store final table into an SQlLite table for future.\n",
    "    conn = sqlite3.connect('final.sqlite')\n",
    "    c=conn.cursor()\n",
    "    conn.text_factory = str\n",
    "    final.to_sql('Reviews', conn,  schema=None, if_exists='replace', \\\n",
    "                 index=True, index_label=None, chunksize=None, dtype=None)\n",
    "    conn.close()\n",
    "    \n",
    "    \n",
    "    with open('positive_words.pkl', 'wb') as f: # 'wb' instead 'w' for binary file\n",
    "        pickle.dump(all_positive_words, f)      # dump data to f\n",
    "    with open('negitive_words.pkl', 'wb') as f: # 'wb' instead 'w' for binary file\n",
    "        pickle.dump(all_negative_words, f)      # dump data to f"
   ]
  },
  {
   "cell_type": "code",
   "execution_count": 14,
   "metadata": {
    "ExecuteTime": {
     "end_time": "2019-03-31T20:40:33.710915Z",
     "start_time": "2019-03-31T20:40:32.759491Z"
    },
    "colab": {},
    "colab_type": "code",
    "id": "bU88yTG9MQv-",
    "scrolled": false
   },
   "outputs": [],
   "source": [
    "if os.path.isfile('final.sqlite'):\n",
    "    conn = sqlite3.connect('final.sqlite')\n",
    "    final = pd.read_sql_query(\"\"\" SELECT * FROM Reviews WHERE Score != 3 \"\"\", conn)\n",
    "    conn.close()\n",
    "else:\n",
    "    print(\"Please the above cell\")"
   ]
  },
  {
   "cell_type": "markdown",
   "metadata": {},
   "source": [
    "### Sorting dataset based on 'Time' feature"
   ]
  },
  {
   "cell_type": "code",
   "execution_count": 15,
   "metadata": {
    "ExecuteTime": {
     "end_time": "2019-03-31T20:40:34.356456Z",
     "start_time": "2019-03-31T20:40:34.296454Z"
    }
   },
   "outputs": [
    {
     "data": {
      "text/plain": [
       "(87773, 12)"
      ]
     },
     "execution_count": 15,
     "metadata": {},
     "output_type": "execute_result"
    }
   ],
   "source": [
    "final_reviews = final.sort_values('Time', axis=0, ascending=True, inplace=False, kind='quicksort', na_position='last')\n",
    "final_reviews.shape"
   ]
  },
  {
   "cell_type": "markdown",
   "metadata": {},
   "source": [
    "### Spliting data "
   ]
  },
  {
   "cell_type": "code",
   "execution_count": 16,
   "metadata": {
    "ExecuteTime": {
     "end_time": "2019-03-31T20:40:36.943767Z",
     "start_time": "2019-03-31T20:40:36.891761Z"
    }
   },
   "outputs": [],
   "source": [
    "#split data into train, cross validate and test \n",
    "%matplotlib inline\n",
    "import warnings\n",
    "from sklearn.model_selection import train_test_split\n",
    "X = final_reviews['CleanedText']\n",
    "Y = final_reviews['Score']\n",
    "X_train, X_test, Y_train, Y_test = train_test_split(X, Y, test_size=.33, random_state=0)\n",
    "X_tr, X_cv, Y_tr, Y_cv = train_test_split(X_train, Y_train, test_size=.33, random_state=0)"
   ]
  },
  {
   "cell_type": "code",
   "execution_count": 17,
   "metadata": {
    "ExecuteTime": {
     "end_time": "2019-03-31T20:40:37.685315Z",
     "start_time": "2019-03-31T20:40:37.657324Z"
    }
   },
   "outputs": [
    {
     "name": "stdout",
     "output_type": "stream",
     "text": [
      "X_train, Y_train (58807,) (58807,)\n",
      "X_test, Y_test (28966,) (28966,)\n",
      "X_tr, Y_tr (39400,) (39400,)\n",
      "X_cv, Y_cv (19407,) (19407,)\n"
     ]
    }
   ],
   "source": [
    "print('X_train, Y_train', X_train.shape, Y_train.shape)\n",
    "print('X_test, Y_test', X_test.shape, Y_test.shape)\n",
    "print('X_tr, Y_tr', X_tr.shape, Y_tr.shape)\n",
    "print('X_cv, Y_cv', X_cv.shape, Y_cv.shape)"
   ]
  },
  {
   "cell_type": "markdown",
   "metadata": {},
   "source": [
    "# Decision Tree Classifier with simple CV"
   ]
  },
  {
   "cell_type": "code",
   "execution_count": 18,
   "metadata": {
    "ExecuteTime": {
     "end_time": "2019-03-31T20:40:39.127884Z",
     "start_time": "2019-03-31T20:40:39.119886Z"
    }
   },
   "outputs": [],
   "source": [
    "%matplotlib inline\n",
    "import warnings\n",
    "warnings.filterwarnings(\"ignore\")\n",
    "from sklearn.model_selection import cross_val_score\n",
    "from collections import Counter\n",
    "from sklearn.metrics import accuracy_score\n",
    "from sklearn import model_selection\n",
    "from sklearn.metrics import f1_score\n",
    "from sklearn.metrics import roc_auc_score"
   ]
  },
  {
   "cell_type": "markdown",
   "metadata": {},
   "source": [
    "## Training Model"
   ]
  },
  {
   "cell_type": "code",
   "execution_count": 19,
   "metadata": {
    "ExecuteTime": {
     "end_time": "2019-03-31T20:40:40.494987Z",
     "start_time": "2019-03-31T20:40:40.470981Z"
    }
   },
   "outputs": [],
   "source": [
    "from sklearn.tree import DecisionTreeClassifier\n",
    "# Decision Tree\n",
    "def DT_Classifier(X_train,X_cv,Y_train,Y_cv):\n",
    "    pred_cv = []\n",
    "    pred_train = []\n",
    "    depth = [1, 5, 10, 50, 100, 500, 1000]\n",
    "    samples_split = [5, 10, 100, 500] \n",
    "    for i in depth:\n",
    "        for j in samples_split:\n",
    "            clf = DecisionTreeClassifier(max_depth = i, min_samples_split = j)\n",
    "            clf.fit(X_train,Y_train)\n",
    "            probs = clf.predict_proba(X_cv)\n",
    "            prob = clf.predict_proba(X_train)\n",
    "            probs = probs[:,1]\n",
    "            prob = prob[:,1]\n",
    "            auc_score_cv = roc_auc_score(Y_cv,probs)\n",
    "            auc_score_train = roc_auc_score(Y_train,prob)\n",
    "            pred_cv.append(auc_score_cv)\n",
    "            pred_train.append(auc_score_train)\n",
    "    cmap=sns.light_palette(\"green\")\n",
    "    # representing heat map for auc score\n",
    "    print(\"-\"*30, \"AUC Score for train data\", \"-\"*30)\n",
    "    pred_train = np.array(pred_train)\n",
    "    pred_train = pred_train.reshape(len(depth),len(samples_split))\n",
    "    plt.figure(figsize=(10,5))\n",
    "    sns.heatmap(pred_train,annot=True, cmap=cmap, fmt=\".3f\", xticklabels=samples_split,yticklabels=depth)\n",
    "    plt.xlabel('Sample Split')\n",
    "    plt.ylabel('Depth')\n",
    "    plt.show()\n",
    "    print(\"-\"*30, \"AUC Score for CV data\", \"-\"*30)\n",
    "    pred_cv = np.array(pred_cv)\n",
    "    pred_cv = pred_cv.reshape(len(depth),len(samples_split))\n",
    "    plt.figure(figsize=(10,5))\n",
    "    sns.heatmap(pred_cv, annot=True, cmap=cmap, fmt=\".3f\", xticklabels=samples_split, yticklabels=depth)\n",
    "    plt.xlabel('Sample Split')\n",
    "    plt.ylabel('Depth')\n",
    "    plt.show()    "
   ]
  },
  {
   "cell_type": "markdown",
   "metadata": {},
   "source": [
    "## Testing Model for training data and test data"
   ]
  },
  {
   "cell_type": "code",
   "execution_count": 20,
   "metadata": {
    "ExecuteTime": {
     "end_time": "2019-03-31T20:40:43.660499Z",
     "start_time": "2019-03-31T20:40:43.588516Z"
    }
   },
   "outputs": [],
   "source": [
    "import scikitplot.metrics as skplt\n",
    "def testing(X_train,Y_train,X_test,Y_test,optimal_depth,optimal_split):\n",
    "    clf = DecisionTreeClassifier(max_depth = optimal_depth, min_samples_split = optimal_split)\n",
    "    clf.fit(X_train,Y_train)\n",
    "    prob = clf.predict_proba(X_test) \n",
    "    prob1 = clf.predict_proba(X_train)\n",
    "    # keep probabilities for the positive outcome only\n",
    "    probs = prob[:, 1]\n",
    "    probs1 = prob1[:,1]\n",
    "    print(\"AUC Score for train data\",roc_auc_score(Y_train,probs1))\n",
    "    print(\"AUC Score for test data\",roc_auc_score(Y_test,probs))\n",
    "    # calculate roc curve\n",
    "    fpr_train, tpr_train, thresholds = roc_curve(Y_train,probs1)\n",
    "    fpr_test, tpr_test, thresholds = roc_curve(Y_test,probs)\n",
    "    # plot no skill\n",
    "    plt.plot([0, 1], [0, 1], linestyle='--')\n",
    "    # plot the roc curve for the model\n",
    "    plt.plot(fpr_test, tpr_test, marker='.',color ='b',label='Test Data')\n",
    "    plt.plot(fpr_train, tpr_train, marker='.',color= 'r',label='Train Data')\n",
    "    plt.title(\"Line Plot of ROC Curve on Train Data and Test Data\")\n",
    "    plt.legend(loc='upper left')\n",
    "    plt.ylabel('True Positive Rate')\n",
    "    plt.xlabel('False Positive Rate')    \n",
    "    plt.show\n",
    "    #plot confusion matrix\n",
    "    prediction_test=np.argmax(prob,axis=1)\n",
    "    prediction_train=np.argmax(prob1,axis=1)\n",
    "    print(\"macro f1 score for train data :\",metrics.f1_score(Y_train, prediction_train, average = 'macro'))\n",
    "    print(\"macro f1 score for test data :\",metrics.f1_score(Y_test, prediction_test, average = 'macro'))\n",
    "    print(\"micro f1 score for train data:\",metrics.f1_score(Y_train, prediction_train, average = 'micro'))\n",
    "    print(\"micro f1 score for test data:\",metrics.f1_score(Y_test, prediction_test, average = 'micro'))\n",
    "    print(\"hamming loss for train data:\",metrics.hamming_loss(Y_train,prediction_train))\n",
    "    print(\"hamming loss for test data:\",metrics.hamming_loss(Y_test,prediction_test))\n",
    "    print(\"Precision recall report for train data:\\n\",metrics.classification_report(Y_train, prediction_train))\n",
    "    print(\"Precision recall report for test data:\\n\",metrics.classification_report(Y_test, prediction_test))\n",
    "    skplt.plot_confusion_matrix(Y_train,prediction_train,title='Confusion Matrix for Train Data')\n",
    "    skplt.plot_confusion_matrix(Y_test,prediction_test,title='Confusion Matrix for Test Data')"
   ]
  },
  {
   "cell_type": "markdown",
   "metadata": {},
   "source": [
    "## Top 10 features"
   ]
  },
  {
   "cell_type": "code",
   "execution_count": 47,
   "metadata": {
    "ExecuteTime": {
     "end_time": "2019-04-01T09:37:04.414853Z",
     "start_time": "2019-04-01T09:37:04.402860Z"
    }
   },
   "outputs": [],
   "source": [
    "#Code Reference:https://stackoverflow.com/questions/11116697/how-to-get-most-informative-features-for-scikit-learn-classifiers\n",
    "\n",
    "def imp_feature(vectorizer,classifier, n =20):\n",
    "    feature_names = vectorizer.get_feature_names()\n",
    "    coefs = sorted(zip(classifier.feature_importances_, feature_names))\n",
    "    top = coefs[:-(n + 1):-1]\n",
    "    print('\\033[1m' + \"feature_importances\\tfeatures\" + '\\033[0m')\n",
    "    print(\"=\"*35)\n",
    "    for (coef1, feat1) in top:\n",
    "        print(\"%.4f\\t\\t\\t%-15s\" % (coef1, feat1))"
   ]
  },
  {
   "cell_type": "markdown",
   "metadata": {},
   "source": [
    "# Techniques for vectorization :--"
   ]
  },
  {
   "cell_type": "markdown",
   "metadata": {
    "colab_type": "text",
    "id": "hXA02Hw0MQv_"
   },
   "source": [
    "##  Bag of Words (BoW) "
   ]
  },
  {
   "cell_type": "code",
   "execution_count": 48,
   "metadata": {
    "ExecuteTime": {
     "end_time": "2019-04-01T09:37:19.688181Z",
     "start_time": "2019-04-01T09:37:15.572625Z"
    },
    "colab": {},
    "colab_type": "code",
    "id": "giCwNM_rMQwA"
   },
   "outputs": [
    {
     "name": "stdout",
     "output_type": "stream",
     "text": [
      "The type of count vectorizer  <class 'scipy.sparse.csr.csr_matrix'>\n",
      "The shape of out text BOW vectorizer  (39400, 23389)\n",
      "CV Data Size:  (19407, 23389)\n",
      "Test Data Size:  (28966, 23389)\n"
     ]
    }
   ],
   "source": [
    "#BoW\n",
    "count_vect = CountVectorizer() #in scikit-learn\n",
    "bow_train = count_vect.fit_transform(X_tr)\n",
    "print(\"The type of count vectorizer \",type(bow_train))\n",
    "print(\"The shape of out text BOW vectorizer \",bow_train.get_shape())\n",
    "#print(\"the number of unique words \", final_counts.get_shape()[1])\n",
    "bow_cv = count_vect.transform(X_cv)\n",
    "bow_test = count_vect.transform(X_test)\n",
    "print(\"CV Data Size: \",bow_cv.shape)\n",
    "print(\"Test Data Size: \",bow_test.shape)"
   ]
  },
  {
   "cell_type": "code",
   "execution_count": 49,
   "metadata": {
    "ExecuteTime": {
     "end_time": "2019-04-01T09:37:22.992825Z",
     "start_time": "2019-04-01T09:37:22.832866Z"
    }
   },
   "outputs": [
    {
     "name": "stdout",
     "output_type": "stream",
     "text": [
      "The shape of out text BOW vectorizer  (39400, 23389)\n",
      "CV Data Size:  (19407, 23389)\n",
      "Test Data Size:  (28966, 23389)\n"
     ]
    }
   ],
   "source": [
    "#Normalize Data\n",
    "from sklearn import preprocessing\n",
    "from sklearn.preprocessing import Normalizer\n",
    "normalizer = preprocessing.Normalizer()\n",
    "bow_train = normalizer.fit_transform(bow_train)\n",
    "bow_cv = normalizer.transform(bow_cv)\n",
    "bow_test = normalizer.transform(bow_test)\n",
    "print(\"The shape of out text BOW vectorizer \",bow_train.get_shape())\n",
    "print(\"CV Data Size: \",bow_cv.shape)\n",
    "print(\"Test Data Size: \",bow_test.shape)"
   ]
  },
  {
   "cell_type": "code",
   "execution_count": 24,
   "metadata": {
    "ExecuteTime": {
     "end_time": "2019-03-31T20:46:31.768675Z",
     "start_time": "2019-03-31T20:41:03.826184Z"
    },
    "scrolled": true
   },
   "outputs": [
    {
     "name": "stdout",
     "output_type": "stream",
     "text": [
      "------------------------------ AUC Score for train data ------------------------------\n"
     ]
    },
    {
     "data": {
      "image/png": "[encoded data removed]",
      "text/plain": [
       "<Figure size 720x360 with 2 Axes>"
      ]
     },
     "metadata": {},
     "output_type": "display_data"
    },
    {
     "name": "stdout",
     "output_type": "stream",
     "text": [
      "------------------------------ AUC Score for CV data ------------------------------\n"
     ]
    },
    {
     "data": {
      "image/png": "[encoded data removed]",
      "text/plain": [
       "<Figure size 720x360 with 2 Axes>"
      ]
     },
     "metadata": {},
     "output_type": "display_data"
    }
   ],
   "source": [
    "# find optimal depth and optimal split\n",
    "DT_Classifier(bow_train,bow_cv,Y_tr,Y_cv)"
   ]
  },
  {
   "cell_type": "markdown",
   "metadata": {},
   "source": [
    "### Testing on Test data and Training in BoW"
   ]
  },
  {
   "cell_type": "code",
   "execution_count": 50,
   "metadata": {
    "ExecuteTime": {
     "end_time": "2019-04-01T09:37:43.110913Z",
     "start_time": "2019-04-01T09:37:40.287909Z"
    }
   },
   "outputs": [
    {
     "name": "stdout",
     "output_type": "stream",
     "text": [
      "AUC Score for train data 0.7884031598026815\n",
      "AUC Score for test data 0.762951328686464\n",
      "macro f1 score for train data : 0.6472661388251876\n",
      "macro f1 score for test data : 0.6229277045588568\n",
      "micro f1 score for train data: 0.8654314720812183\n",
      "micro f1 score for test data: 0.8584202168059104\n",
      "hamming loss for train data: 0.13456852791878174\n",
      "hamming loss for test data: 0.14157978319408962\n",
      "Precision recall report for train data:\n",
      "               precision    recall  f1-score   support\n",
      "\n",
      "           0       0.80      0.24      0.37      6472\n",
      "           1       0.87      0.99      0.92     32928\n",
      "\n",
      "   micro avg       0.87      0.87      0.87     39400\n",
      "   macro avg       0.83      0.61      0.65     39400\n",
      "weighted avg       0.86      0.87      0.83     39400\n",
      "\n",
      "Precision recall report for test data:\n",
      "               precision    recall  f1-score   support\n",
      "\n",
      "           0       0.69      0.21      0.32      4649\n",
      "           1       0.87      0.98      0.92     24317\n",
      "\n",
      "   micro avg       0.86      0.86      0.86     28966\n",
      "   macro avg       0.78      0.60      0.62     28966\n",
      "weighted avg       0.84      0.86      0.83     28966\n",
      "\n"
     ]
    },
    {
     "data": {
      "image/png": "[encoded data removed]",
      "text/plain": [
       "<Figure size 432x288 with 1 Axes>"
      ]
     },
     "metadata": {},
     "output_type": "display_data"
    },
    {
     "data": {
      "image/png": "[encoded data removed]",
      "text/plain": [
       "<Figure size 432x288 with 2 Axes>"
      ]
     },
     "metadata": {},
     "output_type": "display_data"
    },
    {
     "data": {
      "image/png": "[encoded data removed]",
      "text/plain": [
       "<Figure size 432x288 with 2 Axes>"
      ]
     },
     "metadata": {},
     "output_type": "display_data"
    }
   ],
   "source": [
    "# optimal_depth and optima_split\n",
    "testing(bow_train,Y_tr,bow_test,Y_test,optimal_depth=10,optimal_split=100)"
   ]
  },
  {
   "cell_type": "code",
   "execution_count": 51,
   "metadata": {
    "ExecuteTime": {
     "end_time": "2019-04-01T09:37:54.266694Z",
     "start_time": "2019-04-01T09:37:52.395877Z"
    }
   },
   "outputs": [
    {
     "name": "stdout",
     "output_type": "stream",
     "text": [
      "feature_importances\tfeatures\n",
      "===================================\n",
      "0.1690\t\t\tdisappoint     \n",
      "0.1090\t\t\tgreat          \n",
      "0.0993\t\t\treturn         \n",
      "0.0821\t\t\tworst          \n",
      "0.0670\t\t\twast           \n",
      "0.0651\t\t\tbad            \n",
      "0.0621\t\t\tlove           \n",
      "0.0539\t\t\tbest           \n",
      "0.0482\t\t\tdelici         \n",
      "0.0344\t\t\tgood           \n",
      "0.0182\t\t\tthought        \n",
      "0.0166\t\t\tmoney          \n",
      "0.0145\t\t\taw             \n",
      "0.0140\t\t\ttast           \n",
      "0.0092\t\t\tbatch          \n",
      "0.0083\t\t\tearth          \n",
      "0.0077\t\t\tperfect        \n",
      "0.0077\t\t\teasi           \n",
      "0.0073\t\t\tunfortun       \n",
      "0.0072\t\t\tterribl        \n"
     ]
    }
   ],
   "source": [
    "clf = DecisionTreeClassifier(max_depth = 10, min_samples_split = 100)\n",
    "clf.fit(bow_train,Y_tr)\n",
    "imp_feature(count_vect,clf)"
   ]
  },
  {
   "cell_type": "markdown",
   "metadata": {},
   "source": [
    "###  Visualize decision tree with Graphviz on BoW "
   ]
  },
  {
   "cell_type": "code",
   "execution_count": 52,
   "metadata": {
    "ExecuteTime": {
     "end_time": "2019-04-01T09:38:07.019978Z",
     "start_time": "2019-04-01T09:38:04.118918Z"
    },
    "scrolled": true
   },
   "outputs": [
    {
     "data": {
      "image/svg+xml": [
       "<?xml version=\"1.0\" encoding=\"UTF-8\" standalone=\"no\"?>\r\n",
       "<!DOCTYPE svg PUBLIC \"-//W3C//DTD SVG 1.1//EN\"\r\n",
       " \"http://www.w3.org/Graphics/SVG/1.1/DTD/svg11.dtd\">\r\n",
       "<!-- Generated by graphviz version 2.38.0 (20140413.2041)\r\n",
       " -->\r\n",
       "<!-- Title: Tree Pages: 1 -->\r\n",
       "<svg width=\"615pt\" height=\"356pt\"\r\n",
       " viewBox=\"0.00 0.00 615.00 356.00\" xmlns=\"http://www.w3.org/2000/svg\" xmlns:xlink=\"http://www.w3.org/1999/xlink\">\r\n",
       "<g id=\"graph0\" class=\"graph\" transform=\"scale(1 1) rotate(0) translate(4 352)\">\r\n",
       "<title>Tree</title>\r\n",
       "<polygon fill=\"white\" stroke=\"none\" points=\"-4,4 -4,-352 611,-352 611,4 -4,4\"/>\r\n",
       "<!-- 0 -->\r\n",
       "<g id=\"node1\" class=\"node\"><title>0</title>\r\n",
       "<polygon fill=\"none\" stroke=\"black\" points=\"380,-348 242,-348 242,-280 380,-280 380,-348\"/>\r\n",
       "<text text-anchor=\"middle\" x=\"311\" y=\"-332.8\" font-family=\"Times New Roman,serif\" font-size=\"14.00\">disappoint &lt;= 0.083</text>\r\n",
       "<text text-anchor=\"middle\" x=\"311\" y=\"-317.8\" font-family=\"Times New Roman,serif\" font-size=\"14.00\">gini = 0.275</text>\r\n",
       "<text text-anchor=\"middle\" x=\"311\" y=\"-302.8\" font-family=\"Times New Roman,serif\" font-size=\"14.00\">samples = 39400</text>\r\n",
       "<text text-anchor=\"middle\" x=\"311\" y=\"-287.8\" font-family=\"Times New Roman,serif\" font-size=\"14.00\">value = [6472, 32928]</text>\r\n",
       "</g>\r\n",
       "<!-- 1 -->\r\n",
       "<g id=\"node2\" class=\"node\"><title>1</title>\r\n",
       "<polygon fill=\"none\" stroke=\"black\" points=\"307,-244 169,-244 169,-176 307,-176 307,-244\"/>\r\n",
       "<text text-anchor=\"middle\" x=\"238\" y=\"-228.8\" font-family=\"Times New Roman,serif\" font-size=\"14.00\">return &lt;= 0.06</text>\r\n",
       "<text text-anchor=\"middle\" x=\"238\" y=\"-213.8\" font-family=\"Times New Roman,serif\" font-size=\"14.00\">gini = 0.257</text>\r\n",
       "<text text-anchor=\"middle\" x=\"238\" y=\"-198.8\" font-family=\"Times New Roman,serif\" font-size=\"14.00\">samples = 38183</text>\r\n",
       "<text text-anchor=\"middle\" x=\"238\" y=\"-183.8\" font-family=\"Times New Roman,serif\" font-size=\"14.00\">value = [5778, 32405]</text>\r\n",
       "</g>\r\n",
       "<!-- 0&#45;&gt;1 -->\r\n",
       "<g id=\"edge1\" class=\"edge\"><title>0&#45;&gt;1</title>\r\n",
       "<path fill=\"none\" stroke=\"black\" d=\"M287.299,-279.884C281.052,-271.154 274.231,-261.625 267.711,-252.514\"/>\r\n",
       "<polygon fill=\"black\" stroke=\"black\" points=\"270.498,-250.394 261.832,-244.299 264.806,-254.468 270.498,-250.394\"/>\r\n",
       "<text text-anchor=\"middle\" x=\"257.745\" y=\"-265.263\" font-family=\"Times New Roman,serif\" font-size=\"14.00\">True</text>\r\n",
       "</g>\r\n",
       "<!-- 116 -->\r\n",
       "<g id=\"node9\" class=\"node\"><title>116</title>\r\n",
       "<polygon fill=\"none\" stroke=\"black\" points=\"443,-244 325,-244 325,-176 443,-176 443,-244\"/>\r\n",
       "<text text-anchor=\"middle\" x=\"384\" y=\"-228.8\" font-family=\"Times New Roman,serif\" font-size=\"14.00\">best &lt;= 0.09</text>\r\n",
       "<text text-anchor=\"middle\" x=\"384\" y=\"-213.8\" font-family=\"Times New Roman,serif\" font-size=\"14.00\">gini = 0.49</text>\r\n",
       "<text text-anchor=\"middle\" x=\"384\" y=\"-198.8\" font-family=\"Times New Roman,serif\" font-size=\"14.00\">samples = 1217</text>\r\n",
       "<text text-anchor=\"middle\" x=\"384\" y=\"-183.8\" font-family=\"Times New Roman,serif\" font-size=\"14.00\">value = [694, 523]</text>\r\n",
       "</g>\r\n",
       "<!-- 0&#45;&gt;116 -->\r\n",
       "<g id=\"edge8\" class=\"edge\"><title>0&#45;&gt;116</title>\r\n",
       "<path fill=\"none\" stroke=\"black\" d=\"M334.701,-279.884C340.948,-271.154 347.769,-261.625 354.289,-252.514\"/>\r\n",
       "<polygon fill=\"black\" stroke=\"black\" points=\"357.194,-254.468 360.168,-244.299 351.502,-250.394 357.194,-254.468\"/>\r\n",
       "<text text-anchor=\"middle\" x=\"364.255\" y=\"-265.263\" font-family=\"Times New Roman,serif\" font-size=\"14.00\">False</text>\r\n",
       "</g>\r\n",
       "<!-- 2 -->\r\n",
       "<g id=\"node3\" class=\"node\"><title>2</title>\r\n",
       "<polygon fill=\"none\" stroke=\"black\" points=\"164,-140 26,-140 26,-72 164,-72 164,-140\"/>\r\n",
       "<text text-anchor=\"middle\" x=\"95\" y=\"-124.8\" font-family=\"Times New Roman,serif\" font-size=\"14.00\">great &lt;= 0.102</text>\r\n",
       "<text text-anchor=\"middle\" x=\"95\" y=\"-109.8\" font-family=\"Times New Roman,serif\" font-size=\"14.00\">gini = 0.248</text>\r\n",
       "<text text-anchor=\"middle\" x=\"95\" y=\"-94.8\" font-family=\"Times New Roman,serif\" font-size=\"14.00\">samples = 37736</text>\r\n",
       "<text text-anchor=\"middle\" x=\"95\" y=\"-79.8\" font-family=\"Times New Roman,serif\" font-size=\"14.00\">value = [5481, 32255]</text>\r\n",
       "</g>\r\n",
       "<!-- 1&#45;&gt;2 -->\r\n",
       "<g id=\"edge2\" class=\"edge\"><title>1&#45;&gt;2</title>\r\n",
       "<path fill=\"none\" stroke=\"black\" d=\"M191.572,-175.884C178.335,-166.442 163.785,-156.064 150.085,-146.292\"/>\r\n",
       "<polygon fill=\"black\" stroke=\"black\" points=\"151.858,-143.257 141.684,-140.299 147.793,-148.956 151.858,-143.257\"/>\r\n",
       "</g>\r\n",
       "<!-- 99 -->\r\n",
       "<g id=\"node6\" class=\"node\"><title>99</title>\r\n",
       "<polygon fill=\"none\" stroke=\"black\" points=\"300,-140 182,-140 182,-72 300,-72 300,-140\"/>\r\n",
       "<text text-anchor=\"middle\" x=\"241\" y=\"-124.8\" font-family=\"Times New Roman,serif\" font-size=\"14.00\">great &lt;= 0.03</text>\r\n",
       "<text text-anchor=\"middle\" x=\"241\" y=\"-109.8\" font-family=\"Times New Roman,serif\" font-size=\"14.00\">gini = 0.446</text>\r\n",
       "<text text-anchor=\"middle\" x=\"241\" y=\"-94.8\" font-family=\"Times New Roman,serif\" font-size=\"14.00\">samples = 447</text>\r\n",
       "<text text-anchor=\"middle\" x=\"241\" y=\"-79.8\" font-family=\"Times New Roman,serif\" font-size=\"14.00\">value = [297, 150]</text>\r\n",
       "</g>\r\n",
       "<!-- 1&#45;&gt;99 -->\r\n",
       "<g id=\"edge5\" class=\"edge\"><title>1&#45;&gt;99</title>\r\n",
       "<path fill=\"none\" stroke=\"black\" d=\"M238.974,-175.884C239.212,-167.778 239.471,-158.982 239.721,-150.472\"/>\r\n",
       "<polygon fill=\"black\" stroke=\"black\" points=\"243.225,-150.398 240.021,-140.299 236.228,-150.192 243.225,-150.398\"/>\r\n",
       "</g>\r\n",
       "<!-- 3 -->\r\n",
       "<g id=\"node4\" class=\"node\"><title>3</title>\r\n",
       "<polygon fill=\"none\" stroke=\"black\" points=\"54,-36 0,-36 0,-0 54,-0 54,-36\"/>\r\n",
       "<text text-anchor=\"middle\" x=\"27\" y=\"-14.3\" font-family=\"Times New Roman,serif\" font-size=\"14.00\">(...)</text>\r\n",
       "</g>\r\n",
       "<!-- 2&#45;&gt;3 -->\r\n",
       "<g id=\"edge3\" class=\"edge\"><title>2&#45;&gt;3</title>\r\n",
       "<path fill=\"none\" stroke=\"black\" d=\"M68.9039,-71.9961C61.6379,-62.8067 53.862,-52.9725 47.0058,-44.3014\"/>\r\n",
       "<polygon fill=\"black\" stroke=\"black\" points=\"49.7087,-42.0767 40.7608,-36.4034 44.2177,-46.4184 49.7087,-42.0767\"/>\r\n",
       "</g>\r\n",
       "<!-- 74 -->\r\n",
       "<g id=\"node5\" class=\"node\"><title>74</title>\r\n",
       "<polygon fill=\"none\" stroke=\"black\" points=\"126,-36 72,-36 72,-0 126,-0 126,-36\"/>\r\n",
       "<text text-anchor=\"middle\" x=\"99\" y=\"-14.3\" font-family=\"Times New Roman,serif\" font-size=\"14.00\">(...)</text>\r\n",
       "</g>\r\n",
       "<!-- 2&#45;&gt;74 -->\r\n",
       "<g id=\"edge4\" class=\"edge\"><title>2&#45;&gt;74</title>\r\n",
       "<path fill=\"none\" stroke=\"black\" d=\"M96.5351,-71.9961C96.9272,-63.5646 97.3446,-54.5902 97.7223,-46.4696\"/>\r\n",
       "<polygon fill=\"black\" stroke=\"black\" points=\"101.222,-46.5552 98.1905,-36.4034 94.2296,-46.2299 101.222,-46.5552\"/>\r\n",
       "</g>\r\n",
       "<!-- 100 -->\r\n",
       "<g id=\"node7\" class=\"node\"><title>100</title>\r\n",
       "<polygon fill=\"none\" stroke=\"black\" points=\"226,-36 172,-36 172,-0 226,-0 226,-36\"/>\r\n",
       "<text text-anchor=\"middle\" x=\"199\" y=\"-14.3\" font-family=\"Times New Roman,serif\" font-size=\"14.00\">(...)</text>\r\n",
       "</g>\r\n",
       "<!-- 99&#45;&gt;100 -->\r\n",
       "<g id=\"edge6\" class=\"edge\"><title>99&#45;&gt;100</title>\r\n",
       "<path fill=\"none\" stroke=\"black\" d=\"M224.882,-71.9961C220.625,-63.2804 216.086,-53.9846 212.016,-45.6514\"/>\r\n",
       "<polygon fill=\"black\" stroke=\"black\" points=\"215.033,-43.8531 207.499,-36.4034 208.743,-46.925 215.033,-43.8531\"/>\r\n",
       "</g>\r\n",
       "<!-- 115 -->\r\n",
       "<g id=\"node8\" class=\"node\"><title>115</title>\r\n",
       "<polygon fill=\"none\" stroke=\"black\" points=\"298,-36 244,-36 244,-0 298,-0 298,-36\"/>\r\n",
       "<text text-anchor=\"middle\" x=\"271\" y=\"-14.3\" font-family=\"Times New Roman,serif\" font-size=\"14.00\">(...)</text>\r\n",
       "</g>\r\n",
       "<!-- 99&#45;&gt;115 -->\r\n",
       "<g id=\"edge7\" class=\"edge\"><title>99&#45;&gt;115</title>\r\n",
       "<path fill=\"none\" stroke=\"black\" d=\"M252.513,-71.9961C255.52,-63.3751 258.726,-54.1866 261.608,-45.9234\"/>\r\n",
       "<polygon fill=\"black\" stroke=\"black\" points=\"264.94,-46.9982 264.929,-36.4034 258.331,-44.6926 264.94,-46.9982\"/>\r\n",
       "</g>\r\n",
       "<!-- 117 -->\r\n",
       "<g id=\"node10\" class=\"node\"><title>117</title>\r\n",
       "<polygon fill=\"none\" stroke=\"black\" points=\"441,-140 323,-140 323,-72 441,-72 441,-140\"/>\r\n",
       "<text text-anchor=\"middle\" x=\"382\" y=\"-124.8\" font-family=\"Times New Roman,serif\" font-size=\"14.00\">great &lt;= 0.021</text>\r\n",
       "<text text-anchor=\"middle\" x=\"382\" y=\"-109.8\" font-family=\"Times New Roman,serif\" font-size=\"14.00\">gini = 0.478</text>\r\n",
       "<text text-anchor=\"middle\" x=\"382\" y=\"-94.8\" font-family=\"Times New Roman,serif\" font-size=\"14.00\">samples = 1108</text>\r\n",
       "<text text-anchor=\"middle\" x=\"382\" y=\"-79.8\" font-family=\"Times New Roman,serif\" font-size=\"14.00\">value = [669, 439]</text>\r\n",
       "</g>\r\n",
       "<!-- 116&#45;&gt;117 -->\r\n",
       "<g id=\"edge9\" class=\"edge\"><title>116&#45;&gt;117</title>\r\n",
       "<path fill=\"none\" stroke=\"black\" d=\"M383.351,-175.884C383.192,-167.778 383.019,-158.982 382.852,-150.472\"/>\r\n",
       "<polygon fill=\"black\" stroke=\"black\" points=\"386.348,-150.229 382.653,-140.299 379.35,-150.366 386.348,-150.229\"/>\r\n",
       "</g>\r\n",
       "<!-- 148 -->\r\n",
       "<g id=\"node13\" class=\"node\"><title>148</title>\r\n",
       "<polygon fill=\"none\" stroke=\"black\" points=\"563,-140 459,-140 459,-72 563,-72 563,-140\"/>\r\n",
       "<text text-anchor=\"middle\" x=\"511\" y=\"-124.8\" font-family=\"Times New Roman,serif\" font-size=\"14.00\">earth &lt;= 0.052</text>\r\n",
       "<text text-anchor=\"middle\" x=\"511\" y=\"-109.8\" font-family=\"Times New Roman,serif\" font-size=\"14.00\">gini = 0.354</text>\r\n",
       "<text text-anchor=\"middle\" x=\"511\" y=\"-94.8\" font-family=\"Times New Roman,serif\" font-size=\"14.00\">samples = 109</text>\r\n",
       "<text text-anchor=\"middle\" x=\"511\" y=\"-79.8\" font-family=\"Times New Roman,serif\" font-size=\"14.00\">value = [25, 84]</text>\r\n",
       "</g>\r\n",
       "<!-- 116&#45;&gt;148 -->\r\n",
       "<g id=\"edge12\" class=\"edge\"><title>116&#45;&gt;148</title>\r\n",
       "<path fill=\"none\" stroke=\"black\" d=\"M425.233,-175.884C436.878,-166.531 449.667,-156.259 461.734,-146.568\"/>\r\n",
       "<polygon fill=\"black\" stroke=\"black\" points=\"463.934,-149.29 469.539,-140.299 459.551,-143.832 463.934,-149.29\"/>\r\n",
       "</g>\r\n",
       "<!-- 118 -->\r\n",
       "<g id=\"node11\" class=\"node\"><title>118</title>\r\n",
       "<polygon fill=\"none\" stroke=\"black\" points=\"384,-36 330,-36 330,-0 384,-0 384,-36\"/>\r\n",
       "<text text-anchor=\"middle\" x=\"357\" y=\"-14.3\" font-family=\"Times New Roman,serif\" font-size=\"14.00\">(...)</text>\r\n",
       "</g>\r\n",
       "<!-- 117&#45;&gt;118 -->\r\n",
       "<g id=\"edge10\" class=\"edge\"><title>117&#45;&gt;118</title>\r\n",
       "<path fill=\"none\" stroke=\"black\" d=\"M372.406,-71.9961C369.927,-63.4699 367.287,-54.3885 364.906,-46.1962\"/>\r\n",
       "<polygon fill=\"black\" stroke=\"black\" points=\"368.211,-45.0289 362.059,-36.4034 361.49,-46.9829 368.211,-45.0289\"/>\r\n",
       "</g>\r\n",
       "<!-- 133 -->\r\n",
       "<g id=\"node12\" class=\"node\"><title>133</title>\r\n",
       "<polygon fill=\"none\" stroke=\"black\" points=\"456,-36 402,-36 402,-0 456,-0 456,-36\"/>\r\n",
       "<text text-anchor=\"middle\" x=\"429\" y=\"-14.3\" font-family=\"Times New Roman,serif\" font-size=\"14.00\">(...)</text>\r\n",
       "</g>\r\n",
       "<!-- 117&#45;&gt;133 -->\r\n",
       "<g id=\"edge11\" class=\"edge\"><title>117&#45;&gt;133</title>\r\n",
       "<path fill=\"none\" stroke=\"black\" d=\"M400.037,-71.9961C404.852,-63.1856 409.991,-53.7825 414.583,-45.38\"/>\r\n",
       "<polygon fill=\"black\" stroke=\"black\" points=\"417.764,-46.857 419.489,-36.4034 411.622,-43.4999 417.764,-46.857\"/>\r\n",
       "</g>\r\n",
       "<!-- 149 -->\r\n",
       "<g id=\"node14\" class=\"node\"><title>149</title>\r\n",
       "<polygon fill=\"none\" stroke=\"black\" points=\"535,-36 481,-36 481,-0 535,-0 535,-36\"/>\r\n",
       "<text text-anchor=\"middle\" x=\"508\" y=\"-14.3\" font-family=\"Times New Roman,serif\" font-size=\"14.00\">(...)</text>\r\n",
       "</g>\r\n",
       "<!-- 148&#45;&gt;149 -->\r\n",
       "<g id=\"edge13\" class=\"edge\"><title>148&#45;&gt;149</title>\r\n",
       "<path fill=\"none\" stroke=\"black\" d=\"M509.849,-71.9961C509.555,-63.5646 509.242,-54.5902 508.958,-46.4696\"/>\r\n",
       "<polygon fill=\"black\" stroke=\"black\" points=\"512.454,-46.2753 508.607,-36.4034 505.458,-46.5194 512.454,-46.2753\"/>\r\n",
       "</g>\r\n",
       "<!-- 152 -->\r\n",
       "<g id=\"node15\" class=\"node\"><title>152</title>\r\n",
       "<polygon fill=\"none\" stroke=\"black\" points=\"607,-36 553,-36 553,-0 607,-0 607,-36\"/>\r\n",
       "<text text-anchor=\"middle\" x=\"580\" y=\"-14.3\" font-family=\"Times New Roman,serif\" font-size=\"14.00\">(...)</text>\r\n",
       "</g>\r\n",
       "<!-- 148&#45;&gt;152 -->\r\n",
       "<g id=\"edge14\" class=\"edge\"><title>148&#45;&gt;152</title>\r\n",
       "<path fill=\"none\" stroke=\"black\" d=\"M537.48,-71.9961C544.853,-62.8067 552.743,-52.9725 559.7,-44.3014\"/>\r\n",
       "<polygon fill=\"black\" stroke=\"black\" points=\"562.509,-46.3936 566.037,-36.4034 557.049,-42.0129 562.509,-46.3936\"/>\r\n",
       "</g>\r\n",
       "</g>\r\n",
       "</svg>\r\n"
      ],
      "text/plain": [
       "<graphviz.files.Source at 0x136c73a6470>"
      ]
     },
     "execution_count": 52,
     "metadata": {},
     "output_type": "execute_result"
    }
   ],
   "source": [
    "from sklearn import tree\n",
    "from graphviz import Source\n",
    "import graphviz\n",
    "feat = count_vect.get_feature_names() \n",
    "Source(tree.export_graphviz(clf, out_file = None, feature_names = feat,max_depth=2))"
   ]
  },
  {
   "cell_type": "markdown",
   "metadata": {},
   "source": [
    "##  TF-IDF"
   ]
  },
  {
   "cell_type": "code",
   "execution_count": 25,
   "metadata": {
    "ExecuteTime": {
     "end_time": "2019-03-31T20:46:45.547418Z",
     "start_time": "2019-03-31T20:46:32.211421Z"
    }
   },
   "outputs": [
    {
     "name": "stdout",
     "output_type": "stream",
     "text": [
      "The type of count vectorizer  <class 'scipy.sparse.csr.csr_matrix'>\n",
      "The shape of out text TFIDF vectorizer  (39400, 642970)\n",
      "CV Data Size:  (19407, 642970)\n",
      "Test Data Size:  (28966, 642970)\n"
     ]
    }
   ],
   "source": [
    "tf_idf_vect = TfidfVectorizer(ngram_range=(1,2))\n",
    "tfidf_train = tf_idf_vect.fit_transform(X_tr)\n",
    "print(\"The type of count vectorizer \",type(tfidf_train))\n",
    "print(\"The shape of out text TFIDF vectorizer \",tfidf_train.get_shape())\n",
    "tfidf_cv = tf_idf_vect.transform(X_cv)\n",
    "tfidf_test = tf_idf_vect.transform(X_test)\n",
    "print(\"CV Data Size: \",tfidf_cv.shape)\n",
    "print(\"Test Data Size: \",tfidf_test.shape)"
   ]
  },
  {
   "cell_type": "code",
   "execution_count": 26,
   "metadata": {
    "ExecuteTime": {
     "end_time": "2019-03-31T20:46:46.429517Z",
     "start_time": "2019-03-31T20:46:46.301933Z"
    }
   },
   "outputs": [
    {
     "name": "stdout",
     "output_type": "stream",
     "text": [
      "The shape of out text BOW vectorizer  (39400, 642970)\n",
      "CV Data Size:  (19407, 642970)\n",
      "Test Data Size:  (28966, 642970)\n"
     ]
    }
   ],
   "source": [
    "#Normalize Data\n",
    "from sklearn import preprocessing\n",
    "from sklearn.preprocessing import Normalizer\n",
    "normalizer = preprocessing.Normalizer()\n",
    "bow_train = normalizer.fit_transform(tfidf_train)\n",
    "bow_cv = normalizer.transform(tfidf_cv)\n",
    "bow_test = normalizer.transform(tfidf_test)\n",
    "print(\"The shape of out text BOW vectorizer \",tfidf_train.get_shape())\n",
    "print(\"CV Data Size: \",tfidf_cv.shape)\n",
    "print(\"Test Data Size: \",tfidf_test.shape)"
   ]
  },
  {
   "cell_type": "code",
   "execution_count": 27,
   "metadata": {
    "ExecuteTime": {
     "end_time": "2019-03-31T21:12:48.274741Z",
     "start_time": "2019-03-31T20:46:47.272941Z"
    }
   },
   "outputs": [
    {
     "name": "stdout",
     "output_type": "stream",
     "text": [
      "------------------------------ AUC Score for train data ------------------------------\n"
     ]
    },
    {
     "data": {
      "image/png": "[encoded data removed]",
      "text/plain": [
       "<Figure size 720x360 with 2 Axes>"
      ]
     },
     "metadata": {},
     "output_type": "display_data"
    },
    {
     "name": "stdout",
     "output_type": "stream",
     "text": [
      "------------------------------ AUC Score for CV data ------------------------------\n"
     ]
    },
    {
     "data": {
      "image/png": "[encoded data removed]",
      "text/plain": [
       "<Figure size 720x360 with 2 Axes>"
      ]
     },
     "metadata": {},
     "output_type": "display_data"
    }
   ],
   "source": [
    "# find optimal depth and optimal split\n",
    "DT_Classifier(tfidf_train,tfidf_cv,Y_tr,Y_cv)"
   ]
  },
  {
   "cell_type": "markdown",
   "metadata": {},
   "source": [
    "### Testing on Test data and Traing data in TF-IDF"
   ]
  },
  {
   "cell_type": "code",
   "execution_count": 56,
   "metadata": {
    "ExecuteTime": {
     "end_time": "2019-04-01T10:43:39.748376Z",
     "start_time": "2019-04-01T10:43:36.576221Z"
    }
   },
   "outputs": [
    {
     "name": "stdout",
     "output_type": "stream",
     "text": [
      "AUC Score for train data 0.7834226759196528\n",
      "AUC Score for test data 0.7666180290757519\n",
      "macro f1 score for train data : 0.6425005439317398\n",
      "macro f1 score for test data : 0.6352311937429376\n",
      "micro f1 score for train data: 0.8583502538071066\n",
      "micro f1 score for test data: 0.85610716011876\n",
      "hamming loss for train data: 0.1416497461928934\n",
      "hamming loss for test data: 0.14389283988124008\n",
      "Precision recall report for train data:\n",
      "               precision    recall  f1-score   support\n",
      "\n",
      "           0       0.69      0.25      0.36      6472\n",
      "           1       0.87      0.98      0.92     32928\n",
      "\n",
      "   micro avg       0.86      0.86      0.86     39400\n",
      "   macro avg       0.78      0.61      0.64     39400\n",
      "weighted avg       0.84      0.86      0.83     39400\n",
      "\n",
      "Precision recall report for test data:\n",
      "               precision    recall  f1-score   support\n",
      "\n",
      "           0       0.64      0.24      0.35      4649\n",
      "           1       0.87      0.97      0.92     24317\n",
      "\n",
      "   micro avg       0.86      0.86      0.86     28966\n",
      "   macro avg       0.75      0.61      0.64     28966\n",
      "weighted avg       0.83      0.86      0.83     28966\n",
      "\n"
     ]
    },
    {
     "data": {
      "image/png": "[encoded data removed]",
      "text/plain": [
       "<Figure size 432x288 with 1 Axes>"
      ]
     },
     "metadata": {},
     "output_type": "display_data"
    },
    {
     "data": {
      "image/png": "[encoded data removed]",
      "text/plain": [
       "<Figure size 432x288 with 2 Axes>"
      ]
     },
     "metadata": {},
     "output_type": "display_data"
    },
    {
     "data": {
      "image/png": "[encoded data removed]",
      "text/plain": [
       "<Figure size 432x288 with 2 Axes>"
      ]
     },
     "metadata": {},
     "output_type": "display_data"
    }
   ],
   "source": [
    "testing(tfidf_train,Y_tr,tfidf_test,Y_test,optimal_depth=10,optimal_split=500)"
   ]
  },
  {
   "cell_type": "code",
   "execution_count": 39,
   "metadata": {
    "ExecuteTime": {
     "end_time": "2019-03-29T20:07:54.462465Z",
     "start_time": "2019-03-29T20:07:45.390146Z"
    }
   },
   "outputs": [
    {
     "name": "stdout",
     "output_type": "stream",
     "text": [
      "feature_importances\tfeatures\n",
      "===================================\n",
      "0.1873\t\t\tdisappoint     \n",
      "0.1097\t\t\treturn         \n",
      "0.1096\t\t\tgreat          \n",
      "0.0882\t\t\tworst          \n",
      "0.0747\t\t\twast           \n",
      "0.0705\t\t\tbad            \n",
      "0.0655\t\t\tlove           \n",
      "0.0482\t\t\tdelici         \n",
      "0.0431\t\t\tgood           \n",
      "0.0413\t\t\tbest           \n",
      "0.0272\t\t\twont disappoint\n",
      "0.0110\t\t\taw             \n",
      "0.0109\t\t\tperfect        \n",
      "0.0108\t\t\ttast           \n",
      "0.0100\t\t\tthought        \n",
      "0.0081\t\t\tbatch          \n",
      "0.0078\t\t\tterribl        \n",
      "0.0069\t\t\tmade china     \n",
      "0.0066\t\t\tlittl          \n",
      "0.0064\t\t\tunfortun       \n"
     ]
    }
   ],
   "source": [
    "clf = DecisionTreeClassifier(max_depth =10 , min_samples_split =500 )\n",
    "clf.fit(tfidf_train,Y_tr)\n",
    "imp_feature(tf_idf_vect,clf)"
   ]
  },
  {
   "cell_type": "code",
   "execution_count": 40,
   "metadata": {
    "ExecuteTime": {
     "end_time": "2019-03-29T20:08:03.730012Z",
     "start_time": "2019-03-29T20:08:02.484439Z"
    }
   },
   "outputs": [
    {
     "data": {
      "image/svg+xml": [
       "<?xml version=\"1.0\" encoding=\"UTF-8\" standalone=\"no\"?>\r\n",
       "<!DOCTYPE svg PUBLIC \"-//W3C//DTD SVG 1.1//EN\"\r\n",
       " \"http://www.w3.org/Graphics/SVG/1.1/DTD/svg11.dtd\">\r\n",
       "<!-- Generated by graphviz version 2.38.0 (20140413.2041)\r\n",
       " -->\r\n",
       "<!-- Title: Tree Pages: 1 -->\r\n",
       "<svg width=\"550pt\" height=\"356pt\"\r\n",
       " viewBox=\"0.00 0.00 550.00 356.00\" xmlns=\"http://www.w3.org/2000/svg\" xmlns:xlink=\"http://www.w3.org/1999/xlink\">\r\n",
       "<g id=\"graph0\" class=\"graph\" transform=\"scale(1 1) rotate(0) translate(4 352)\">\r\n",
       "<title>Tree</title>\r\n",
       "<polygon fill=\"white\" stroke=\"none\" points=\"-4,4 -4,-352 546,-352 546,4 -4,4\"/>\r\n",
       "<!-- 0 -->\r\n",
       "<g id=\"node1\" class=\"node\"><title>0</title>\r\n",
       "<polygon fill=\"none\" stroke=\"black\" points=\"360,-348 222,-348 222,-280 360,-280 360,-348\"/>\r\n",
       "<text text-anchor=\"middle\" x=\"291\" y=\"-332.8\" font-family=\"Times New Roman,serif\" font-size=\"14.00\">disappoint &lt;= 0.036</text>\r\n",
       "<text text-anchor=\"middle\" x=\"291\" y=\"-317.8\" font-family=\"Times New Roman,serif\" font-size=\"14.00\">gini = 0.275</text>\r\n",
       "<text text-anchor=\"middle\" x=\"291\" y=\"-302.8\" font-family=\"Times New Roman,serif\" font-size=\"14.00\">samples = 39400</text>\r\n",
       "<text text-anchor=\"middle\" x=\"291\" y=\"-287.8\" font-family=\"Times New Roman,serif\" font-size=\"14.00\">value = [6472, 32928]</text>\r\n",
       "</g>\r\n",
       "<!-- 1 -->\r\n",
       "<g id=\"node2\" class=\"node\"><title>1</title>\r\n",
       "<polygon fill=\"none\" stroke=\"black\" points=\"276,-244 138,-244 138,-176 276,-176 276,-244\"/>\r\n",
       "<text text-anchor=\"middle\" x=\"207\" y=\"-228.8\" font-family=\"Times New Roman,serif\" font-size=\"14.00\">return &lt;= 0.039</text>\r\n",
       "<text text-anchor=\"middle\" x=\"207\" y=\"-213.8\" font-family=\"Times New Roman,serif\" font-size=\"14.00\">gini = 0.256</text>\r\n",
       "<text text-anchor=\"middle\" x=\"207\" y=\"-198.8\" font-family=\"Times New Roman,serif\" font-size=\"14.00\">samples = 38114</text>\r\n",
       "<text text-anchor=\"middle\" x=\"207\" y=\"-183.8\" font-family=\"Times New Roman,serif\" font-size=\"14.00\">value = [5755, 32359]</text>\r\n",
       "</g>\r\n",
       "<!-- 0&#45;&gt;1 -->\r\n",
       "<g id=\"edge1\" class=\"edge\"><title>0&#45;&gt;1</title>\r\n",
       "<path fill=\"none\" stroke=\"black\" d=\"M263.728,-279.884C256.465,-271.065 248.531,-261.43 240.958,-252.235\"/>\r\n",
       "<polygon fill=\"black\" stroke=\"black\" points=\"243.482,-249.794 234.423,-244.299 238.078,-254.244 243.482,-249.794\"/>\r\n",
       "<text text-anchor=\"middle\" x=\"232.015\" y=\"-265.483\" font-family=\"Times New Roman,serif\" font-size=\"14.00\">True</text>\r\n",
       "</g>\r\n",
       "<!-- 54 -->\r\n",
       "<g id=\"node7\" class=\"node\"><title>54</title>\r\n",
       "<polygon fill=\"none\" stroke=\"black\" points=\"455.5,-244 294.5,-244 294.5,-176 455.5,-176 455.5,-244\"/>\r\n",
       "<text text-anchor=\"middle\" x=\"375\" y=\"-228.8\" font-family=\"Times New Roman,serif\" font-size=\"14.00\">wont disappoint &lt;= 0.019</text>\r\n",
       "<text text-anchor=\"middle\" x=\"375\" y=\"-213.8\" font-family=\"Times New Roman,serif\" font-size=\"14.00\">gini = 0.493</text>\r\n",
       "<text text-anchor=\"middle\" x=\"375\" y=\"-198.8\" font-family=\"Times New Roman,serif\" font-size=\"14.00\">samples = 1286</text>\r\n",
       "<text text-anchor=\"middle\" x=\"375\" y=\"-183.8\" font-family=\"Times New Roman,serif\" font-size=\"14.00\">value = [717, 569]</text>\r\n",
       "</g>\r\n",
       "<!-- 0&#45;&gt;54 -->\r\n",
       "<g id=\"edge6\" class=\"edge\"><title>0&#45;&gt;54</title>\r\n",
       "<path fill=\"none\" stroke=\"black\" d=\"M318.272,-279.884C325.535,-271.065 333.469,-261.43 341.042,-252.235\"/>\r\n",
       "<polygon fill=\"black\" stroke=\"black\" points=\"343.922,-254.244 347.577,-244.299 338.518,-249.794 343.922,-254.244\"/>\r\n",
       "<text text-anchor=\"middle\" x=\"349.985\" y=\"-265.483\" font-family=\"Times New Roman,serif\" font-size=\"14.00\">False</text>\r\n",
       "</g>\r\n",
       "<!-- 2 -->\r\n",
       "<g id=\"node3\" class=\"node\"><title>2</title>\r\n",
       "<polygon fill=\"none\" stroke=\"black\" points=\"138,-140 0,-140 0,-72 138,-72 138,-140\"/>\r\n",
       "<text text-anchor=\"middle\" x=\"69\" y=\"-124.8\" font-family=\"Times New Roman,serif\" font-size=\"14.00\">great &lt;= 0.024</text>\r\n",
       "<text text-anchor=\"middle\" x=\"69\" y=\"-109.8\" font-family=\"Times New Roman,serif\" font-size=\"14.00\">gini = 0.248</text>\r\n",
       "<text text-anchor=\"middle\" x=\"69\" y=\"-94.8\" font-family=\"Times New Roman,serif\" font-size=\"14.00\">samples = 37682</text>\r\n",
       "<text text-anchor=\"middle\" x=\"69\" y=\"-79.8\" font-family=\"Times New Roman,serif\" font-size=\"14.00\">value = [5463, 32219]</text>\r\n",
       "</g>\r\n",
       "<!-- 1&#45;&gt;2 -->\r\n",
       "<g id=\"edge2\" class=\"edge\"><title>1&#45;&gt;2</title>\r\n",
       "<path fill=\"none\" stroke=\"black\" d=\"M162.195,-175.884C149.421,-166.442 135.38,-156.064 122.159,-146.292\"/>\r\n",
       "<polygon fill=\"black\" stroke=\"black\" points=\"124.174,-143.429 114.052,-140.299 120.013,-149.058 124.174,-143.429\"/>\r\n",
       "</g>\r\n",
       "<!-- 53 -->\r\n",
       "<g id=\"node6\" class=\"node\"><title>53</title>\r\n",
       "<polygon fill=\"none\" stroke=\"black\" points=\"274,-132.5 156,-132.5 156,-79.5 274,-79.5 274,-132.5\"/>\r\n",
       "<text text-anchor=\"middle\" x=\"215\" y=\"-117.3\" font-family=\"Times New Roman,serif\" font-size=\"14.00\">gini = 0.438</text>\r\n",
       "<text text-anchor=\"middle\" x=\"215\" y=\"-102.3\" font-family=\"Times New Roman,serif\" font-size=\"14.00\">samples = 432</text>\r\n",
       "<text text-anchor=\"middle\" x=\"215\" y=\"-87.3\" font-family=\"Times New Roman,serif\" font-size=\"14.00\">value = [292, 140]</text>\r\n",
       "</g>\r\n",
       "<!-- 1&#45;&gt;53 -->\r\n",
       "<g id=\"edge5\" class=\"edge\"><title>1&#45;&gt;53</title>\r\n",
       "<path fill=\"none\" stroke=\"black\" d=\"M209.597,-175.884C210.434,-165.216 211.365,-153.352 212.214,-142.519\"/>\r\n",
       "<polygon fill=\"black\" stroke=\"black\" points=\"215.706,-142.763 212.998,-132.52 208.727,-142.216 215.706,-142.763\"/>\r\n",
       "</g>\r\n",
       "<!-- 3 -->\r\n",
       "<g id=\"node4\" class=\"node\"><title>3</title>\r\n",
       "<polygon fill=\"none\" stroke=\"black\" points=\"60,-36 6,-36 6,-0 60,-0 60,-36\"/>\r\n",
       "<text text-anchor=\"middle\" x=\"33\" y=\"-14.3\" font-family=\"Times New Roman,serif\" font-size=\"14.00\">(...)</text>\r\n",
       "</g>\r\n",
       "<!-- 2&#45;&gt;3 -->\r\n",
       "<g id=\"edge3\" class=\"edge\"><title>2&#45;&gt;3</title>\r\n",
       "<path fill=\"none\" stroke=\"black\" d=\"M55.1844,-71.9961C51.536,-63.2804 47.6447,-53.9846 44.1564,-45.6514\"/>\r\n",
       "<polygon fill=\"black\" stroke=\"black\" points=\"47.3751,-44.2763 40.2851,-36.4034 40.918,-46.9793 47.3751,-44.2763\"/>\r\n",
       "</g>\r\n",
       "<!-- 38 -->\r\n",
       "<g id=\"node5\" class=\"node\"><title>38</title>\r\n",
       "<polygon fill=\"none\" stroke=\"black\" points=\"132,-36 78,-36 78,-0 132,-0 132,-36\"/>\r\n",
       "<text text-anchor=\"middle\" x=\"105\" y=\"-14.3\" font-family=\"Times New Roman,serif\" font-size=\"14.00\">(...)</text>\r\n",
       "</g>\r\n",
       "<!-- 2&#45;&gt;38 -->\r\n",
       "<g id=\"edge4\" class=\"edge\"><title>2&#45;&gt;38</title>\r\n",
       "<path fill=\"none\" stroke=\"black\" d=\"M82.8156,-71.9961C86.464,-63.2804 90.3553,-53.9846 93.8436,-45.6514\"/>\r\n",
       "<polygon fill=\"black\" stroke=\"black\" points=\"97.082,-46.9793 97.7149,-36.4034 90.6249,-44.2763 97.082,-46.9793\"/>\r\n",
       "</g>\r\n",
       "<!-- 55 -->\r\n",
       "<g id=\"node8\" class=\"node\"><title>55</title>\r\n",
       "<polygon fill=\"none\" stroke=\"black\" points=\"426,-140 308,-140 308,-72 426,-72 426,-140\"/>\r\n",
       "<text text-anchor=\"middle\" x=\"367\" y=\"-124.8\" font-family=\"Times New Roman,serif\" font-size=\"14.00\">great &lt;= 0.043</text>\r\n",
       "<text text-anchor=\"middle\" x=\"367\" y=\"-109.8\" font-family=\"Times New Roman,serif\" font-size=\"14.00\">gini = 0.48</text>\r\n",
       "<text text-anchor=\"middle\" x=\"367\" y=\"-94.8\" font-family=\"Times New Roman,serif\" font-size=\"14.00\">samples = 1190</text>\r\n",
       "<text text-anchor=\"middle\" x=\"367\" y=\"-79.8\" font-family=\"Times New Roman,serif\" font-size=\"14.00\">value = [715, 475]</text>\r\n",
       "</g>\r\n",
       "<!-- 54&#45;&gt;55 -->\r\n",
       "<g id=\"edge7\" class=\"edge\"><title>54&#45;&gt;55</title>\r\n",
       "<path fill=\"none\" stroke=\"black\" d=\"M372.403,-175.884C371.767,-167.778 371.077,-158.982 370.41,-150.472\"/>\r\n",
       "<polygon fill=\"black\" stroke=\"black\" points=\"373.883,-149.995 369.612,-140.299 366.904,-150.542 373.883,-149.995\"/>\r\n",
       "</g>\r\n",
       "<!-- 72 -->\r\n",
       "<g id=\"node11\" class=\"node\"><title>72</title>\r\n",
       "<polygon fill=\"none\" stroke=\"black\" points=\"542,-132.5 444,-132.5 444,-79.5 542,-79.5 542,-132.5\"/>\r\n",
       "<text text-anchor=\"middle\" x=\"493\" y=\"-117.3\" font-family=\"Times New Roman,serif\" font-size=\"14.00\">gini = 0.041</text>\r\n",
       "<text text-anchor=\"middle\" x=\"493\" y=\"-102.3\" font-family=\"Times New Roman,serif\" font-size=\"14.00\">samples = 96</text>\r\n",
       "<text text-anchor=\"middle\" x=\"493\" y=\"-87.3\" font-family=\"Times New Roman,serif\" font-size=\"14.00\">value = [2, 94]</text>\r\n",
       "</g>\r\n",
       "<!-- 54&#45;&gt;72 -->\r\n",
       "<g id=\"edge10\" class=\"edge\"><title>54&#45;&gt;72</title>\r\n",
       "<path fill=\"none\" stroke=\"black\" d=\"M413.311,-175.884C426.925,-164.116 442.221,-150.894 455.745,-139.203\"/>\r\n",
       "<polygon fill=\"black\" stroke=\"black\" points=\"458.2,-141.707 463.477,-132.52 453.623,-136.412 458.2,-141.707\"/>\r\n",
       "</g>\r\n",
       "<!-- 56 -->\r\n",
       "<g id=\"node9\" class=\"node\"><title>56</title>\r\n",
       "<polygon fill=\"none\" stroke=\"black\" points=\"358,-36 304,-36 304,-0 358,-0 358,-36\"/>\r\n",
       "<text text-anchor=\"middle\" x=\"331\" y=\"-14.3\" font-family=\"Times New Roman,serif\" font-size=\"14.00\">(...)</text>\r\n",
       "</g>\r\n",
       "<!-- 55&#45;&gt;56 -->\r\n",
       "<g id=\"edge8\" class=\"edge\"><title>55&#45;&gt;56</title>\r\n",
       "<path fill=\"none\" stroke=\"black\" d=\"M353.184,-71.9961C349.536,-63.2804 345.645,-53.9846 342.156,-45.6514\"/>\r\n",
       "<polygon fill=\"black\" stroke=\"black\" points=\"345.375,-44.2763 338.285,-36.4034 338.918,-46.9793 345.375,-44.2763\"/>\r\n",
       "</g>\r\n",
       "<!-- 71 -->\r\n",
       "<g id=\"node10\" class=\"node\"><title>71</title>\r\n",
       "<polygon fill=\"none\" stroke=\"black\" points=\"430,-36 376,-36 376,-0 430,-0 430,-36\"/>\r\n",
       "<text text-anchor=\"middle\" x=\"403\" y=\"-14.3\" font-family=\"Times New Roman,serif\" font-size=\"14.00\">(...)</text>\r\n",
       "</g>\r\n",
       "<!-- 55&#45;&gt;71 -->\r\n",
       "<g id=\"edge9\" class=\"edge\"><title>55&#45;&gt;71</title>\r\n",
       "<path fill=\"none\" stroke=\"black\" d=\"M380.816,-71.9961C384.464,-63.2804 388.355,-53.9846 391.844,-45.6514\"/>\r\n",
       "<polygon fill=\"black\" stroke=\"black\" points=\"395.082,-46.9793 395.715,-36.4034 388.625,-44.2763 395.082,-46.9793\"/>\r\n",
       "</g>\r\n",
       "</g>\r\n",
       "</svg>\r\n"
      ],
      "text/plain": [
       "<graphviz.files.Source at 0x27c697b9828>"
      ]
     },
     "execution_count": 40,
     "metadata": {},
     "output_type": "execute_result"
    }
   ],
   "source": [
    "from sklearn import tree\n",
    "from graphviz import Source\n",
    "import graphviz\n",
    "feat = tf_idf_vect.get_feature_names() \n",
    "Source(tree.export_graphviz(clf, out_file = None, feature_names = feat,max_depth=2))"
   ]
  },
  {
   "cell_type": "markdown",
   "metadata": {},
   "source": [
    "## Avg W2V"
   ]
  },
  {
   "cell_type": "code",
   "execution_count": 28,
   "metadata": {
    "ExecuteTime": {
     "end_time": "2019-03-31T21:12:53.724351Z",
     "start_time": "2019-03-31T21:12:49.110351Z"
    }
   },
   "outputs": [],
   "source": [
    "i=0\n",
    "list_of_sent_train=[]\n",
    "for sent in X_tr.values:\n",
    "    filtered_sentence=[]\n",
    "    sent=cleanhtml(sent)\n",
    "    for w in sent.split():\n",
    "        for cleaned_words in cleanpunc(w).split():\n",
    "            if(cleaned_words.isalpha()):    \n",
    "                filtered_sentence.append(cleaned_words.lower())\n",
    "            else:\n",
    "                continue \n",
    "    list_of_sent_train.append(filtered_sentence)"
   ]
  },
  {
   "cell_type": "code",
   "execution_count": 29,
   "metadata": {
    "ExecuteTime": {
     "end_time": "2019-03-31T21:12:57.334032Z",
     "start_time": "2019-03-31T21:12:55.047242Z"
    }
   },
   "outputs": [],
   "source": [
    "i=0\n",
    "list_of_sent_CV=[]\n",
    "for sent in X_cv.values:\n",
    "    filtered_sentence=[]\n",
    "    sent=cleanhtml(sent)\n",
    "    for w in sent.split():\n",
    "        for cleaned_words in cleanpunc(w).split():\n",
    "            if(cleaned_words.isalpha()):    \n",
    "                filtered_sentence.append(cleaned_words.lower())\n",
    "            else:\n",
    "                continue \n",
    "    list_of_sent_CV.append(filtered_sentence)"
   ]
  },
  {
   "cell_type": "code",
   "execution_count": 30,
   "metadata": {
    "ExecuteTime": {
     "end_time": "2019-03-31T21:13:02.254149Z",
     "start_time": "2019-03-31T21:12:58.886349Z"
    }
   },
   "outputs": [],
   "source": [
    "i=0\n",
    "list_of_sent_test=[]\n",
    "for sent in X_test.values:\n",
    "    filtered_sentence=[]\n",
    "    sent=cleanhtml(sent)\n",
    "    for w in sent.split():\n",
    "        for cleaned_words in cleanpunc(w).split():\n",
    "            if(cleaned_words.isalpha()):    \n",
    "                filtered_sentence.append(cleaned_words.lower())\n",
    "            else:\n",
    "                continue \n",
    "    list_of_sent_test.append(filtered_sentence)"
   ]
  },
  {
   "cell_type": "code",
   "execution_count": 31,
   "metadata": {
    "ExecuteTime": {
     "end_time": "2019-03-31T21:13:12.185274Z",
     "start_time": "2019-03-31T21:13:04.109677Z"
    }
   },
   "outputs": [],
   "source": [
    "import gensim\n",
    "w2v_model = gensim.models.Word2Vec(list_of_sent_train,min_count=5,size=50,workers=4)\n",
    "w2v_words = list(w2v_model.wv.vocab)"
   ]
  },
  {
   "cell_type": "code",
   "execution_count": 32,
   "metadata": {
    "ExecuteTime": {
     "end_time": "2019-03-31T21:13:14.087213Z",
     "start_time": "2019-03-31T21:13:14.081216Z"
    }
   },
   "outputs": [],
   "source": [
    "def avg_w2v(list_of_sent):\n",
    "    sent_vectors = []; # the avg-w2v for each sentence/review is stored in this list\n",
    "    for sent in list_of_sent: # for each review/sentence\n",
    "        sent_vec = np.zeros(50) # as word vectors are of zero length\n",
    "        cnt_words =0; # num of words with a valid vector in the sentence/review\n",
    "        for word in sent: # for each word in a review/sentence\n",
    "            if word in w2v_words:\n",
    "                vec = w2v_model.wv[word]\n",
    "                sent_vec += vec\n",
    "                cnt_words += 1\n",
    "        if cnt_words != 0:\n",
    "            sent_vec /= cnt_words\n",
    "        sent_vectors.append(sent_vec)        \n",
    "    print(len(sent_vectors))\n",
    "    print(len(sent_vectors[0]))\n",
    "    return sent_vectors"
   ]
  },
  {
   "cell_type": "code",
   "execution_count": 33,
   "metadata": {
    "ExecuteTime": {
     "end_time": "2019-03-31T21:13:52.834305Z",
     "start_time": "2019-03-31T21:13:15.995768Z"
    }
   },
   "outputs": [
    {
     "name": "stdout",
     "output_type": "stream",
     "text": [
      "39400\n",
      "50\n"
     ]
    }
   ],
   "source": [
    "train_avgw2v = avg_w2v(list_of_sent_train)"
   ]
  },
  {
   "cell_type": "code",
   "execution_count": 34,
   "metadata": {
    "ExecuteTime": {
     "end_time": "2019-03-31T21:14:57.061310Z",
     "start_time": "2019-03-31T21:14:38.402504Z"
    }
   },
   "outputs": [
    {
     "name": "stdout",
     "output_type": "stream",
     "text": [
      "19407\n",
      "50\n"
     ]
    }
   ],
   "source": [
    "cv_avgw2v = avg_w2v(list_of_sent_CV)"
   ]
  },
  {
   "cell_type": "code",
   "execution_count": 35,
   "metadata": {
    "ExecuteTime": {
     "end_time": "2019-03-31T21:16:30.473731Z",
     "start_time": "2019-03-31T21:16:02.524190Z"
    }
   },
   "outputs": [
    {
     "name": "stdout",
     "output_type": "stream",
     "text": [
      "28966\n",
      "50\n"
     ]
    }
   ],
   "source": [
    "test_avgw2v = avg_w2v(list_of_sent_test)"
   ]
  },
  {
   "cell_type": "code",
   "execution_count": 36,
   "metadata": {
    "ExecuteTime": {
     "end_time": "2019-03-31T21:18:07.104458Z",
     "start_time": "2019-03-31T21:18:06.835646Z"
    }
   },
   "outputs": [],
   "source": [
    "normalizer = preprocessing.Normalizer()\n",
    "train_avgw2v = normalizer.fit_transform(train_avgw2v)\n",
    "cv_avgw2v = normalizer.transform(cv_avgw2v)\n",
    "test_avgw2v = normalizer.transform(test_avgw2v)"
   ]
  },
  {
   "cell_type": "code",
   "execution_count": 37,
   "metadata": {
    "ExecuteTime": {
     "end_time": "2019-03-31T21:19:51.692320Z",
     "start_time": "2019-03-31T21:18:08.936072Z"
    },
    "scrolled": true
   },
   "outputs": [
    {
     "name": "stdout",
     "output_type": "stream",
     "text": [
      "------------------------------ AUC Score for train data ------------------------------\n"
     ]
    },
    {
     "data": {
      "image/png": "[encoded data removed]",
      "text/plain": [
       "<Figure size 720x360 with 2 Axes>"
      ]
     },
     "metadata": {},
     "output_type": "display_data"
    },
    {
     "name": "stdout",
     "output_type": "stream",
     "text": [
      "------------------------------ AUC Score for CV data ------------------------------\n"
     ]
    },
    {
     "data": {
      "image/png": "[encoded data removed]",
      "text/plain": [
       "<Figure size 720x360 with 2 Axes>"
      ]
     },
     "metadata": {},
     "output_type": "display_data"
    }
   ],
   "source": [
    "# find optimal depth and optimal split\n",
    "DT_Classifier(train_avgw2v,cv_avgw2v,Y_tr,Y_cv)"
   ]
  },
  {
   "cell_type": "markdown",
   "metadata": {},
   "source": [
    "### Testing on Test data and Traing data in Avg-W2V "
   ]
  },
  {
   "cell_type": "code",
   "execution_count": 53,
   "metadata": {
    "ExecuteTime": {
     "end_time": "2019-04-01T09:39:30.376723Z",
     "start_time": "2019-04-01T09:39:27.337751Z"
    }
   },
   "outputs": [
    {
     "name": "stdout",
     "output_type": "stream",
     "text": [
      "AUC Score for train data 0.8253844694939163\n",
      "AUC Score for test data 0.8087795660693864\n",
      "macro f1 score for train data : 0.7043349857015415\n",
      "macro f1 score for test data : 0.6854411716324752\n",
      "micro f1 score for train data: 0.8632233502538071\n",
      "micro f1 score for test data: 0.8572464268452669\n",
      "hamming loss for train data: 0.13677664974619289\n",
      "hamming loss for test data: 0.14275357315473314\n",
      "Precision recall report for train data:\n",
      "               precision    recall  f1-score   support\n",
      "\n",
      "           0       0.63      0.40      0.49      6472\n",
      "           1       0.89      0.96      0.92     32928\n",
      "\n",
      "   micro avg       0.86      0.86      0.86     39400\n",
      "   macro avg       0.76      0.68      0.70     39400\n",
      "weighted avg       0.85      0.86      0.85     39400\n",
      "\n",
      "Precision recall report for test data:\n",
      "               precision    recall  f1-score   support\n",
      "\n",
      "           0       0.59      0.37      0.45      4649\n",
      "           1       0.89      0.95      0.92     24317\n",
      "\n",
      "   micro avg       0.86      0.86      0.86     28966\n",
      "   macro avg       0.74      0.66      0.69     28966\n",
      "weighted avg       0.84      0.86      0.84     28966\n",
      "\n"
     ]
    },
    {
     "data": {
      "image/png": "[encoded data removed]",
      "text/plain": [
       "<Figure size 432x288 with 1 Axes>"
      ]
     },
     "metadata": {},
     "output_type": "display_data"
    },
    {
     "data": {
      "image/png": "[encoded data removed]",
      "text/plain": [
       "<Figure size 432x288 with 2 Axes>"
      ]
     },
     "metadata": {},
     "output_type": "display_data"
    },
    {
     "data": {
      "image/png": "[encoded data removed]",
      "text/plain": [
       "<Figure size 432x288 with 2 Axes>"
      ]
     },
     "metadata": {},
     "output_type": "display_data"
    }
   ],
   "source": [
    "testing(train_avgw2v,Y_tr,test_avgw2v,Y_test,optimal_depth=5,optimal_split=500)"
   ]
  },
  {
   "cell_type": "markdown",
   "metadata": {},
   "source": [
    "## TF-IDF Weighted W2V"
   ]
  },
  {
   "cell_type": "code",
   "execution_count": 38,
   "metadata": {
    "ExecuteTime": {
     "end_time": "2019-03-31T21:19:57.701067Z",
     "start_time": "2019-03-31T21:19:53.606005Z"
    }
   },
   "outputs": [
    {
     "name": "stdout",
     "output_type": "stream",
     "text": [
      "The type of count vectorizer  <class 'scipy.sparse.csr.csr_matrix'>\n",
      "The shape of out text TFIDF vectorizer  (39400, 23389)\n",
      "CV Data Size:  (19407, 23389)\n",
      "Test Data Size:  (28966, 23389)\n"
     ]
    }
   ],
   "source": [
    "tf_idf_vect = TfidfVectorizer()\n",
    "tfidf_train = tf_idf_vect.fit_transform(X_tr)\n",
    "print(\"The type of count vectorizer \",type(tfidf_train))\n",
    "print(\"The shape of out text TFIDF vectorizer \",tfidf_train.get_shape())\n",
    "tfidf_cv = tf_idf_vect.transform(X_cv)\n",
    "tfidf_test = tf_idf_vect.transform(X_test)\n",
    "print(\"CV Data Size: \",tfidf_cv.shape)\n",
    "print(\"Test Data Size: \",tfidf_test.shape)"
   ]
  },
  {
   "cell_type": "code",
   "execution_count": 39,
   "metadata": {
    "ExecuteTime": {
     "end_time": "2019-03-31T21:29:18.258209Z",
     "start_time": "2019-03-31T21:19:59.752879Z"
    }
   },
   "outputs": [
    {
     "name": "stdout",
     "output_type": "stream",
     "text": [
      "39400\n",
      "50\n"
     ]
    }
   ],
   "source": [
    "t = tf_idf_vect.get_feature_names()\n",
    "tfidf_sent_vectors_train = []; # the tfidf-w2v for each sentence/review is stored in this list\n",
    "row=0;\n",
    "for sent in list_of_sent_train:\n",
    "    sent_vec = np.zeros(50)\n",
    "    cnt_words = 0; # num of words with a valid vector in the sentence/review\n",
    "    for word in sent: # for each word in a review/sentence\n",
    "        if word in w2v_words:\n",
    "            vec = w2v_model.wv[word]\n",
    "            tfidf = tfidf_train[row,t.index(word)]\n",
    "            sent_vec += (vec * tfidf)\n",
    "            cnt_words += tfidf\n",
    "    if cnt_words != 0:\n",
    "        sent_vec /= cnt_words\n",
    "    tfidf_sent_vectors_train.append(sent_vec)\n",
    "    row += 1\n",
    "print(len(tfidf_sent_vectors_train))\n",
    "print(len(tfidf_sent_vectors_train[0]))\n",
    "#return tfidf_sent_vectors_train"
   ]
  },
  {
   "cell_type": "code",
   "execution_count": 40,
   "metadata": {
    "ExecuteTime": {
     "end_time": "2019-03-31T21:34:45.713105Z",
     "start_time": "2019-03-31T21:30:03.201892Z"
    }
   },
   "outputs": [
    {
     "name": "stdout",
     "output_type": "stream",
     "text": [
      "19407\n",
      "50\n"
     ]
    }
   ],
   "source": [
    "t = tf_idf_vect.get_feature_names()\n",
    "tfidf_sent_vectors_CV = []; # the tfidf-w2v for each sentence/review is stored in this list\n",
    "row=0;\n",
    "for sent in list_of_sent_CV:\n",
    "    sent_vec = np.zeros(50)\n",
    "    cnt_words = 0; # num of words with a valid vector in the sentence/review\n",
    "    for word in sent: # for each word in a review/sentence\n",
    "        if word in w2v_words:\n",
    "            vec = w2v_model.wv[word]\n",
    "            tfidf = tfidf_cv[row,t.index(word)]\n",
    "            sent_vec += (vec * tfidf)\n",
    "            cnt_words += tfidf\n",
    "    if cnt_words != 0:\n",
    "        sent_vec /= cnt_words\n",
    "    tfidf_sent_vectors_CV.append(sent_vec)\n",
    "    row += 1\n",
    "print(len(tfidf_sent_vectors_CV))\n",
    "print(len(tfidf_sent_vectors_CV[0]))\n",
    "#return tfidf_sent_vectors_CV"
   ]
  },
  {
   "cell_type": "code",
   "execution_count": 41,
   "metadata": {
    "ExecuteTime": {
     "end_time": "2019-03-31T21:42:45.483246Z",
     "start_time": "2019-03-31T21:35:51.172322Z"
    }
   },
   "outputs": [
    {
     "name": "stdout",
     "output_type": "stream",
     "text": [
      "28966\n",
      "50\n"
     ]
    }
   ],
   "source": [
    "t = tf_idf_vect.get_feature_names()\n",
    "tfidf_sent_vectors_test = []; # the tfidf-w2v for each sentence/review is stored in this list\n",
    "row=0;\n",
    "for sent in list_of_sent_test:\n",
    "    sent_vec = np.zeros(50)\n",
    "    cnt_words = 0; # num of words with a valid vector in the sentence/review\n",
    "    for word in sent: # for each word in a review/sentence\n",
    "        if word in w2v_words:\n",
    "            vec = w2v_model.wv[word]\n",
    "            tfidf = tfidf_test[row,t.index(word)]\n",
    "            sent_vec += (vec * tfidf)\n",
    "            cnt_words += tfidf\n",
    "    if cnt_words != 0:\n",
    "        sent_vec /= cnt_words\n",
    "    tfidf_sent_vectors_test.append(sent_vec)\n",
    "    row += 1\n",
    "print(len(tfidf_sent_vectors_test))\n",
    "print(len(tfidf_sent_vectors_test[0]))\n",
    "#return tfidf_sent_vectors_test"
   ]
  },
  {
   "cell_type": "code",
   "execution_count": 42,
   "metadata": {
    "ExecuteTime": {
     "end_time": "2019-03-31T21:44:22.068010Z",
     "start_time": "2019-03-31T21:44:22.062012Z"
    }
   },
   "outputs": [],
   "source": [
    "train_tfidfw2v = tfidf_sent_vectors_train\n",
    "cv_tfidfw2v = tfidf_sent_vectors_CV\n",
    "test_tfidfw2v = tfidf_sent_vectors_test"
   ]
  },
  {
   "cell_type": "code",
   "execution_count": 43,
   "metadata": {
    "ExecuteTime": {
     "end_time": "2019-03-31T21:47:34.430249Z",
     "start_time": "2019-03-31T21:47:34.213579Z"
    }
   },
   "outputs": [],
   "source": [
    "normalizer = preprocessing.Normalizer()\n",
    "train_tfidfw2v = normalizer.fit_transform(train_tfidfw2v)\n",
    "cv_tfidfw2v = normalizer.transform(cv_tfidfw2v)\n",
    "test_tfidfw2v = normalizer.transform(test_tfidfw2v)"
   ]
  },
  {
   "cell_type": "code",
   "execution_count": 44,
   "metadata": {
    "ExecuteTime": {
     "end_time": "2019-03-31T21:50:52.777719Z",
     "start_time": "2019-03-31T21:49:11.844271Z"
    }
   },
   "outputs": [
    {
     "name": "stdout",
     "output_type": "stream",
     "text": [
      "------------------------------ AUC Score for train data ------------------------------\n"
     ]
    },
    {
     "data": {
      "image/png": "[encoded data removed]",
      "text/plain": [
       "<Figure size 720x360 with 2 Axes>"
      ]
     },
     "metadata": {},
     "output_type": "display_data"
    },
    {
     "name": "stdout",
     "output_type": "stream",
     "text": [
      "------------------------------ AUC Score for CV data ------------------------------\n"
     ]
    },
    {
     "data": {
      "image/png": "[encoded data removed]",
      "text/plain": [
       "<Figure size 720x360 with 2 Axes>"
      ]
     },
     "metadata": {},
     "output_type": "display_data"
    }
   ],
   "source": [
    "# find optimal depth and optimal split\n",
    "DT_Classifier(train_tfidfw2v,cv_tfidfw2v,Y_tr,Y_cv)"
   ]
  },
  {
   "cell_type": "markdown",
   "metadata": {},
   "source": [
    "### Testing on Test data and Training data in TF-IDF W2V "
   ]
  },
  {
   "cell_type": "code",
   "execution_count": 54,
   "metadata": {
    "ExecuteTime": {
     "end_time": "2019-04-01T09:40:20.522088Z",
     "start_time": "2019-04-01T09:40:17.906880Z"
    }
   },
   "outputs": [
    {
     "name": "stdout",
     "output_type": "stream",
     "text": [
      "AUC Score for train data 0.7992453836613667\n",
      "AUC Score for test data 0.7808073328222721\n",
      "macro f1 score for train data : 0.633283634678326\n",
      "macro f1 score for test data : 0.6292360102275922\n",
      "micro f1 score for train data: 0.8520304568527919\n",
      "micro f1 score for test data: 0.8540012428364289\n",
      "hamming loss for train data: 0.14796954314720812\n",
      "hamming loss for test data: 0.14599875716357108\n",
      "Precision recall report for train data:\n",
      "               precision    recall  f1-score   support\n",
      "\n",
      "           0       0.63      0.24      0.35      6472\n",
      "           1       0.87      0.97      0.92     32928\n",
      "\n",
      "   micro avg       0.85      0.85      0.85     39400\n",
      "   macro avg       0.75      0.61      0.63     39400\n",
      "weighted avg       0.83      0.85      0.82     39400\n",
      "\n",
      "Precision recall report for test data:\n",
      "               precision    recall  f1-score   support\n",
      "\n",
      "           0       0.62      0.23      0.34      4649\n",
      "           1       0.87      0.97      0.92     24317\n",
      "\n",
      "   micro avg       0.85      0.85      0.85     28966\n",
      "   macro avg       0.74      0.60      0.63     28966\n",
      "weighted avg       0.83      0.85      0.83     28966\n",
      "\n"
     ]
    },
    {
     "data": {
      "image/png": "[encoded data removed]",
      "text/plain": [
       "<Figure size 432x288 with 1 Axes>"
      ]
     },
     "metadata": {},
     "output_type": "display_data"
    },
    {
     "data": {
      "image/png": "[encoded data removed]",
      "text/plain": [
       "<Figure size 432x288 with 2 Axes>"
      ]
     },
     "metadata": {},
     "output_type": "display_data"
    },
    {
     "data": {
      "image/png": "[encoded data removed]",
      "text/plain": [
       "<Figure size 432x288 with 2 Axes>"
      ]
     },
     "metadata": {},
     "output_type": "display_data"
    }
   ],
   "source": [
    "testing(train_tfidfw2v,Y_tr,test_tfidfw2v,Y_test,optimal_depth=5,optimal_split=100)"
   ]
  },
  {
   "cell_type": "code",
   "execution_count": 57,
   "metadata": {
    "ExecuteTime": {
     "end_time": "2019-04-01T10:44:10.011876Z",
     "start_time": "2019-04-01T10:44:09.995879Z"
    }
   },
   "outputs": [
    {
     "data": {
      "text/markdown": [
       "****Final Conclusion:****"
      ],
      "text/plain": [
       "<IPython.core.display.Markdown object>"
      ]
     },
     "metadata": {},
     "output_type": "display_data"
    },
    {
     "name": "stdout",
     "output_type": "stream",
     "text": [
      "+------------+-----------------------------+---------------------------------+----------------+\n",
      "| Vectorizer | Best Hyper Parameter(Depth) | Best Hyper parameter(min_split) | Test Auc Score |\n",
      "+------------+-----------------------------+---------------------------------+----------------+\n",
      "|    BoW     |              10             |               100               |     76.37      |\n",
      "|   Tf-Idf   |              10             |               500               |     76.66      |\n",
      "|  Avg-W2V   |              5              |               500               |     80.18      |\n",
      "| TfIdf-W2V  |              5              |               100               |     78.08      |\n",
      "+------------+-----------------------------+---------------------------------+----------------+\n"
     ]
    }
   ],
   "source": [
    "from prettytable import PrettyTable\n",
    "x = PrettyTable()\n",
    "x.field_names = [\"Vectorizer\",\"Best Hyper Parameter(Depth)\",\"Best Hyper parameter(min_split)\",\"Test Auc Score\"]\n",
    "x.add_row([\"BoW\",10,100,76.37])\n",
    "x.add_row([\"Tf-Idf\",10,500,76.66])\n",
    "x.add_row([\"Avg-W2V\",5,500,80.18])\n",
    "x.add_row([\"TfIdf-W2V\",5,100,78.08])\n",
    "from IPython.display import Markdown, display\n",
    "def printmd(string):\n",
    "    display(Markdown(string))\n",
    "printmd('****Final Conclusion:****')\n",
    "print(x)"
   ]
  },
  {
   "cell_type": "code",
   "execution_count": null,
   "metadata": {},
   "outputs": [],
   "source": []
  }
 ],
 "metadata": {
  "colab": {
   "collapsed_sections": [
    "0Zhvc5AMMQwD"
   ],
   "name": "Amazon Fine Food Reviews Analysis.ipynb",
   "provenance": [],
   "version": "0.3.2"
  },
  "kernelspec": {
   "display_name": "Python 3",
   "language": "python",
   "name": "python3"
  },
  "language_info": {
   "codemirror_mode": {
    "name": "ipython",
    "version": 3
   },
   "file_extension": ".py",
   "mimetype": "text/x-python",
   "name": "python",
   "nbconvert_exporter": "python",
   "pygments_lexer": "ipython3",
   "version": "3.6.5"
  },
  "toc": {
   "base_numbering": 1,
   "nav_menu": {},
   "number_sections": true,
   "sideBar": true,
   "skip_h1_title": false,
   "title_cell": "Table of Contents",
   "title_sidebar": "Contents",
   "toc_cell": false,
   "toc_position": {},
   "toc_section_display": true,
   "toc_window_display": false
  },
  "varInspector": {
   "cols": {
    "lenName": 16,
    "lenType": 16,
    "lenVar": 40
   },
   "kernels_config": {
    "python": {
     "delete_cmd_postfix": "",
     "delete_cmd_prefix": "del ",
     "library": "var_list.py",
     "varRefreshCmd": "print(var_dic_list())"
    },
    "r": {
     "delete_cmd_postfix": ") ",
     "delete_cmd_prefix": "rm(",
     "library": "var_list.r",
     "varRefreshCmd": "cat(var_dic_list()) "
    }
   },
   "oldHeight": 660,
   "position": {
    "height": "657px",
    "left": "606px",
    "right": "20px",
    "top": "-14px",
    "width": "717px"
   },
   "types_to_exclude": [
    "module",
    "function",
    "builtin_function_or_method",
    "instance",
    "_Feature"
   ],
   "varInspector_section_display": "block",
   "window_display": false
  }
 },
 "nbformat": 4,
 "nbformat_minor": 1
}
